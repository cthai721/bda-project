{
 "cells": [
  {
   "cell_type": "markdown",
   "metadata": {},
   "source": [
    "# PROJECT WORK\n",
    "#### 1. Problem Description \n",
    "\n",
    "The dataset named Star is obtained from the website http://vincentarelbundock.github.io/Rdatasets/datasets.html. The dataset is a collection of 5748 observations of individual performance in math and reading tests accross 79 different schools. The variables are class sizes, years of teaching experience, gender, qualified for free lunch and race. Below are 5 example instances of the original dataset:\n",
    "\n",
    "![Data](./Fig/OriginalData.png)\n",
    "\n",
    "\n",
    "For the scope of this project work, we focus on choosing only one variable and regress math scores based on that variable. The variable chosen here is years of teaching experience. Comparing the original distribution of math scores vs. log-scale of math scores, log-scale math scores seems to follow normal distribution better. Therefore, we choose to build our models with log-scale math scores. \n",
    "\n",
    "Data distribution:\n",
    "![Math](./Fig/Math.png)\n",
    "\n",
    "\n",
    "#### 2. Model description\n",
    "\n",
    "In the sections following, we will go through 4 different models:\n",
    "\n",
    "- Pooled model: all school belongs to the same distribution, log math scores is regressed based on years of teaching experience.  Parameters are beta1, beta2 and sigma that are common for all schools.  \n",
    "                                        y ~ N(beta1 + beta2*x, sigma) \n",
    "- Separate model: each school has its own separate model. The parameters are alpha (unique for each school), beta and sigma (common for all schools)\n",
    "                                        mu = alpha_school + beta*x\n",
    "                                        y ~ N(mu, sigma)\n",
    "- Varying slop and intercept model: each school has its own separate model with both alpha and beta unique for each school, sigma is common for all schools. Alpha and beta follows normal distribution with priors:\n",
    "                                        mu_alpha ~ N(0,1)\n",
    "                                        mu_beta ~ N(0,1)\n",
    "                                        alpha ~ N(mu_alpha, sigma_alpha)\n",
    "                                        alpha ~ N(mu_alpha, sigma_alpha)\n",
    "                                        mu = alpha_school + beta_school*x\n",
    "                                        y ~ N(mu, sigma)\n",
    "- Hierarchical model: Similar to the varying slope and intercept model but we only use prior for alpha. \n",
    "                                        mu_alpha ~ N(0,1)\n",
    "                                        alpha ~ N(mu_alpha, sigma_alpha)\n",
    "                                        beta ~ N(0,1)\n",
    "                                        mu = \n",
    "                                        y ~ N(mu, sigma)\n",
    "\n",
    "For evaluation purpose, we split up training-test data with the corresponding percentage 80-20 to evaluate the accuracy of each models. \n",
    "\n",
    "The codes are passed to PyStan and simulated with 2 chains in 1000 iterations. \n",
    "\n",
    "#### 2.1. Pooled model \n",
    "\n",
    "Stan code:"
   ]
  },
  {
   "cell_type": "markdown",
   "metadata": {},
   "source": [
    "`data {\n",
    "    int<lower=0>  N; //Number of train data\n",
    "    int<lower=0> M; //Number of test data\n",
    "    vector[N] x; // Variable - teaching experience\n",
    "    vector[M] x_test; // Test variable \n",
    "    vector[N] y; // Labels - log math score\n",
    "}\n",
    "parameters {\n",
    "    vector[2] beta;\n",
    "    real<lower=0> sigma; //sigma is constrained to be positive \n",
    "}\n",
    "model {\n",
    "    y ~ normal(beta[1] + beta[2]*x, sigma); \n",
    "}\n",
    "generated quantities{\n",
    "    vector[N] log_lik;\n",
    "    vector[M] y_pred_test;\n",
    "    for (i in 1:M)\n",
    "     y_pred_test[i] = normal_rng(beta[1] + beta[2]*x_test[i], sigma);\n",
    "    for (i in 1:N)\n",
    "     log_lik[i] = normal_lpdf(y[i]| beta[1] + beta[2]*x[i], sigma);\n",
    "}`"
   ]
  },
  {
   "cell_type": "markdown",
   "metadata": {},
   "source": [
    "#### 2.2. Separate model \n",
    "\n",
    "Stan code"
   ]
  },
  {
   "cell_type": "markdown",
   "metadata": {},
   "source": [
    "`data{\n",
    "    int<lower=0> N;\n",
    "    int<lower=1, upper=79> school[N]; #school indicator\n",
    "    vector[N] x;\n",
    "    vector[N] y;\n",
    "}\n",
    "parameters {\n",
    "    vector[79] alpha;\n",
    "    real beta; \n",
    "    real<lower=0> sigma;\n",
    "}\n",
    "transformed parameters {\n",
    "    vector[N] mu;  \n",
    "    for (i in 1:N)\n",
    "        mu[i] <- beta* x[i] + alpha[school[i]];\n",
    "}\n",
    "model {\n",
    "    y ~ normal(mu, sigma);\n",
    "}\n",
    "generated quantities{\n",
    "    vector[N] log_lik;\n",
    "    for (i in 1:N)\n",
    "     log_lik[i] = normal_lpdf(y[i]| mu[i], sigma);\n",
    "}`"
   ]
  },
  {
   "cell_type": "markdown",
   "metadata": {},
   "source": [
    "#### 2.3. Varying intercept and slope model \n",
    "Stan code:"
   ]
  },
  {
   "cell_type": "markdown",
   "metadata": {},
   "source": [
    "    `data {\n",
    "      int<lower=0> N;\n",
    "      int<lower=0> J;\n",
    "      vector[N] y;\n",
    "      vector[N] x;\n",
    "      int school[N];\n",
    "    }\n",
    "    parameters {\n",
    "      real<lower=0> sigma;\n",
    "      real<lower=0> sigma_a;\n",
    "      real<lower=0> sigma_b;\n",
    "      vector[J] alpha;\n",
    "      vector[J] beta;\n",
    "      real mu_a;\n",
    "      real mu_b;\n",
    "    }\n",
    "    transformed parameters {\n",
    "        vector[N] mu;  \n",
    "        for (i in 1:N)\n",
    "            mu[i] <- alpha[school[i]] + beta[school[i]]*x[i];\n",
    "    }\n",
    "    model {\n",
    "      mu_a ~ normal(0, 1);\n",
    "      mu_b ~ normal(0, 1);\n",
    "\n",
    "      alpha ~ normal(mu_a, sigma_a);\n",
    "      beta ~ normal(mu_b, sigma_b);\n",
    "      y ~ normal(mu, sigma);\n",
    "    }\n",
    "\n",
    "    generated quantities{\n",
    "        vector[N] log_lik;\n",
    "        for (i in 1:N)\n",
    "         log_lik[i] = normal_lpdf(y[i]| mu[i], sigma);\n",
    "    }`"
   ]
  },
  {
   "cell_type": "markdown",
   "metadata": {},
   "source": [
    "#### 2.4. Hierarchical model \n",
    "Stan code:"
   ]
  },
  {
   "cell_type": "markdown",
   "metadata": {},
   "source": [
    "#### 3. Convergence and Result\n",
    "#### 3.1. Pooled model \n",
    "\n",
    "R-hat for all variables is approximately 1.0, so we can conclude that the model has converged. Checking effective sample size and divergence returns value True, meaning that there is no problem with the model. The graph below demonstrates the fitted line. \n",
    "![Pooledmodel](./Fig/Pooledmodel.png)\n",
    "\n",
    "\n",
    "#### 3.2. Separate model  \n",
    "R-hat for all variables is approximately 1.0, so we can conclude that the model has converged. Checking effective sample size and divergence returns value True, meaning that there is no problem with the model.\n",
    "Alpha (intercept) calculated for different schools:\n",
    "![Sepmodel_alpha](./Fig/Intercept_separate.png)\n",
    "\n",
    "#### 3.3. Varying intercept and slope model\n",
    "R-hat for all variables is approximately 1.0, so we can conclude that the model has converged. Checking effective sample size and divergence returns value True, meaning that there is no problem with the model.\n",
    "Alpha (intercept) calculated for different schools:\n",
    "![varymodel_alpha](./Fig/Intercept_varymodel.png)\n",
    "\n",
    "\n",
    "Beta (slope) calculated for different schools:\n",
    "![varymodel_beta](./Fig/Slope_Varymodel.png)\n",
    "\n",
    "\n",
    "#### 3.4. Hierarchical model  \n",
    "\n"
   ]
  },
  {
   "cell_type": "markdown",
   "metadata": {},
   "source": [
    "#### 4. Model evaluation with Psis-loo \n",
    "\n",
    "Two methods for model evaluation has been used in this project: psis-loo and MAE.\n",
    "\n",
    "Psisloo results for each model:\n",
    "\n",
    "| Measurements | Pooled model | Separate model | Varying intercept and slope | Hierarchical model |\n",
    "| --- | --- | --- | --- | --- |\n",
    "| psis-loo | 1960.56 | 2176 | 5908 | --- |\n",
    "| p_eff | 3 | 80 | -3669 | --- |\n",
    "| k > 0.5 | None | Some | Some | --- |\n",
    "\n",
    "Scatter plot of ks values for different models:\n",
    "\n",
    "- Pooled model: all k values is below 0.5. We can conclude that the parameter estimations of the model is reliable\n",
    "\n",
    "![k_values_pooled](./Fig/k_pooled.png)\n",
    "\n",
    "- Separate model: some k values is higher than 0.5. The estimates might be biased. \n",
    "\n",
    "![k_values_separate](./Fig/k_separate.png)\n",
    "\n",
    "- Vary slope and intercept model: some k values is higher than 0.5. The estimates might be biased. \n",
    "\n",
    "![k_values_vary](./Fig/k_varymodel.png)\n",
    "\n",
    "- Hierarchical model:\n",
    "\n",
    "#### 5. Posterior predictive checking  \n",
    "MAE and MSE results for each model:\n",
    "\n",
    "| Measurements | Pooled model | Separate model | Varying intercept and slope | Hierarchical model |\n",
    "| --- | --- | --- | --- | --- |\n",
    "| MAE | 0.077 | 0.069 | --- | --- |\n",
    "| MSE| 0.009 | 0.079 | --- | --- |\n",
    "\n",
    "Posterior distribution:\n",
    "\n",
    "- Pooled model\n",
    "- Separate model\n",
    "- Vary slope and intercept model\n",
    "- Hierarchical model \n",
    "\n",
    "Model comparison: Model .... is most suitable for the dataset because ....\n",
    "\n",
    "#### 6. Conclusion and potential improvements\n",
    "In conclusion, it seems that model ... performs the best. \n",
    "\n",
    "<What can be concluded from the result? Does school level affect performance? Does teaching experience affect performance? What to do to maximize math score result?>\n",
    "\n",
    "Within the scope of this project, we only explore one variable effect on math score results. Further analysis can be done with additional variables to improve prediction accuracy.  \n",
    "\n",
    "#### 7. References\n",
    "\n",
    "Codes adapted from Fonnesbeck, C. A Primer on Bayesian Multilevel Modeling using PyStan. URL: http://mc-stan.org/users/documentation/case-studies/radon.html?fbclid=IwAR3h_03XtQnyJQ18EOdREkPX-4biDX7c5AN5e9DPQzQLZ6hB2JRFh1gHemQ\n",
    "\n",
    "Dataset collected from Rdatasets. URL: http://vincentarelbundock.github.io/Rdatasets/datasets.html"
   ]
  },
  {
   "cell_type": "code",
   "execution_count": 1,
   "metadata": {},
   "outputs": [
    {
     "name": "stderr",
     "output_type": "stream",
     "text": [
      "WARNING (theano.tensor.blas): Using NumPy C-API based implementation for BLAS functions.\n"
     ]
    }
   ],
   "source": [
    "%matplotlib inline\n",
    "import numpy as np\n",
    "import pandas as pd\n",
    "import matplotlib.pyplot as plt\n",
    "import seaborn as sns; sns.set_context('notebook')\n",
    "import pymc3 as pm"
   ]
  },
  {
   "cell_type": "code",
   "execution_count": 2,
   "metadata": {},
   "outputs": [],
   "source": [
    "from sklearn.metrics import mean_absolute_error as MAE\n",
    "from sklearn.metrics import mean_squared_error as MSE"
   ]
  },
  {
   "cell_type": "code",
   "execution_count": 4,
   "metadata": {},
   "outputs": [
    {
     "data": {
      "text/html": [
       "<div>\n",
       "<style scoped>\n",
       "    .dataframe tbody tr th:only-of-type {\n",
       "        vertical-align: middle;\n",
       "    }\n",
       "\n",
       "    .dataframe tbody tr th {\n",
       "        vertical-align: top;\n",
       "    }\n",
       "\n",
       "    .dataframe thead th {\n",
       "        text-align: right;\n",
       "    }\n",
       "</style>\n",
       "<table border=\"1\" class=\"dataframe\">\n",
       "  <thead>\n",
       "    <tr style=\"text-align: right;\">\n",
       "      <th></th>\n",
       "      <th>School Name</th>\n",
       "      <th>Borough</th>\n",
       "      <th>Building Code</th>\n",
       "      <th>Street Address</th>\n",
       "      <th>City</th>\n",
       "      <th>State</th>\n",
       "      <th>Zip Code</th>\n",
       "      <th>Latitude</th>\n",
       "      <th>Longitude</th>\n",
       "      <th>Phone Number</th>\n",
       "      <th>...</th>\n",
       "      <th>End Time</th>\n",
       "      <th>Student Enrollment</th>\n",
       "      <th>Percent White</th>\n",
       "      <th>Percent Black</th>\n",
       "      <th>Percent Hispanic</th>\n",
       "      <th>Percent Asian</th>\n",
       "      <th>Average Score (SAT Math)</th>\n",
       "      <th>Average Score (SAT Reading)</th>\n",
       "      <th>Average Score (SAT Writing)</th>\n",
       "      <th>Percent Tested</th>\n",
       "    </tr>\n",
       "    <tr>\n",
       "      <th>School ID</th>\n",
       "      <th></th>\n",
       "      <th></th>\n",
       "      <th></th>\n",
       "      <th></th>\n",
       "      <th></th>\n",
       "      <th></th>\n",
       "      <th></th>\n",
       "      <th></th>\n",
       "      <th></th>\n",
       "      <th></th>\n",
       "      <th></th>\n",
       "      <th></th>\n",
       "      <th></th>\n",
       "      <th></th>\n",
       "      <th></th>\n",
       "      <th></th>\n",
       "      <th></th>\n",
       "      <th></th>\n",
       "      <th></th>\n",
       "      <th></th>\n",
       "      <th></th>\n",
       "    </tr>\n",
       "  </thead>\n",
       "  <tbody>\n",
       "    <tr>\n",
       "      <th>02M260</th>\n",
       "      <td>Clinton School Writers and Artists</td>\n",
       "      <td>Manhattan</td>\n",
       "      <td>M933</td>\n",
       "      <td>425 West 33rd Street</td>\n",
       "      <td>Manhattan</td>\n",
       "      <td>NY</td>\n",
       "      <td>10001</td>\n",
       "      <td>40.75321</td>\n",
       "      <td>-73.99786</td>\n",
       "      <td>212-695-9114</td>\n",
       "      <td>...</td>\n",
       "      <td>NaN</td>\n",
       "      <td>NaN</td>\n",
       "      <td>NaN</td>\n",
       "      <td>NaN</td>\n",
       "      <td>NaN</td>\n",
       "      <td>NaN</td>\n",
       "      <td>NaN</td>\n",
       "      <td>NaN</td>\n",
       "      <td>NaN</td>\n",
       "      <td>NaN</td>\n",
       "    </tr>\n",
       "    <tr>\n",
       "      <th>06M211</th>\n",
       "      <td>Inwood Early College for Health and Informatio...</td>\n",
       "      <td>Manhattan</td>\n",
       "      <td>M052</td>\n",
       "      <td>650 Academy Street</td>\n",
       "      <td>Manhattan</td>\n",
       "      <td>NY</td>\n",
       "      <td>10002</td>\n",
       "      <td>40.86605</td>\n",
       "      <td>-73.92486</td>\n",
       "      <td>718-935-3660</td>\n",
       "      <td>...</td>\n",
       "      <td>3:00 PM</td>\n",
       "      <td>87.0</td>\n",
       "      <td>3.4%</td>\n",
       "      <td>21.8%</td>\n",
       "      <td>67.8%</td>\n",
       "      <td>4.6%</td>\n",
       "      <td>NaN</td>\n",
       "      <td>NaN</td>\n",
       "      <td>NaN</td>\n",
       "      <td>NaN</td>\n",
       "    </tr>\n",
       "    <tr>\n",
       "      <th>01M539</th>\n",
       "      <td>New Explorations into Science, Technology and ...</td>\n",
       "      <td>Manhattan</td>\n",
       "      <td>M022</td>\n",
       "      <td>111 Columbia Street</td>\n",
       "      <td>Manhattan</td>\n",
       "      <td>NY</td>\n",
       "      <td>10002</td>\n",
       "      <td>40.71873</td>\n",
       "      <td>-73.97943</td>\n",
       "      <td>212-677-5190</td>\n",
       "      <td>...</td>\n",
       "      <td>4:00 PM</td>\n",
       "      <td>1735.0</td>\n",
       "      <td>28.6%</td>\n",
       "      <td>13.3%</td>\n",
       "      <td>18.0%</td>\n",
       "      <td>38.5%</td>\n",
       "      <td>657.0</td>\n",
       "      <td>601.0</td>\n",
       "      <td>601.0</td>\n",
       "      <td>91.0%</td>\n",
       "    </tr>\n",
       "    <tr>\n",
       "      <th>02M294</th>\n",
       "      <td>Essex Street Academy</td>\n",
       "      <td>Manhattan</td>\n",
       "      <td>M445</td>\n",
       "      <td>350 Grand Street</td>\n",
       "      <td>Manhattan</td>\n",
       "      <td>NY</td>\n",
       "      <td>10002</td>\n",
       "      <td>40.71687</td>\n",
       "      <td>-73.98953</td>\n",
       "      <td>212-475-4773</td>\n",
       "      <td>...</td>\n",
       "      <td>2:45 PM</td>\n",
       "      <td>358.0</td>\n",
       "      <td>11.7%</td>\n",
       "      <td>38.5%</td>\n",
       "      <td>41.3%</td>\n",
       "      <td>5.9%</td>\n",
       "      <td>395.0</td>\n",
       "      <td>411.0</td>\n",
       "      <td>387.0</td>\n",
       "      <td>78.9%</td>\n",
       "    </tr>\n",
       "    <tr>\n",
       "      <th>02M308</th>\n",
       "      <td>Lower Manhattan Arts Academy</td>\n",
       "      <td>Manhattan</td>\n",
       "      <td>M445</td>\n",
       "      <td>350 Grand Street</td>\n",
       "      <td>Manhattan</td>\n",
       "      <td>NY</td>\n",
       "      <td>10002</td>\n",
       "      <td>40.71687</td>\n",
       "      <td>-73.98953</td>\n",
       "      <td>212-505-0143</td>\n",
       "      <td>...</td>\n",
       "      <td>3:00 PM</td>\n",
       "      <td>383.0</td>\n",
       "      <td>3.1%</td>\n",
       "      <td>28.2%</td>\n",
       "      <td>56.9%</td>\n",
       "      <td>8.6%</td>\n",
       "      <td>418.0</td>\n",
       "      <td>428.0</td>\n",
       "      <td>415.0</td>\n",
       "      <td>65.1%</td>\n",
       "    </tr>\n",
       "  </tbody>\n",
       "</table>\n",
       "<p>5 rows × 21 columns</p>\n",
       "</div>"
      ],
      "text/plain": [
       "                                                 School Name    Borough  \\\n",
       "School ID                                                                 \n",
       "02M260                    Clinton School Writers and Artists  Manhattan   \n",
       "06M211     Inwood Early College for Health and Informatio...  Manhattan   \n",
       "01M539     New Explorations into Science, Technology and ...  Manhattan   \n",
       "02M294                                  Essex Street Academy  Manhattan   \n",
       "02M308                          Lower Manhattan Arts Academy  Manhattan   \n",
       "\n",
       "          Building Code        Street Address       City State  Zip Code  \\\n",
       "School ID                                                                  \n",
       "02M260             M933  425 West 33rd Street  Manhattan    NY     10001   \n",
       "06M211             M052    650 Academy Street  Manhattan    NY     10002   \n",
       "01M539             M022   111 Columbia Street  Manhattan    NY     10002   \n",
       "02M294             M445      350 Grand Street  Manhattan    NY     10002   \n",
       "02M308             M445      350 Grand Street  Manhattan    NY     10002   \n",
       "\n",
       "           Latitude  Longitude    Phone Number       ...       End Time  \\\n",
       "School ID                                            ...                  \n",
       "02M260     40.75321  -73.99786    212-695-9114       ...            NaN   \n",
       "06M211     40.86605  -73.92486  718-935-3660         ...        3:00 PM   \n",
       "01M539     40.71873  -73.97943    212-677-5190       ...        4:00 PM   \n",
       "02M294     40.71687  -73.98953    212-475-4773       ...        2:45 PM   \n",
       "02M308     40.71687  -73.98953    212-505-0143       ...        3:00 PM   \n",
       "\n",
       "          Student Enrollment  Percent White Percent Black Percent Hispanic  \\\n",
       "School ID                                                                    \n",
       "02M260                   NaN            NaN           NaN              NaN   \n",
       "06M211                  87.0           3.4%         21.8%            67.8%   \n",
       "01M539                1735.0          28.6%         13.3%            18.0%   \n",
       "02M294                 358.0          11.7%         38.5%            41.3%   \n",
       "02M308                 383.0           3.1%         28.2%            56.9%   \n",
       "\n",
       "          Percent Asian Average Score (SAT Math)  Average Score (SAT Reading)  \\\n",
       "School ID                                                                       \n",
       "02M260              NaN                      NaN                          NaN   \n",
       "06M211             4.6%                      NaN                          NaN   \n",
       "01M539            38.5%                    657.0                        601.0   \n",
       "02M294             5.9%                    395.0                        411.0   \n",
       "02M308             8.6%                    418.0                        428.0   \n",
       "\n",
       "           Average Score (SAT Writing)  Percent Tested  \n",
       "School ID                                               \n",
       "02M260                             NaN             NaN  \n",
       "06M211                             NaN             NaN  \n",
       "01M539                           601.0           91.0%  \n",
       "02M294                           387.0           78.9%  \n",
       "02M308                           415.0           65.1%  \n",
       "\n",
       "[5 rows x 21 columns]"
      ]
     },
     "execution_count": 4,
     "metadata": {},
     "output_type": "execute_result"
    }
   ],
   "source": [
    "score = pd.read_csv('NYC Public Schools/scores.csv', index_col=0, header = 0)\n",
    "score.head()"
   ]
  },
  {
   "cell_type": "code",
   "execution_count": 4,
   "metadata": {},
   "outputs": [
    {
     "name": "stdout",
     "output_type": "stream",
     "text": [
      "<class 'pandas.core.frame.DataFrame'>\n",
      "Index: 374 entries, 01M539 to 27Q323\n",
      "Data columns (total 21 columns):\n",
      "School Name                    374 non-null object\n",
      "Borough                        374 non-null object\n",
      "Building Code                  374 non-null object\n",
      "Street Address                 374 non-null object\n",
      "City                           374 non-null object\n",
      "State                          374 non-null object\n",
      "Zip Code                       374 non-null int64\n",
      "Latitude                       374 non-null float64\n",
      "Longitude                      374 non-null float64\n",
      "Phone Number                   374 non-null object\n",
      "Start Time                     374 non-null object\n",
      "End Time                       374 non-null object\n",
      "Student Enrollment             374 non-null float64\n",
      "Percent White                  374 non-null object\n",
      "Percent Black                  374 non-null object\n",
      "Percent Hispanic               374 non-null object\n",
      "Percent Asian                  374 non-null object\n",
      "Average Score (SAT Math)       374 non-null float64\n",
      "Average Score (SAT Reading)    374 non-null float64\n",
      "Average Score (SAT Writing)    374 non-null float64\n",
      "Percent Tested                 374 non-null object\n",
      "dtypes: float64(6), int64(1), object(14)\n",
      "memory usage: 64.3+ KB\n"
     ]
    }
   ],
   "source": [
    "score = score.dropna()\n",
    "\n",
    "score.info()"
   ]
  },
  {
   "cell_type": "code",
   "execution_count": 6,
   "metadata": {},
   "outputs": [
    {
     "data": {
      "text/html": [
       "<div>\n",
       "<style scoped>\n",
       "    .dataframe tbody tr th:only-of-type {\n",
       "        vertical-align: middle;\n",
       "    }\n",
       "\n",
       "    .dataframe tbody tr th {\n",
       "        vertical-align: top;\n",
       "    }\n",
       "\n",
       "    .dataframe thead th {\n",
       "        text-align: right;\n",
       "    }\n",
       "</style>\n",
       "<table border=\"1\" class=\"dataframe\">\n",
       "  <thead>\n",
       "    <tr style=\"text-align: right;\">\n",
       "      <th></th>\n",
       "      <th>SchoolName</th>\n",
       "      <th>Borough</th>\n",
       "      <th>City</th>\n",
       "      <th>Enrollment</th>\n",
       "      <th>PercentWhite</th>\n",
       "      <th>PercentAsian</th>\n",
       "      <th>math</th>\n",
       "    </tr>\n",
       "    <tr>\n",
       "      <th>School ID</th>\n",
       "      <th></th>\n",
       "      <th></th>\n",
       "      <th></th>\n",
       "      <th></th>\n",
       "      <th></th>\n",
       "      <th></th>\n",
       "      <th></th>\n",
       "    </tr>\n",
       "  </thead>\n",
       "  <tbody>\n",
       "    <tr>\n",
       "      <th>02M260</th>\n",
       "      <td>Clinton School Writers and Artists</td>\n",
       "      <td>Manhattan</td>\n",
       "      <td>Manhattan</td>\n",
       "      <td>NaN</td>\n",
       "      <td>NaN</td>\n",
       "      <td>NaN</td>\n",
       "      <td>NaN</td>\n",
       "    </tr>\n",
       "    <tr>\n",
       "      <th>06M211</th>\n",
       "      <td>Inwood Early College for Health and Informatio...</td>\n",
       "      <td>Manhattan</td>\n",
       "      <td>Manhattan</td>\n",
       "      <td>87.0</td>\n",
       "      <td>3.4%</td>\n",
       "      <td>4.6%</td>\n",
       "      <td>NaN</td>\n",
       "    </tr>\n",
       "    <tr>\n",
       "      <th>01M539</th>\n",
       "      <td>New Explorations into Science, Technology and ...</td>\n",
       "      <td>Manhattan</td>\n",
       "      <td>Manhattan</td>\n",
       "      <td>1735.0</td>\n",
       "      <td>28.6%</td>\n",
       "      <td>38.5%</td>\n",
       "      <td>657.0</td>\n",
       "    </tr>\n",
       "    <tr>\n",
       "      <th>02M294</th>\n",
       "      <td>Essex Street Academy</td>\n",
       "      <td>Manhattan</td>\n",
       "      <td>Manhattan</td>\n",
       "      <td>358.0</td>\n",
       "      <td>11.7%</td>\n",
       "      <td>5.9%</td>\n",
       "      <td>395.0</td>\n",
       "    </tr>\n",
       "    <tr>\n",
       "      <th>02M308</th>\n",
       "      <td>Lower Manhattan Arts Academy</td>\n",
       "      <td>Manhattan</td>\n",
       "      <td>Manhattan</td>\n",
       "      <td>383.0</td>\n",
       "      <td>3.1%</td>\n",
       "      <td>8.6%</td>\n",
       "      <td>418.0</td>\n",
       "    </tr>\n",
       "  </tbody>\n",
       "</table>\n",
       "</div>"
      ],
      "text/plain": [
       "                                                  SchoolName    Borough  \\\n",
       "School ID                                                                 \n",
       "02M260                    Clinton School Writers and Artists  Manhattan   \n",
       "06M211     Inwood Early College for Health and Informatio...  Manhattan   \n",
       "01M539     New Explorations into Science, Technology and ...  Manhattan   \n",
       "02M294                                  Essex Street Academy  Manhattan   \n",
       "02M308                          Lower Manhattan Arts Academy  Manhattan   \n",
       "\n",
       "                City  Enrollment PercentWhite PercentAsian   math  \n",
       "School ID                                                          \n",
       "02M260     Manhattan         NaN          NaN          NaN    NaN  \n",
       "06M211     Manhattan        87.0         3.4%         4.6%    NaN  \n",
       "01M539     Manhattan      1735.0        28.6%        38.5%  657.0  \n",
       "02M294     Manhattan       358.0        11.7%         5.9%  395.0  \n",
       "02M308     Manhattan       383.0         3.1%         8.6%  418.0  "
      ]
     },
     "execution_count": 6,
     "metadata": {},
     "output_type": "execute_result"
    }
   ],
   "source": [
    "df = score[['School Name', 'Borough', 'City', 'Student Enrollment', 'Percent White', 'Percent Asian','Average Score (SAT Math)']].copy()\n",
    "df.columns = ['SchoolName', \"Borough\", \"City\", \"Enrollment\", \"PercentWhite\", \"PercentAsian\", \"math\"]\n",
    "df.head()"
   ]
  },
  {
   "cell_type": "code",
   "execution_count": 7,
   "metadata": {},
   "outputs": [
    {
     "data": {
      "text/plain": [
       "array(['Manhattan', 'Staten Island', 'Bronx', 'Queens', 'Brooklyn'],\n",
       "      dtype=object)"
      ]
     },
     "execution_count": 7,
     "metadata": {},
     "output_type": "execute_result"
    }
   ],
   "source": [
    "score.Borough.unique()"
   ]
  },
  {
   "cell_type": "code",
   "execution_count": 8,
   "metadata": {},
   "outputs": [
    {
     "name": "stdout",
     "output_type": "stream",
     "text": [
      "Brooklyn         121\n",
      "Bronx            118\n",
      "Manhattan        106\n",
      "Queens            80\n",
      "Staten Island     10\n",
      "Name: Borough, dtype: int64\n",
      "                                                  SchoolName  Borough  \\\n",
      "School ID                                                               \n",
      "02M260                    Clinton School Writers and Artists        1   \n",
      "06M211     Inwood Early College for Health and Informatio...        1   \n",
      "01M539     New Explorations into Science, Technology and ...        1   \n",
      "02M294                                  Essex Street Academy        1   \n",
      "02M308                          Lower Manhattan Arts Academy        1   \n",
      "\n",
      "                City  Enrollment PercentWhite PercentAsian   math  \n",
      "School ID                                                          \n",
      "02M260     Manhattan         NaN          NaN          NaN    NaN  \n",
      "06M211     Manhattan        87.0         3.4%         4.6%    NaN  \n",
      "01M539     Manhattan      1735.0        28.6%        38.5%  657.0  \n",
      "02M294     Manhattan       358.0        11.7%         5.9%  395.0  \n",
      "02M308     Manhattan       383.0         3.1%         8.6%  418.0  \n",
      "[1 2 3 4 5]\n"
     ]
    }
   ],
   "source": [
    "print(df.Borough.value_counts())\n",
    "replace_map = {'Borough':{'Manhattan': 1,'Staten Island': 2, 'Bronx': 3, 'Queens':4, 'Brooklyn':5}}\n",
    "df.replace(replace_map, inplace = True)\n",
    "print(df.head())\n",
    "boroughs = df.Borough.unique()\n",
    "print(boroughs)\n",
    "\n"
   ]
  },
  {
   "cell_type": "code",
   "execution_count": 8,
   "metadata": {},
   "outputs": [
    {
     "data": {
      "text/plain": [
       "Borough      -0.154972\n",
       "Enrollment    0.442820\n",
       "math          1.000000\n",
       "Name: math, dtype: float64"
      ]
     },
     "execution_count": 8,
     "metadata": {},
     "output_type": "execute_result"
    }
   ],
   "source": [
    "df.corr()['math'].sort_values()"
   ]
  },
  {
   "cell_type": "code",
   "execution_count": 9,
   "metadata": {},
   "outputs": [
    {
     "name": "stderr",
     "output_type": "stream",
     "text": [
      "WARNING:matplotlib.legend:No handles with labels found to put in legend.\n"
     ]
    },
    {
     "data": {
      "image/png": "[encoded data removed]",
      "text/plain": [
       "<Figure size 576x360 with 1 Axes>"
      ]
     },
     "metadata": {},
     "output_type": "display_data"
    }
   ],
   "source": [
    "plt.figure(figsize = (8,5))\n",
    "plt.hist(np.log(df.math), bins = 25)\n",
    "plt.title(\"Distribution of math score (log-scale)\")\n",
    "plt.legend()\n",
    "plt.show()\n"
   ]
  },
  {
   "cell_type": "markdown",
   "metadata": {},
   "source": [
    "### Train/Test Split"
   ]
  },
  {
   "cell_type": "code",
   "execution_count": 10,
   "metadata": {},
   "outputs": [],
   "source": [
    "X = df.drop('math', axis=1)\n",
    "Y = np.log(df.math)"
   ]
  },
  {
   "cell_type": "code",
   "execution_count": 11,
   "metadata": {},
   "outputs": [],
   "source": [
    "indices = range(df.shape[0])\n",
    "i_boroughs= []\n",
    "len_iboroughs = []"
   ]
  },
  {
   "cell_type": "code",
   "execution_count": 12,
   "metadata": {},
   "outputs": [],
   "source": [
    "for s in boroughs:\n",
    "    i_borough = np.where(df.Borough == s)[0]\n",
    "    len_iboroughs.append(len(i_borough))\n",
    "    i_boroughs.append(i_borough)"
   ]
  },
  {
   "cell_type": "code",
   "execution_count": 13,
   "metadata": {},
   "outputs": [],
   "source": [
    "min_len = min(len_iboroughs)\n",
    "train_size = round(min_len*0.8)"
   ]
  },
  {
   "cell_type": "code",
   "execution_count": 14,
   "metadata": {},
   "outputs": [],
   "source": [
    "train_idx = []\n",
    "test_idx = []"
   ]
  },
  {
   "cell_type": "code",
   "execution_count": 15,
   "metadata": {},
   "outputs": [],
   "source": [
    "for s in i_boroughs:\n",
    "    np.random.shuffle(s)\n",
    "    train_idx = np.concatenate((train_idx, s[:train_size]), axis=None)\n",
    "    test_idx = np.concatenate((test_idx, s[train_size:]), axis=None)"
   ]
  },
  {
   "cell_type": "code",
   "execution_count": 16,
   "metadata": {},
   "outputs": [
    {
     "data": {
      "text/plain": [
       "374"
      ]
     },
     "execution_count": 16,
     "metadata": {},
     "output_type": "execute_result"
    }
   ],
   "source": [
    "len(score)"
   ]
  },
  {
   "cell_type": "code",
   "execution_count": 17,
   "metadata": {},
   "outputs": [
    {
     "data": {
      "text/plain": [
       "40"
      ]
     },
     "execution_count": 17,
     "metadata": {},
     "output_type": "execute_result"
    }
   ],
   "source": [
    "len(train_idx)"
   ]
  },
  {
   "cell_type": "code",
   "execution_count": 18,
   "metadata": {},
   "outputs": [
    {
     "data": {
      "text/plain": [
       "334"
      ]
     },
     "execution_count": 18,
     "metadata": {},
     "output_type": "execute_result"
    }
   ],
   "source": [
    "len(test_idx)"
   ]
  },
  {
   "cell_type": "code",
   "execution_count": 19,
   "metadata": {},
   "outputs": [],
   "source": [
    "X_train = X.iloc[train_idx,:]\n",
    "X_test = X.iloc[test_idx,:].reset_index()\n",
    "Y_train = Y.iloc[train_idx]\n",
    "Y_test = Y.iloc[test_idx]"
   ]
  },
  {
   "cell_type": "markdown",
   "metadata": {},
   "source": [
    "## Pooled model "
   ]
  },
  {
   "cell_type": "code",
   "execution_count": 20,
   "metadata": {},
   "outputs": [],
   "source": [
    "pooled_code = \"\"\"\n",
    "data {\n",
    "    int<lower=0>  N;\n",
    "    int<lower=0> M;\n",
    "    vector[N] x;\n",
    "    vector[M] x_test;\n",
    "    vector[N] y;\n",
    "}\n",
    "parameters {\n",
    "    vector[2] beta;\n",
    "    real<lower=0> sigma;\n",
    "}\n",
    "model {\n",
    "    y ~ normal(beta[1] + beta[2]*x, sigma);\n",
    "}\n",
    "generated quantities{\n",
    "    vector[N] log_lik;\n",
    "    vector[M] y_pred_test;\n",
    "    for (i in 1:M)\n",
    "     y_pred_test[i] = normal_rng(beta[1] + beta[2]*x_test[i], sigma);\n",
    "    for (i in 1:N)\n",
    "     log_lik[i] = normal_lpdf(y[i]| beta[1] + beta[2]*x[i], sigma);\n",
    "}\n",
    "\n",
    "\"\"\""
   ]
  },
  {
   "cell_type": "code",
   "execution_count": 21,
   "metadata": {},
   "outputs": [],
   "source": [
    "import pystan\n",
    "import pystan.diagnostics\n",
    "\n",
    "pool_data = {\n",
    "    'N': Y_train.shape[0], \n",
    "    'M': Y_test.shape[0],\n",
    "    'x': X_train.loc[:,'Enrollment'],\n",
    "    'x_test': X_test.loc[:,'Enrollment'],\n",
    "    'y': Y_train,\n",
    "}"
   ]
  },
  {
   "cell_type": "code",
   "execution_count": 22,
   "metadata": {},
   "outputs": [
    {
     "name": "stderr",
     "output_type": "stream",
     "text": [
      "INFO:pystan:COMPILING THE C++ CODE FOR MODEL anon_model_174aac4ec68a4e0adc2676445f7b9556 NOW.\n",
      "/Users/haicuthe/anaconda2/envs/dev-env/lib/python3.6/site-packages/pystan/misc.py:399: FutureWarning: Conversion of the second argument of issubdtype from `float` to `np.floating` is deprecated. In future, it will be treated as `np.float64 == np.dtype(float).type`.\n",
      "  elif np.issubdtype(np.asarray(v).dtype, float):\n"
     ]
    }
   ],
   "source": [
    "pooled_fit = pystan.stan(model_code=pooled_code, data = pool_data, iter = 1000, chains = 2)"
   ]
  },
  {
   "cell_type": "code",
   "execution_count": 23,
   "metadata": {},
   "outputs": [
    {
     "name": "stderr",
     "output_type": "stream",
     "text": [
      "WARNING:pystan:Rhat for parameter beta[1] is nan!\n",
      "WARNING:pystan:Rhat above 1.1 or below 0.9 indicates that the chains very likely have not mixed\n"
     ]
    },
    {
     "name": "stdout",
     "output_type": "stream",
     "text": [
      "Rhat check :  False\n",
      "N_eff check :  True\n",
      "Divergence check:  True\n"
     ]
    }
   ],
   "source": [
    "print(\"Rhat check : \",pystan.diagnostics.check_rhat(pooled_fit))\n",
    "print(\"N_eff check : \",pystan.diagnostics.check_n_eff(pooled_fit))\n",
    "print(\"Divergence check: \", pystan.diagnostics.check_div(pooled_fit))"
   ]
  },
  {
   "cell_type": "code",
   "execution_count": 24,
   "metadata": {},
   "outputs": [
    {
     "name": "stdout",
     "output_type": "stream",
     "text": [
      "psisloo:  29.83924631221027\n",
      "p_eff:  2.65201162917338\n"
     ]
    },
    {
     "data": {
      "image/png": "[encoded data removed]",
      "text/plain": [
       "<Figure size 432x288 with 1 Axes>"
      ]
     },
     "metadata": {},
     "output_type": "display_data"
    }
   ],
   "source": [
    "pooled_sample = pooled_fit.extract(permuted=True)\n",
    "\n",
    "loglik = (pooled_sample[\"log_lik\"])\n",
    "psisloo = stanity.psisloo(loglik)\n",
    "print(\"psisloo: \",psisloo.elpd)\n",
    "psisloo.plot()\n",
    "lppd_pooled = 0 \n",
    "for i in range (Y_train.shape[0]):\n",
    "    lppd_pooled = lppd_pooled + np.log(np.mean(np.exp(loglik[:,i])))\n",
    "\n",
    "peff_pooled = np.sum(lppd_pooled) - psisloo.elpd\n",
    "print(\"p_eff: \", peff_pooled)\n"
   ]
  },
  {
   "cell_type": "code",
   "execution_count": 25,
   "metadata": {},
   "outputs": [
    {
     "data": {
      "text/plain": [
       "greater than 0.5    0.0\n",
       "greater than 1      0.0\n",
       "dtype: float64"
      ]
     },
     "execution_count": 25,
     "metadata": {},
     "output_type": "execute_result"
    }
   ],
   "source": [
    "psisloo.print_summary()"
   ]
  },
  {
   "cell_type": "code",
   "execution_count": 26,
   "metadata": {},
   "outputs": [
    {
     "data": {
      "image/png": "[encoded data removed]",
      "text/plain": [
       "<Figure size 432x288 with 1 Axes>"
      ]
     },
     "metadata": {},
     "output_type": "display_data"
    }
   ],
   "source": [
    "b0, m0 = pooled_sample['beta'].T.mean(1)\n",
    "plt.scatter(df.Enrollment, np.log(df.math))\n",
    "xvals = np.linspace(0,30)\n",
    "plt.plot(xvals, m0*xvals+b0, 'r--')\n",
    "plt.show()\n"
   ]
  },
  {
   "cell_type": "code",
   "execution_count": 27,
   "metadata": {},
   "outputs": [
    {
     "data": {
      "text/plain": [
       "0.105"
      ]
     },
     "execution_count": 27,
     "metadata": {},
     "output_type": "execute_result"
    },
    {
     "data": {
      "image/png": "[encoded data removed]",
      "text/plain": [
       "<Figure size 432x288 with 1 Axes>"
      ]
     },
     "metadata": {},
     "output_type": "display_data"
    }
   ],
   "source": [
    "#Comparing y_pred with y_test\n",
    "y_pred = np.mean(pooled_sample[\"y_pred_test\"], axis=0)\n",
    "plt.hist(y_pred, bins = 15)\n",
    "round(MAE(Y_test, y_pred),3)"
   ]
  },
  {
   "cell_type": "code",
   "execution_count": 28,
   "metadata": {},
   "outputs": [
    {
     "data": {
      "text/plain": [
       "0.019"
      ]
     },
     "execution_count": 28,
     "metadata": {},
     "output_type": "execute_result"
    }
   ],
   "source": [
    "round(MSE(Y_test, y_pred),3)"
   ]
  },
  {
   "cell_type": "markdown",
   "metadata": {},
   "source": [
    "##  Separate model"
   ]
  },
  {
   "cell_type": "code",
   "execution_count": 29,
   "metadata": {},
   "outputs": [],
   "source": [
    "separate_code = \"\"\"\n",
    "data{\n",
    "    int<lower=0> N;\n",
    "    int<lower=1, upper=5> boroughs[N]; #borough indicator\n",
    "    vector[N] x;\n",
    "    vector[N] y;\n",
    "}\n",
    "parameters {\n",
    "    vector[5] alpha;\n",
    "    real beta; #only 1 beta, not a vector\n",
    "    real<lower=0> sigma;\n",
    "}\n",
    "transformed parameters {\n",
    "    vector[N] mu;  \n",
    "    for (i in 1:N)\n",
    "        mu[i] <- beta* x[i] + alpha[boroughs[i]];\n",
    "}\n",
    "model {\n",
    "    y ~ normal(mu, sigma);\n",
    "}\n",
    "generated quantities{\n",
    "    vector[N] log_lik;\n",
    "    for (i in 1:N)\n",
    "     log_lik[i] = normal_lpdf(y[i]| mu[i], sigma);\n",
    "}\n",
    "\"\"\""
   ]
  },
  {
   "cell_type": "code",
   "execution_count": 30,
   "metadata": {},
   "outputs": [],
   "source": [
    "separate_data = {'N': X_train.shape[0],\n",
    "                 'boroughs': X_train.Borough,\n",
    "                 'x': X_train.loc[:,'Enrollment'],\n",
    "                 'y': Y_train }"
   ]
  },
  {
   "cell_type": "code",
   "execution_count": 31,
   "metadata": {},
   "outputs": [
    {
     "name": "stderr",
     "output_type": "stream",
     "text": [
      "INFO:pystan:COMPILING THE C++ CODE FOR MODEL anon_model_7af74d8550f98b7f9032304f811d1ece NOW.\n",
      "/Users/haicuthe/anaconda2/envs/dev-env/lib/python3.6/site-packages/pystan/misc.py:399: FutureWarning: Conversion of the second argument of issubdtype from `float` to `np.floating` is deprecated. In future, it will be treated as `np.float64 == np.dtype(float).type`.\n",
      "  elif np.issubdtype(np.asarray(v).dtype, float):\n"
     ]
    }
   ],
   "source": [
    "separate_fit = pystan.stan(model_code = separate_code, data = separate_data, iter = 1000, chains = 2)\n",
    "separate_sample = separate_fit.extract(permuted=True)"
   ]
  },
  {
   "cell_type": "code",
   "execution_count": 32,
   "metadata": {},
   "outputs": [
    {
     "name": "stderr",
     "output_type": "stream",
     "text": [
      "WARNING:pystan:Rhat for parameter beta is nan!\n",
      "WARNING:pystan:Rhat above 1.1 or below 0.9 indicates that the chains very likely have not mixed\n"
     ]
    },
    {
     "name": "stdout",
     "output_type": "stream",
     "text": [
      "Rhat check :  False\n",
      "N_eff check :  True\n",
      "Divergence check:  True\n"
     ]
    }
   ],
   "source": [
    "print(\"Rhat check : \",pystan.diagnostics.check_rhat(separate_fit))\n",
    "print(\"N_eff check : \",pystan.diagnostics.check_n_eff(separate_fit))\n",
    "print(\"Divergence check: \", pystan.diagnostics.check_div(separate_fit))"
   ]
  },
  {
   "cell_type": "code",
   "execution_count": 33,
   "metadata": {},
   "outputs": [],
   "source": [
    "alpha = np.mean(separate_fit['alpha'], axis=0)\n",
    "beta = np.mean(separate_fit['beta'])"
   ]
  },
  {
   "cell_type": "code",
   "execution_count": 34,
   "metadata": {},
   "outputs": [
    {
     "name": "stdout",
     "output_type": "stream",
     "text": [
      "psisloo:  27.635394370028067\n",
      "p_eff:  7.034757404064038\n"
     ]
    },
    {
     "data": {
      "image/png": "[encoded data removed]",
      "text/plain": [
       "<Figure size 432x288 with 1 Axes>"
      ]
     },
     "metadata": {},
     "output_type": "display_data"
    }
   ],
   "source": [
    "loglik = (separate_sample[\"log_lik\"])\n",
    "psisloo = stanity.psisloo(loglik)\n",
    "print(\"psisloo: \",psisloo.elpd)\n",
    "psisloo.plot()\n",
    "lppd_pooled = 0 \n",
    "for i in range (Y_train.shape[0]):\n",
    "    lppd_pooled = lppd_pooled + np.log(np.mean(np.exp(loglik[:,i])))\n",
    "\n",
    "peff_pooled = np.sum(lppd_pooled) - psisloo.elpd\n",
    "print(\"p_eff: \", peff_pooled)"
   ]
  },
  {
   "cell_type": "code",
   "execution_count": 35,
   "metadata": {},
   "outputs": [
    {
     "data": {
      "text/plain": [
       "greater than 0.5    0.05\n",
       "greater than 1      0.00\n",
       "dtype: float64"
      ]
     },
     "execution_count": 35,
     "metadata": {},
     "output_type": "execute_result"
    }
   ],
   "source": [
    "psisloo.print_summary()"
   ]
  },
  {
   "cell_type": "code",
   "execution_count": 36,
   "metadata": {},
   "outputs": [
    {
     "data": {
      "text/plain": [
       "(array([101., 159.,  22.,   9.,  12.,   6.,   3.,   4.,   4.,   1.,   2.,\n",
       "          4.,   2.,   2.,   3.]),\n",
       " array([6.02710962, 6.04643643, 6.06576324, 6.08509004, 6.10441685,\n",
       "        6.12374366, 6.14307047, 6.16239728, 6.18172408, 6.20105089,\n",
       "        6.2203777 , 6.23970451, 6.25903131, 6.27835812, 6.29768493,\n",
       "        6.31701174]),\n",
       " <a list of 15 Patch objects>)"
      ]
     },
     "execution_count": 36,
     "metadata": {},
     "output_type": "execute_result"
    },
    {
     "data": {
      "image/png": "[encoded data removed]",
      "text/plain": [
       "<Figure size 432x288 with 1 Axes>"
      ]
     },
     "metadata": {},
     "output_type": "display_data"
    }
   ],
   "source": [
    "Y_pred = []\n",
    "for i in range(X_test.shape[0]):\n",
    "    borough = X_test.loc[i, 'Borough']\n",
    "    Y_pred.append(alpha[borough-1] + beta*X_test.loc[i, 'Enrollment'])\n",
    "\n",
    "plt.hist(y_pred, bins = 15)"
   ]
  },
  {
   "cell_type": "code",
   "execution_count": 37,
   "metadata": {},
   "outputs": [
    {
     "data": {
      "text/plain": [
       "0.09665909939869083"
      ]
     },
     "execution_count": 37,
     "metadata": {},
     "output_type": "execute_result"
    }
   ],
   "source": [
    "MAE(Y_pred, Y_test)"
   ]
  },
  {
   "cell_type": "code",
   "execution_count": 38,
   "metadata": {},
   "outputs": [
    {
     "data": {
      "text/plain": [
       "0.017071519515892707"
      ]
     },
     "execution_count": 38,
     "metadata": {},
     "output_type": "execute_result"
    }
   ],
   "source": [
    "MSE(Y_pred, Y_test)"
   ]
  },
  {
   "cell_type": "code",
   "execution_count": 39,
   "metadata": {},
   "outputs": [
    {
     "data": {
      "image/png": "[encoded data removed]",
      "text/plain": [
       "<Figure size 1008x360 with 1 Axes>"
      ]
     },
     "metadata": {},
     "output_type": "display_data"
    }
   ],
   "source": [
    "import seaborn as sns\n",
    "sns.set(style=\"ticks\")\n",
    "\n",
    "a_sample = pd.DataFrame(separate_fit['alpha'])\n",
    "plt.figure(figsize=(14, 5))\n",
    "sns.boxplot(data=a_sample, whis=np.inf, color=\"b\")\n",
    "plt.title(\"Samples of intercept per borough\")\n",
    "plt.show()\n"
   ]
  },
  {
   "cell_type": "markdown",
   "metadata": {},
   "source": [
    "# Varying intercept and slope model"
   ]
  },
  {
   "cell_type": "code",
   "execution_count": 40,
   "metadata": {},
   "outputs": [],
   "source": [
    "varying_intercept_slope = \"\"\"\n",
    "data {\n",
    "  int<lower=0> N;\n",
    "  int<lower=0> J;\n",
    "  vector[N] y;\n",
    "  vector[N] x;\n",
    "  int boroughs[N];\n",
    "}\n",
    "parameters {\n",
    "  real<lower=0> sigma;\n",
    "  real<lower=0> sigma_a;\n",
    "  real<lower=0> sigma_b;\n",
    "  vector[J] alpha;\n",
    "  vector[J] beta;\n",
    "  real mu_a;\n",
    "  real mu_b;\n",
    "}\n",
    "transformed parameters {\n",
    "    vector[N] mu;  \n",
    "    for (i in 1:N)\n",
    "        mu[i] <- alpha[boroughs[i]] + beta[boroughs[i]]*x[i];\n",
    "}\n",
    "model {\n",
    "  mu_a ~ normal(0, 1);\n",
    "  mu_b ~ normal(0, 1);\n",
    "\n",
    "  alpha ~ normal(mu_a, sigma_a);\n",
    "  beta ~ normal(mu_b, sigma_b);\n",
    "  y ~ normal(mu, sigma);\n",
    "}\n",
    "\n",
    "generated quantities{\n",
    "    vector[N] log_lik;\n",
    "    for (i in 1:N)\n",
    "     log_lik[i] = normal_lpdf(y[i]| mu[i], sigma);\n",
    "}\n",
    "\n",
    "\"\"\""
   ]
  },
  {
   "cell_type": "code",
   "execution_count": 41,
   "metadata": {},
   "outputs": [
    {
     "name": "stderr",
     "output_type": "stream",
     "text": [
      "INFO:pystan:COMPILING THE C++ CODE FOR MODEL anon_model_989c483a074c9067ebf9bb4c197bcf99 NOW.\n",
      "/Users/haicuthe/anaconda2/envs/dev-env/lib/python3.6/site-packages/pystan/misc.py:399: FutureWarning: Conversion of the second argument of issubdtype from `float` to `np.floating` is deprecated. In future, it will be treated as `np.float64 == np.dtype(float).type`.\n",
      "  elif np.issubdtype(np.asarray(v).dtype, float):\n"
     ]
    }
   ],
   "source": [
    "varying_intercept_slope_data = {'N': df.shape[0],\n",
    "                          'J': 5,\n",
    "                          'boroughs': df.loc[:, 'Borough'],\n",
    "                          'x': df.loc[:,'Enrollment'],\n",
    "                          'y': np.log(df.math)}\n",
    "\n",
    "varying_intercept_slope_fit = pystan.stan(model_code=varying_intercept_slope, \n",
    "                                          data=varying_intercept_slope_data, \n",
    "                                          iter=1000, chains=2)\n",
    "varying_intercept_slope_sample = varying_intercept_slope_fit.extract(permuted=True)"
   ]
  },
  {
   "cell_type": "code",
   "execution_count": 42,
   "metadata": {},
   "outputs": [
    {
     "name": "stderr",
     "output_type": "stream",
     "text": [
      "WARNING:pystan:Rhat for parameter sigma_b is nan!\n",
      "WARNING:pystan:Rhat for parameter beta[0] is nan!\n",
      "WARNING:pystan:Rhat for parameter beta[1] is nan!\n",
      "WARNING:pystan:Rhat for parameter beta[2] is nan!\n",
      "WARNING:pystan:Rhat for parameter beta[3] is nan!\n",
      "WARNING:pystan:Rhat for parameter beta[4] is nan!\n",
      "WARNING:pystan:Rhat for parameter mu_b is nan!\n",
      "WARNING:pystan:Rhat above 1.1 or below 0.9 indicates that the chains very likely have not mixed\n"
     ]
    },
    {
     "name": "stdout",
     "output_type": "stream",
     "text": [
      "Rhat check :  False\n"
     ]
    },
    {
     "name": "stderr",
     "output_type": "stream",
     "text": [
      "WARNING:pystan:16 of 1000 iterations ended with a divergence (1.6%).\n",
      "WARNING:pystan:Try running with adapt_delta larger than 0.8 to remove the divergences.\n"
     ]
    },
    {
     "name": "stdout",
     "output_type": "stream",
     "text": [
      "N_eff check :  True\n",
      "Divergence check:  False\n"
     ]
    }
   ],
   "source": [
    "print(\"Rhat check : \",pystan.diagnostics.check_rhat(varying_intercept_slope_fit))\n",
    "print(\"N_eff check : \",pystan.diagnostics.check_n_eff(varying_intercept_slope_fit))\n",
    "print(\"Divergence check: \", pystan.diagnostics.check_div(varying_intercept_slope_fit))"
   ]
  },
  {
   "cell_type": "code",
   "execution_count": 43,
   "metadata": {},
   "outputs": [
    {
     "data": {
      "image/png": "[encoded data removed]",
      "text/plain": [
       "<Figure size 1008x360 with 1 Axes>"
      ]
     },
     "metadata": {},
     "output_type": "display_data"
    },
    {
     "data": {
      "image/png": "[encoded data removed]",
      "text/plain": [
       "<Figure size 1008x360 with 1 Axes>"
      ]
     },
     "metadata": {},
     "output_type": "display_data"
    }
   ],
   "source": [
    "sns.set(style=\"ticks\")\n",
    "\n",
    "a_sample = pd.DataFrame(varying_intercept_slope_sample['alpha'])\n",
    "plt.figure(figsize=(14, 5))\n",
    "sns.boxplot(data=a_sample, whis=np.inf, color=\"b\")\n",
    "plt.title(\"Samples of intercept per borough\")\n",
    "plt.show()\n",
    "\n",
    "b_sample = pd.DataFrame(varying_intercept_slope_sample['beta'])\n",
    "plt.figure(figsize=(14, 5))\n",
    "sns.boxplot(data=b_sample, whis=np.inf, color = 'g')\n",
    "plt.title(\"Samples of slope per borough\")\n",
    "plt.show()\n"
   ]
  },
  {
   "cell_type": "code",
   "execution_count": 44,
   "metadata": {},
   "outputs": [
    {
     "data": {
      "image/png": "[encoded data removed]",
      "text/plain": [
       "<Figure size 432x288 with 1 Axes>"
      ]
     },
     "metadata": {},
     "output_type": "display_data"
    }
   ],
   "source": [
    "xvals = np.arange(2)\n",
    "b = varying_intercept_slope_fit['alpha'].mean(axis=0)\n",
    "m = varying_intercept_slope_fit['beta'].mean(axis=0)\n",
    "for bi,mi in zip(b,m):\n",
    "    plt.plot(xvals, mi*xvals + bi, 'bo-', alpha=0.4)\n",
    "plt.xlim(-0.1, 1.1);"
   ]
  },
  {
   "cell_type": "code",
   "execution_count": 45,
   "metadata": {},
   "outputs": [
    {
     "name": "stdout",
     "output_type": "stream",
     "text": [
      "psisloo:  242.41088004011323\n",
      "p_eff:  -226.91741567767792\n"
     ]
    },
    {
     "data": {
      "image/png": "[encoded data removed]",
      "text/plain": [
       "<Figure size 432x288 with 1 Axes>"
      ]
     },
     "metadata": {},
     "output_type": "display_data"
    }
   ],
   "source": [
    "loglik = (varying_intercept_slope_sample[\"log_lik\"])\n",
    "psisloo = stanity.psisloo(loglik)\n",
    "print(\"psisloo: \",psisloo.elpd)\n",
    "psisloo.plot()\n",
    "lppd_pooled = 0 \n",
    "for i in range (Y_train.shape[0]):\n",
    "    lppd_pooled = lppd_pooled + np.log(np.mean(np.exp(loglik[:,i])))\n",
    "\n",
    "peff_pooled = np.sum(lppd_pooled) - psisloo.elpd\n",
    "print(\"p_eff: \", peff_pooled)"
   ]
  },
  {
   "cell_type": "code",
   "execution_count": 46,
   "metadata": {},
   "outputs": [
    {
     "data": {
      "text/plain": [
       "greater than 0.5    0.005348\n",
       "greater than 1      0.000000\n",
       "dtype: float64"
      ]
     },
     "execution_count": 46,
     "metadata": {},
     "output_type": "execute_result"
    }
   ],
   "source": [
    "psisloo.print_summary()"
   ]
  },
  {
   "cell_type": "markdown",
   "metadata": {},
   "source": [
    "## Hierarchical model"
   ]
  },
  {
   "cell_type": "code",
   "execution_count": null,
   "metadata": {},
   "outputs": [],
   "source": []
  }
 ],
 "metadata": {
  "kernelspec": {
   "display_name": "Python 3",
   "language": "python",
   "name": "python3"
  },
  "language_info": {
   "codemirror_mode": {
    "name": "ipython",
    "version": 3
   },
   "file_extension": ".py",
   "mimetype": "text/x-python",
   "name": "python",
   "nbconvert_exporter": "python",
   "pygments_lexer": "ipython3",
   "version": "3.6.7"
  }
 },
 "nbformat": 4,
 "nbformat_minor": 2
}
