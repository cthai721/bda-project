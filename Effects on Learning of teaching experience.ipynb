{
 "cells": [
  {
   "cell_type": "markdown",
   "metadata": {},
   "source": [
    "# PROJECT WORK\n",
    "#### 1. Problem Description \n",
    "\n",
    "The dataset named Star is obtained from the website http://vincentarelbundock.github.io/Rdatasets/datasets.html. The dataset is a collection of 5748 observations of individual performance in math and reading tests accross 79 different schools. The variables are class sizes, years of teaching experience, gender, qualified for free lunch and race. Below are 5 example instances of the original dataset:\n",
    "\n",
    "![Data](./Fig/OriginalData.png)\n",
    "\n",
    "\n",
    "For the scope of this project work, we focus on choosing only one variable and regress math scores based on that variable. The variable chosen here is years of teaching experience. Comparing the original distribution of math scores vs. log-scale of math scores, log-scale math scores seems to follow normal distribution better. Therefore, we choose to build our models with log-scale math scores. \n",
    "\n",
    "Data distribution:\n",
    "![Math](./Fig/Math.png)\n",
    "\n",
    "\n",
    "#### 2. Model description\n",
    "\n",
    "In the sections following, we will go through 4 different models:\n",
    "\n",
    "- Pooled model: all school belongs to the same distribution, log math scores is regressed based on years of teaching experience.  Parameters are beta1, beta2 and sigma that are common for all schools.  \n",
    "                                        y ~ N(beta1 + beta2*x, sigma) \n",
    "- Separate model: each school has its own separate model. The parameters are alpha (unique for each school), beta and sigma (common for all schools)\n",
    "                                        mu = alpha_school + beta*x\n",
    "                                        y ~ N(mu, sigma)\n",
    "- Varying slop and intercept model: each school has its own separate model with both alpha and beta unique for each school, sigma is common for all schools. Alpha and beta follows normal distribution with priors:\n",
    "                                        mu_alpha ~ N(0,1)\n",
    "                                        mu_beta ~ N(0,1)\n",
    "                                        alpha ~ N(mu_alpha, sigma_alpha)\n",
    "                                        alpha ~ N(mu_alpha, sigma_alpha)\n",
    "                                        mu = alpha_school + beta_school*x\n",
    "                                        y ~ N(mu, sigma)\n",
    "- Hierarchical model: Similar to the varying slope and intercept model but we only use prior for alpha. \n",
    "                                        mu_alpha ~ N(0,1)\n",
    "                                        alpha ~ N(mu_alpha, sigma_alpha)\n",
    "                                        beta ~ N(0,1)\n",
    "                                        mu = \n",
    "                                        y ~ N(mu, sigma)\n",
    "\n",
    "For evaluation purpose, we split up training-test data with the corresponding percentage 75-25 to evaluate the accuracy of each models. \n",
    "\n",
    "The codes are passed to PyStan and simulated with 2 chains in 1000 iterations. \n",
    "\n",
    "#### 2.1. Pooled model \n",
    "\n",
    "Stan code:"
   ]
  },
  {
   "cell_type": "markdown",
   "metadata": {},
   "source": [
    "`data {\n",
    "    int<lower=0>  N; //Number of train data\n",
    "    int<lower=0> M; //Number of test data\n",
    "    vector[N] x; // Variable - teaching experience\n",
    "    vector[M] x_test; // Test variable \n",
    "    vector[N] y; // Labels - log math score\n",
    "}\n",
    "parameters {\n",
    "    vector[2] beta;\n",
    "    real<lower=0> sigma; //sigma is constrained to be positive \n",
    "}\n",
    "model {\n",
    "    y ~ normal(beta[1] + beta[2]*x, sigma); \n",
    "}\n",
    "generated quantities{\n",
    "    vector[N] log_lik;\n",
    "    vector[M] y_pred_test;\n",
    "    for (i in 1:M)\n",
    "     y_pred_test[i] = normal_rng(beta[1] + beta[2]*x_test[i], sigma);\n",
    "    for (i in 1:N)\n",
    "     log_lik[i] = normal_lpdf(y[i]| beta[1] + beta[2]*x[i], sigma);\n",
    "}`"
   ]
  },
  {
   "cell_type": "markdown",
   "metadata": {},
   "source": [
    "#### 2.2. Separate model \n",
    "\n",
    "Stan code"
   ]
  },
  {
   "cell_type": "markdown",
   "metadata": {},
   "source": [
    "`data{\n",
    "    int<lower=0> N;\n",
    "    int<lower=1, upper=79> school[N]; #school indicator\n",
    "    vector[N] x;\n",
    "    vector[N] y;\n",
    "}\n",
    "parameters {\n",
    "    vector[79] alpha;\n",
    "    real beta; \n",
    "    real<lower=0> sigma;\n",
    "}\n",
    "transformed parameters {\n",
    "    vector[N] mu;  \n",
    "    for (i in 1:N)\n",
    "        mu[i] <- beta* x[i] + alpha[school[i]];\n",
    "}\n",
    "model {\n",
    "    y ~ normal(mu, sigma);\n",
    "}\n",
    "generated quantities{\n",
    "    vector[N] log_lik;\n",
    "    for (i in 1:N)\n",
    "     log_lik[i] = normal_lpdf(y[i]| mu[i], sigma);\n",
    "}`"
   ]
  },
  {
   "cell_type": "markdown",
   "metadata": {},
   "source": [
    "#### 2.3. Varying intercept and slope model \n",
    "Stan code:"
   ]
  },
  {
   "cell_type": "markdown",
   "metadata": {},
   "source": [
    "    `data {\n",
    "      int<lower=0> N;\n",
    "      int<lower=0> J;\n",
    "      vector[N] y;\n",
    "      vector[N] x;\n",
    "      int school[N];\n",
    "    }\n",
    "    parameters {\n",
    "      real<lower=0> sigma;\n",
    "      real<lower=0> sigma_a;\n",
    "      real<lower=0> sigma_b;\n",
    "      vector[J] alpha;\n",
    "      vector[J] beta;\n",
    "      real mu_a;\n",
    "      real mu_b;\n",
    "    }\n",
    "    transformed parameters {\n",
    "        vector[N] mu;  \n",
    "        for (i in 1:N)\n",
    "            mu[i] <- alpha[school[i]] + beta[school[i]]*x[i];\n",
    "    }\n",
    "    model {\n",
    "      mu_a ~ normal(0, 1);\n",
    "      mu_b ~ normal(0, 1);\n",
    "\n",
    "      alpha ~ normal(mu_a, sigma_a);\n",
    "      beta ~ normal(mu_b, sigma_b);\n",
    "      y ~ normal(mu, sigma);\n",
    "    }\n",
    "\n",
    "    generated quantities{\n",
    "        vector[N] log_lik;\n",
    "        for (i in 1:N)\n",
    "         log_lik[i] = normal_lpdf(y[i]| mu[i], sigma);\n",
    "    }`"
   ]
  },
  {
   "cell_type": "markdown",
   "metadata": {},
   "source": [
    "#### 2.4. Hierarchical model \n",
    "Stan code:"
   ]
  },
  {
   "cell_type": "markdown",
   "metadata": {},
   "source": [
    "#### 3. Convergence and Result\n",
    "#### 3.1. Pooled model \n",
    "\n",
    "R-hat for all variables is approximately 1.0, so we can conclude that the model has converged. Checking effective sample size and divergence returns value True, meaning that there is no problem with the model. The graph below demonstrates the fitted line. \n",
    "![Pooledmodel](./Fig/Pooledmodel.png)\n",
    "\n",
    "\n",
    "#### 3.2. Separate model  \n",
    "R-hat for all variables is approximately 1.0, so we can conclude that the model has converged. Checking effective sample size and divergence returns value True, meaning that there is no problem with the model.\n",
    "Alpha (intercept) calculated for different schools:\n",
    "![Sepmodel_alpha](./Fig/Intercept_separate.png)\n",
    "\n",
    "#### 3.3. Varying intercept and slope model\n",
    "R-hat for all variables is approximately 1.0, so we can conclude that the model has converged. Checking effective sample size and divergence returns value True, meaning that there is no problem with the model.\n",
    "Alpha (intercept) calculated for different schools:\n",
    "![varymodel_alpha](./Fig/Intercept_varymodel.png)\n",
    "\n",
    "\n",
    "Beta (slope) calculated for different schools:\n",
    "![varymodel_beta](./Fig/Slope_Varymodel.png)\n",
    "\n",
    "\n",
    "#### 3.4. Hierarchical model  \n",
    "\n"
   ]
  },
  {
   "cell_type": "markdown",
   "metadata": {},
   "source": [
    "#### 4. Model evaluation with Psis-loo \n",
    "\n",
    "Two methods for model evaluation has been used in this project: psis-loo and MAE.\n",
    "\n",
    "Psisloo results for each model:\n",
    "\n",
    "| Measurements | Pooled model | Separate model | Varying intercept and slope | Hierarchical model |\n",
    "| --- | --- | --- | --- | --- |\n",
    "| psis-loo | 1960.56 | 2176 | 5908 | --- |\n",
    "| p_eff | 3 | 80 | -3669 | --- |\n",
    "| k > 0.5 | None | Some | Some | --- |\n",
    "\n",
    "Scatter plot of ks values for different models:\n",
    "\n",
    "- Pooled model: all k values is below 0.5. We can conclude that the parameter estimations of the model is reliable\n",
    "\n",
    "![k_values_pooled](./Fig/k_pooled.png)\n",
    "\n",
    "- Separate model: some k values is higher than 0.5. The estimates might be biased. \n",
    "\n",
    "![k_values_separate](./Fig/k_separate.png)\n",
    "\n",
    "- Vary slope and intercept model: some k values is higher than 0.5. The estimates might be biased. \n",
    "\n",
    "![k_values_vary](./Fig/k_varymodel.png)\n",
    "\n",
    "- Hierarchical model:\n",
    "\n",
    "#### 5. Posterior predictive checking  \n",
    "MAE and MSE results for each model:\n",
    "\n",
    "| Measurements | Pooled model | Separate model | Varying intercept and slope | Hierarchical model |\n",
    "| --- | --- | --- | --- | --- |\n",
    "| MAE | 0.077 | 0.069 | --- | --- |\n",
    "| MSE| 0.009 | 0.079 | --- | --- |\n",
    "\n",
    "Posterior distribution:\n",
    "\n",
    "- Pooled model\n",
    "- Separate model\n",
    "- Vary slope and intercept model\n",
    "- Hierarchical model \n",
    "\n",
    "Model comparison: Model .... is most suitable for the dataset because ....\n",
    "\n",
    "#### 6. Conclusion and potential improvements\n",
    "In conclusion, it seems that model ... performs the best. \n",
    "\n",
    "<What can be concluded from the result? Does school level affect performance? Does teaching experience affect performance? What to do to maximize math score result?>\n",
    "\n",
    "Within the scope of this project, we only explore one variable effect on math score results. Further analysis can be done with additional variables to improve prediction accuracy.  \n",
    "\n",
    "#### 7. References\n",
    "\n",
    "Codes adapted from Fonnesbeck, C. A Primer on Bayesian Multilevel Modeling using PyStan. URL: http://mc-stan.org/users/documentation/case-studies/radon.html?fbclid=IwAR3h_03XtQnyJQ18EOdREkPX-4biDX7c5AN5e9DPQzQLZ6hB2JRFh1gHemQ\n",
    "\n",
    "Dataset collected from Rdatasets. URL: http://vincentarelbundock.github.io/Rdatasets/datasets.html"
   ]
  },
  {
   "cell_type": "code",
   "execution_count": 1,
   "metadata": {},
   "outputs": [],
   "source": [
    "%matplotlib inline\n",
    "import numpy as np\n",
    "import pandas as pd\n",
    "import matplotlib.pyplot as plt\n",
    "import seaborn as sns; sns.set_context('notebook')\n",
    "import stanity"
   ]
  },
  {
   "cell_type": "code",
   "execution_count": 2,
   "metadata": {},
   "outputs": [],
   "source": [
    "from sklearn.metrics import mean_absolute_error as MAE\n",
    "from sklearn.metrics import mean_squared_error as MSE"
   ]
  },
  {
   "cell_type": "code",
   "execution_count": 3,
   "metadata": {},
   "outputs": [],
   "source": [
    "np.random.seed(10)\n",
    "import warnings\n",
    "warnings.filterwarnings('ignore')"
   ]
  },
  {
   "cell_type": "code",
   "execution_count": 4,
   "metadata": {},
   "outputs": [],
   "source": [
    "star = pd.read_csv('Star.csv', index_col=0, header = 0)"
   ]
  },
  {
   "cell_type": "code",
   "execution_count": 5,
   "metadata": {},
   "outputs": [
    {
     "data": {
      "text/html": [
       "<div>\n",
       "<style scoped>\n",
       "    .dataframe tbody tr th:only-of-type {\n",
       "        vertical-align: middle;\n",
       "    }\n",
       "\n",
       "    .dataframe tbody tr th {\n",
       "        vertical-align: top;\n",
       "    }\n",
       "\n",
       "    .dataframe thead th {\n",
       "        text-align: right;\n",
       "    }\n",
       "</style>\n",
       "<table border=\"1\" class=\"dataframe\">\n",
       "  <thead>\n",
       "    <tr style=\"text-align: right;\">\n",
       "      <th></th>\n",
       "      <th>tmathssk</th>\n",
       "      <th>treadssk</th>\n",
       "      <th>classk</th>\n",
       "      <th>totexpk</th>\n",
       "      <th>sex</th>\n",
       "      <th>freelunk</th>\n",
       "      <th>race</th>\n",
       "      <th>schidkn</th>\n",
       "    </tr>\n",
       "  </thead>\n",
       "  <tbody>\n",
       "    <tr>\n",
       "      <th>2</th>\n",
       "      <td>473</td>\n",
       "      <td>447</td>\n",
       "      <td>small.class</td>\n",
       "      <td>7</td>\n",
       "      <td>girl</td>\n",
       "      <td>no</td>\n",
       "      <td>white</td>\n",
       "      <td>63</td>\n",
       "    </tr>\n",
       "    <tr>\n",
       "      <th>3</th>\n",
       "      <td>536</td>\n",
       "      <td>450</td>\n",
       "      <td>small.class</td>\n",
       "      <td>21</td>\n",
       "      <td>girl</td>\n",
       "      <td>no</td>\n",
       "      <td>black</td>\n",
       "      <td>20</td>\n",
       "    </tr>\n",
       "    <tr>\n",
       "      <th>5</th>\n",
       "      <td>463</td>\n",
       "      <td>439</td>\n",
       "      <td>regular.with.aide</td>\n",
       "      <td>0</td>\n",
       "      <td>boy</td>\n",
       "      <td>yes</td>\n",
       "      <td>black</td>\n",
       "      <td>19</td>\n",
       "    </tr>\n",
       "    <tr>\n",
       "      <th>11</th>\n",
       "      <td>559</td>\n",
       "      <td>448</td>\n",
       "      <td>regular</td>\n",
       "      <td>16</td>\n",
       "      <td>boy</td>\n",
       "      <td>no</td>\n",
       "      <td>white</td>\n",
       "      <td>69</td>\n",
       "    </tr>\n",
       "    <tr>\n",
       "      <th>12</th>\n",
       "      <td>489</td>\n",
       "      <td>447</td>\n",
       "      <td>small.class</td>\n",
       "      <td>5</td>\n",
       "      <td>boy</td>\n",
       "      <td>yes</td>\n",
       "      <td>white</td>\n",
       "      <td>79</td>\n",
       "    </tr>\n",
       "  </tbody>\n",
       "</table>\n",
       "</div>"
      ],
      "text/plain": [
       "    tmathssk  treadssk             classk  totexpk   sex freelunk   race  \\\n",
       "2        473       447        small.class        7  girl       no  white   \n",
       "3        536       450        small.class       21  girl       no  black   \n",
       "5        463       439  regular.with.aide        0   boy      yes  black   \n",
       "11       559       448            regular       16   boy       no  white   \n",
       "12       489       447        small.class        5   boy      yes  white   \n",
       "\n",
       "    schidkn  \n",
       "2        63  \n",
       "3        20  \n",
       "5        19  \n",
       "11       69  \n",
       "12       79  "
      ]
     },
     "execution_count": 5,
     "metadata": {},
     "output_type": "execute_result"
    }
   ],
   "source": [
    "star.head()\n"
   ]
  },
  {
   "cell_type": "code",
   "execution_count": 6,
   "metadata": {},
   "outputs": [
    {
     "data": {
      "text/plain": [
       "79"
      ]
     },
     "execution_count": 6,
     "metadata": {},
     "output_type": "execute_result"
    }
   ],
   "source": [
    "len(np.unique(star.schidkn))"
   ]
  },
  {
   "cell_type": "code",
   "execution_count": 7,
   "metadata": {},
   "outputs": [],
   "source": [
    "schools = star.schidkn.unique()"
   ]
  },
  {
   "cell_type": "code",
   "execution_count": 8,
   "metadata": {},
   "outputs": [
    {
     "data": {
      "text/plain": [
       "array([ 1,  2,  3,  4,  5,  6,  7,  8,  9, 10, 11, 12, 13, 14, 15, 16, 17,\n",
       "       18, 19, 20, 21, 22, 23, 24, 25, 26, 27, 28, 29, 30, 31, 32, 33, 34,\n",
       "       35, 36, 37, 38, 39, 40, 41, 42, 43, 44, 45, 46, 47, 48, 49, 50, 51,\n",
       "       52, 53, 54, 55, 56, 57, 58, 59, 60, 61, 62, 63, 64, 65, 66, 67, 68,\n",
       "       69, 70, 71, 72, 73, 74, 75, 76, 78, 79, 80])"
      ]
     },
     "execution_count": 8,
     "metadata": {},
     "output_type": "execute_result"
    }
   ],
   "source": [
    "np.sort(schools)"
   ]
  },
  {
   "cell_type": "code",
   "execution_count": 9,
   "metadata": {},
   "outputs": [],
   "source": [
    "star.loc[star.schidkn>=78,'schidkn'] -= 1"
   ]
  },
  {
   "cell_type": "code",
   "execution_count": 10,
   "metadata": {},
   "outputs": [],
   "source": [
    "schools = star.schidkn.unique()"
   ]
  },
  {
   "cell_type": "code",
   "execution_count": 11,
   "metadata": {},
   "outputs": [],
   "source": [
    "df = pd.DataFrame()"
   ]
  },
  {
   "cell_type": "code",
   "execution_count": 12,
   "metadata": {},
   "outputs": [],
   "source": [
    "for col in ['tmathssk', 'treadssk', 'totexpk', 'schidkn' ]:\n",
    "    data = star.loc[:,col]\n",
    "    df[col] = data\n",
    "data = star.loc[:,['classk', 'sex', 'freelunk','race']]\n",
    "df = df.merge(pd.get_dummies(data), left_index=True, right_index=True)"
   ]
  },
  {
   "cell_type": "code",
   "execution_count": 13,
   "metadata": {},
   "outputs": [
    {
     "name": "stdout",
     "output_type": "stream",
     "text": [
      "Index(['classk_regular', 'classk_small.class', 'sex_girl'], dtype='object')\n",
      "    tmathssk  treadssk  totexpk  schidkn  classk_regular  \\\n",
      "2        473       447        7       63               0   \n",
      "3        536       450       21       20               0   \n",
      "5        463       439        0       19               0   \n",
      "11       559       448       16       69               1   \n",
      "12       489       447        5       78               0   \n",
      "\n",
      "    classk_regular.with.aide  classk_small.class  sex_boy  sex_girl  \\\n",
      "2                          0                   1        0         1   \n",
      "3                          0                   1        0         1   \n",
      "5                          1                   0        1         0   \n",
      "11                         0                   0        1         0   \n",
      "12                         0                   1        1         0   \n",
      "\n",
      "    freelunk_no  freelunk_yes  race_black  race_other  race_white  \n",
      "2             1             0           0           0           1  \n",
      "3             1             0           1           0           0  \n",
      "5             0             1           1           0           0  \n",
      "11            1             0           0           0           1  \n",
      "12            0             1           0           0           1  \n"
     ]
    }
   ],
   "source": [
    "print(df.columns[[4, 6, 8]])\n",
    "print(df.head())"
   ]
  },
  {
   "cell_type": "code",
   "execution_count": 14,
   "metadata": {},
   "outputs": [],
   "source": [
    "df.drop(df.columns[[5, 7, 9, 12]], axis=1, inplace=True)"
   ]
  },
  {
   "cell_type": "code",
   "execution_count": 15,
   "metadata": {},
   "outputs": [],
   "source": [
    "df.columns = ['math', 'reading', 'year_teaching', 'school','reg_class', 'sml_class', 'is_girl', 'free_lunch', 'black','white']"
   ]
  },
  {
   "cell_type": "code",
   "execution_count": 16,
   "metadata": {},
   "outputs": [
    {
     "data": {
      "text/html": [
       "<div>\n",
       "<style scoped>\n",
       "    .dataframe tbody tr th:only-of-type {\n",
       "        vertical-align: middle;\n",
       "    }\n",
       "\n",
       "    .dataframe tbody tr th {\n",
       "        vertical-align: top;\n",
       "    }\n",
       "\n",
       "    .dataframe thead th {\n",
       "        text-align: right;\n",
       "    }\n",
       "</style>\n",
       "<table border=\"1\" class=\"dataframe\">\n",
       "  <thead>\n",
       "    <tr style=\"text-align: right;\">\n",
       "      <th></th>\n",
       "      <th>math</th>\n",
       "      <th>reading</th>\n",
       "      <th>year_teaching</th>\n",
       "      <th>school</th>\n",
       "      <th>reg_class</th>\n",
       "      <th>sml_class</th>\n",
       "      <th>is_girl</th>\n",
       "      <th>free_lunch</th>\n",
       "      <th>black</th>\n",
       "      <th>white</th>\n",
       "    </tr>\n",
       "  </thead>\n",
       "  <tbody>\n",
       "    <tr>\n",
       "      <th>2</th>\n",
       "      <td>473</td>\n",
       "      <td>447</td>\n",
       "      <td>7</td>\n",
       "      <td>63</td>\n",
       "      <td>0</td>\n",
       "      <td>1</td>\n",
       "      <td>1</td>\n",
       "      <td>0</td>\n",
       "      <td>0</td>\n",
       "      <td>1</td>\n",
       "    </tr>\n",
       "    <tr>\n",
       "      <th>3</th>\n",
       "      <td>536</td>\n",
       "      <td>450</td>\n",
       "      <td>21</td>\n",
       "      <td>20</td>\n",
       "      <td>0</td>\n",
       "      <td>1</td>\n",
       "      <td>1</td>\n",
       "      <td>0</td>\n",
       "      <td>1</td>\n",
       "      <td>0</td>\n",
       "    </tr>\n",
       "    <tr>\n",
       "      <th>5</th>\n",
       "      <td>463</td>\n",
       "      <td>439</td>\n",
       "      <td>0</td>\n",
       "      <td>19</td>\n",
       "      <td>0</td>\n",
       "      <td>0</td>\n",
       "      <td>0</td>\n",
       "      <td>1</td>\n",
       "      <td>1</td>\n",
       "      <td>0</td>\n",
       "    </tr>\n",
       "    <tr>\n",
       "      <th>11</th>\n",
       "      <td>559</td>\n",
       "      <td>448</td>\n",
       "      <td>16</td>\n",
       "      <td>69</td>\n",
       "      <td>1</td>\n",
       "      <td>0</td>\n",
       "      <td>0</td>\n",
       "      <td>0</td>\n",
       "      <td>0</td>\n",
       "      <td>1</td>\n",
       "    </tr>\n",
       "    <tr>\n",
       "      <th>12</th>\n",
       "      <td>489</td>\n",
       "      <td>447</td>\n",
       "      <td>5</td>\n",
       "      <td>78</td>\n",
       "      <td>0</td>\n",
       "      <td>1</td>\n",
       "      <td>0</td>\n",
       "      <td>1</td>\n",
       "      <td>0</td>\n",
       "      <td>1</td>\n",
       "    </tr>\n",
       "  </tbody>\n",
       "</table>\n",
       "</div>"
      ],
      "text/plain": [
       "    math  reading  year_teaching  school  reg_class  sml_class  is_girl  \\\n",
       "2    473      447              7      63          0          1        1   \n",
       "3    536      450             21      20          0          1        1   \n",
       "5    463      439              0      19          0          0        0   \n",
       "11   559      448             16      69          1          0        0   \n",
       "12   489      447              5      78          0          1        0   \n",
       "\n",
       "    free_lunch  black  white  \n",
       "2            0      0      1  \n",
       "3            0      1      0  \n",
       "5            1      1      0  \n",
       "11           0      0      1  \n",
       "12           1      0      1  "
      ]
     },
     "execution_count": 16,
     "metadata": {},
     "output_type": "execute_result"
    }
   ],
   "source": [
    "df.head()"
   ]
  },
  {
   "cell_type": "code",
   "execution_count": 17,
   "metadata": {},
   "outputs": [
    {
     "data": {
      "text/plain": [
       "free_lunch      -0.243111\n",
       "black           -0.174493\n",
       "reg_class       -0.036504\n",
       "school           0.045439\n",
       "sml_class        0.080078\n",
       "is_girl          0.081041\n",
       "year_teaching    0.096687\n",
       "white            0.174968\n",
       "reading          0.713549\n",
       "math             1.000000\n",
       "Name: math, dtype: float64"
      ]
     },
     "execution_count": 17,
     "metadata": {},
     "output_type": "execute_result"
    }
   ],
   "source": [
    "df.corr()['math'].sort_values()"
   ]
  },
  {
   "cell_type": "code",
   "execution_count": 18,
   "metadata": {},
   "outputs": [
    {
     "data": {
      "image/png": "[encoded data removed]",
      "text/plain": [
       "<Figure size 432x288 with 1 Axes>"
      ]
     },
     "metadata": {},
     "output_type": "display_data"
    }
   ],
   "source": [
    "df.math.apply(lambda x:np.log(x)).hist(bins=25, alpha = 0.7, label = \"Math\")\n",
    "plt.legend()\n",
    "plt.show()\n"
   ]
  },
  {
   "cell_type": "markdown",
   "metadata": {},
   "source": [
    "### Train/Test Split"
   ]
  },
  {
   "cell_type": "code",
   "execution_count": 19,
   "metadata": {},
   "outputs": [],
   "source": [
    "X = df.drop('math', axis=1)\n",
    "Y = np.log(df.math)"
   ]
  },
  {
   "cell_type": "code",
   "execution_count": 20,
   "metadata": {},
   "outputs": [],
   "source": [
    "indices = range(df.shape[0])\n",
    "i_schools = []\n",
    "len_ischools = []"
   ]
  },
  {
   "cell_type": "code",
   "execution_count": 21,
   "metadata": {},
   "outputs": [],
   "source": [
    "for s in schools:\n",
    "    i_school = np.where(df.school == s)[0]\n",
    "    len_ischools.append(len(i_school))\n",
    "    i_schools.append(i_school)"
   ]
  },
  {
   "cell_type": "code",
   "execution_count": 22,
   "metadata": {},
   "outputs": [],
   "source": [
    "min_len = min(len_ischools)\n",
    "train_size = round(min_len*0.8)"
   ]
  },
  {
   "cell_type": "code",
   "execution_count": 23,
   "metadata": {},
   "outputs": [],
   "source": [
    "train_idx = []\n",
    "test_idx = []"
   ]
  },
  {
   "cell_type": "code",
   "execution_count": 24,
   "metadata": {},
   "outputs": [],
   "source": [
    "for s in i_schools:\n",
    "    np.random.shuffle(s)\n",
    "    train_idx = np.concatenate((train_idx, s[:train_size]), axis=None)\n",
    "    test_idx = np.concatenate((test_idx, s[train_size:]), axis=None)"
   ]
  },
  {
   "cell_type": "code",
   "execution_count": 25,
   "metadata": {},
   "outputs": [
    {
     "data": {
      "text/plain": [
       "2133"
      ]
     },
     "execution_count": 25,
     "metadata": {},
     "output_type": "execute_result"
    }
   ],
   "source": [
    "len(train_idx)"
   ]
  },
  {
   "cell_type": "code",
   "execution_count": 26,
   "metadata": {},
   "outputs": [
    {
     "data": {
      "text/plain": [
       "3615"
      ]
     },
     "execution_count": 26,
     "metadata": {},
     "output_type": "execute_result"
    }
   ],
   "source": [
    "len(test_idx)"
   ]
  },
  {
   "cell_type": "code",
   "execution_count": 27,
   "metadata": {},
   "outputs": [],
   "source": [
    "X_train = X.iloc[train_idx,:]\n",
    "X_test = X.iloc[test_idx,:].reset_index()\n",
    "Y_train = Y.iloc[train_idx]\n",
    "Y_test = Y.iloc[test_idx]"
   ]
  },
  {
   "cell_type": "markdown",
   "metadata": {},
   "source": [
    "## Pooled model "
   ]
  },
  {
   "cell_type": "code",
   "execution_count": 28,
   "metadata": {},
   "outputs": [],
   "source": [
    "pooled_code = \"\"\"\n",
    "data {\n",
    "    int<lower=0>  N;\n",
    "    int<lower=0> M;\n",
    "    vector[N] x;\n",
    "    vector[M] x_test;\n",
    "    vector[N] y;\n",
    "}\n",
    "parameters {\n",
    "    vector[2] beta;\n",
    "    real<lower=0> sigma;\n",
    "}\n",
    "model {\n",
    "    y ~ normal(beta[1] + beta[2]*x, sigma);\n",
    "}\n",
    "generated quantities{\n",
    "    vector[N] log_lik;\n",
    "    vector[M] y_pred_test;\n",
    "    for (i in 1:M)\n",
    "     y_pred_test[i] = normal_rng(beta[1] + beta[2]*x_test[i], sigma);\n",
    "    for (i in 1:N)\n",
    "     log_lik[i] = normal_lpdf(y[i]| beta[1] + beta[2]*x[i], sigma);\n",
    "}\n",
    "\n",
    "\"\"\""
   ]
  },
  {
   "cell_type": "code",
   "execution_count": 29,
   "metadata": {},
   "outputs": [],
   "source": [
    "import pystan\n",
    "\n",
    "pool_data = {\n",
    "    'N': Y_train.shape[0], \n",
    "    'M': Y_test.shape[0],\n",
    "    'x': X_train.loc[:,'year_teaching'],\n",
    "    'x_test': X_test.loc[:,'year_teaching'],\n",
    "    'y': Y_train,\n",
    "}"
   ]
  },
  {
   "cell_type": "code",
   "execution_count": 30,
   "metadata": {},
   "outputs": [
    {
     "name": "stderr",
     "output_type": "stream",
     "text": [
      "INFO:pystan:COMPILING THE C++ CODE FOR MODEL anon_model_174aac4ec68a4e0adc2676445f7b9556 NOW.\n"
     ]
    }
   ],
   "source": [
    "pooled_fit = pystan.stan(model_code=pooled_code, data = pool_data, iter = 1000, chains = 2)"
   ]
  },
  {
   "cell_type": "code",
   "execution_count": 31,
   "metadata": {},
   "outputs": [
    {
     "name": "stdout",
     "output_type": "stream",
     "text": [
      "Rhat check :  True\n",
      "N_eff check :  True\n",
      "Divergence check:  True\n"
     ]
    }
   ],
   "source": [
    "print(\"Rhat check : \",pystan.diagnostics.check_rhat(pooled_fit))\n",
    "print(\"N_eff check : \",pystan.diagnostics.check_n_eff(pooled_fit))\n",
    "print(\"Divergence check: \", pystan.diagnostics.check_div(pooled_fit))"
   ]
  },
  {
   "cell_type": "code",
   "execution_count": 32,
   "metadata": {},
   "outputs": [
    {
     "name": "stdout",
     "output_type": "stream",
     "text": [
      "psisloo:  2006.5623330308817\n",
      "p_eff:  3.12860591199842\n"
     ]
    },
    {
     "data": {
      "image/png": "[encoded data removed]",
      "text/plain": [
       "<Figure size 432x288 with 1 Axes>"
      ]
     },
     "metadata": {},
     "output_type": "display_data"
    }
   ],
   "source": [
    "pooled_sample = pooled_fit.extract(permuted=True)\n",
    "\n",
    "loglik = (pooled_sample[\"log_lik\"])\n",
    "psisloo = stanity.psisloo(loglik)\n",
    "print(\"psisloo: \",psisloo.elpd)\n",
    "psisloo.plot()\n",
    "lppd_pooled = 0 \n",
    "for i in range (Y_train.shape[0]):\n",
    "    lppd_pooled = lppd_pooled + np.log(np.mean(np.exp(loglik[:,i])))\n",
    "\n",
    "peff_pooled = np.sum(lppd_pooled) - psisloo.elpd\n",
    "print(\"p_eff: \", peff_pooled)\n"
   ]
  },
  {
   "cell_type": "code",
   "execution_count": 33,
   "metadata": {},
   "outputs": [
    {
     "data": {
      "text/plain": [
       "greater than 0.5    0.0\n",
       "greater than 1      0.0\n",
       "dtype: float64"
      ]
     },
     "execution_count": 33,
     "metadata": {},
     "output_type": "execute_result"
    }
   ],
   "source": [
    "psisloo.print_summary()"
   ]
  },
  {
   "cell_type": "code",
   "execution_count": 34,
   "metadata": {},
   "outputs": [
    {
     "data": {
      "image/png": "[encoded data removed]",
      "text/plain": [
       "<Figure size 432x288 with 1 Axes>"
      ]
     },
     "metadata": {},
     "output_type": "display_data"
    }
   ],
   "source": [
    "b0, m0 = pooled_sample['beta'].T.mean(1)\n",
    "plt.scatter(df.year_teaching, np.log(df.math))\n",
    "xvals = np.linspace(0,30)\n",
    "plt.plot(xvals, m0*xvals+b0, 'r--')\n",
    "plt.show()\n"
   ]
  },
  {
   "cell_type": "code",
   "execution_count": 35,
   "metadata": {},
   "outputs": [
    {
     "data": {
      "text/plain": [
       "0.078"
      ]
     },
     "execution_count": 35,
     "metadata": {},
     "output_type": "execute_result"
    },
    {
     "data": {
      "image/png": "[encoded data removed]",
      "text/plain": [
       "<Figure size 432x288 with 1 Axes>"
      ]
     },
     "metadata": {},
     "output_type": "display_data"
    }
   ],
   "source": [
    "#Comparing y_pred with y_test\n",
    "y_pred = np.mean(pooled_sample[\"y_pred_test\"], axis=0)\n",
    "plt.hist(y_pred, bins = 15)\n",
    "round(MAE(Y_test, y_pred),3)"
   ]
  },
  {
   "cell_type": "code",
   "execution_count": 36,
   "metadata": {},
   "outputs": [
    {
     "data": {
      "text/plain": [
       "0.01"
      ]
     },
     "execution_count": 36,
     "metadata": {},
     "output_type": "execute_result"
    }
   ],
   "source": [
    "round(MSE(Y_test, y_pred),3)"
   ]
  },
  {
   "cell_type": "markdown",
   "metadata": {},
   "source": [
    "##  Separate model"
   ]
  },
  {
   "cell_type": "code",
   "execution_count": 37,
   "metadata": {},
   "outputs": [],
   "source": [
    "separate_code = \"\"\"\n",
    "data{\n",
    "    int<lower=0> N;\n",
    "    int<lower=1, upper=79> school[N]; #school indicator\n",
    "    vector[N] x;\n",
    "    vector[N] y;\n",
    "}\n",
    "parameters {\n",
    "    vector[79] alpha;\n",
    "    real beta; #only 1 beta, not a vector\n",
    "    real<lower=0> sigma;\n",
    "}\n",
    "transformed parameters {\n",
    "    vector[N] mu;  \n",
    "    for (i in 1:N)\n",
    "        mu[i] <- beta* x[i] + alpha[school[i]];\n",
    "}\n",
    "model {\n",
    "    y ~ normal(mu, sigma);\n",
    "}\n",
    "generated quantities{\n",
    "    vector[N] log_lik;\n",
    "    for (i in 1:N)\n",
    "     log_lik[i] = normal_lpdf(y[i]| mu[i], sigma);\n",
    "}\n",
    "\"\"\""
   ]
  },
  {
   "cell_type": "code",
   "execution_count": 38,
   "metadata": {},
   "outputs": [],
   "source": [
    "separate_data = {'N': X_train.shape[0],\n",
    "                 'school': X_train.school,\n",
    "                 'x': X_train.loc[:,'year_teaching'],\n",
    "                 'y': Y_train }"
   ]
  },
  {
   "cell_type": "code",
   "execution_count": 39,
   "metadata": {},
   "outputs": [
    {
     "name": "stderr",
     "output_type": "stream",
     "text": [
      "INFO:pystan:COMPILING THE C++ CODE FOR MODEL anon_model_3f346b560546d258f094491925426d10 NOW.\n"
     ]
    }
   ],
   "source": [
    "separate_fit = pystan.stan(model_code = separate_code, data = separate_data, iter = 1000, chains = 2)\n",
    "separate_sample = separate_fit.extract(permuted=True)"
   ]
  },
  {
   "cell_type": "code",
   "execution_count": 40,
   "metadata": {},
   "outputs": [
    {
     "name": "stdout",
     "output_type": "stream",
     "text": [
      "Rhat check :  True\n",
      "N_eff check :  True\n",
      "Divergence check:  True\n"
     ]
    }
   ],
   "source": [
    "print(\"Rhat check : \",pystan.diagnostics.check_rhat(separate_fit))\n",
    "print(\"N_eff check : \",pystan.diagnostics.check_n_eff(separate_fit))\n",
    "print(\"Divergence check: \", pystan.diagnostics.check_div(separate_fit))"
   ]
  },
  {
   "cell_type": "code",
   "execution_count": 41,
   "metadata": {},
   "outputs": [],
   "source": [
    "alpha = np.mean(separate_fit['alpha'], axis=0)\n",
    "beta = np.mean(separate_fit['beta'])"
   ]
  },
  {
   "cell_type": "code",
   "execution_count": 42,
   "metadata": {},
   "outputs": [
    {
     "name": "stdout",
     "output_type": "stream",
     "text": [
      "psisloo:  2210.896499629648\n",
      "p_eff:  78.64991455064046\n"
     ]
    },
    {
     "data": {
      "image/png": "[encoded data removed]",
      "text/plain": [
       "<Figure size 432x288 with 1 Axes>"
      ]
     },
     "metadata": {},
     "output_type": "display_data"
    }
   ],
   "source": [
    "loglik = (separate_sample[\"log_lik\"])\n",
    "psisloo = stanity.psisloo(loglik)\n",
    "print(\"psisloo: \",psisloo.elpd)\n",
    "psisloo.plot()\n",
    "lppd_pooled = 0 \n",
    "for i in range (Y_train.shape[0]):\n",
    "    lppd_pooled = lppd_pooled + np.log(np.mean(np.exp(loglik[:,i])))\n",
    "\n",
    "peff_pooled = np.sum(lppd_pooled) - psisloo.elpd\n",
    "print(\"p_eff: \", peff_pooled)"
   ]
  },
  {
   "cell_type": "code",
   "execution_count": 43,
   "metadata": {},
   "outputs": [
    {
     "data": {
      "text/plain": [
       "greater than 0.5    0.0\n",
       "greater than 1      0.0\n",
       "dtype: float64"
      ]
     },
     "execution_count": 43,
     "metadata": {},
     "output_type": "execute_result"
    }
   ],
   "source": [
    "psisloo.print_summary()"
   ]
  },
  {
   "cell_type": "code",
   "execution_count": 44,
   "metadata": {},
   "outputs": [
    {
     "data": {
      "text/plain": [
       "(array([ 60., 195., 347., 411., 459., 479., 516., 447., 295., 151., 112.,\n",
       "         74.,  40.,  20.,   9.]),\n",
       " array([6.15861051, 6.16204683, 6.16548315, 6.16891948, 6.1723558 ,\n",
       "        6.17579213, 6.17922845, 6.18266478, 6.1861011 , 6.18953742,\n",
       "        6.19297375, 6.19641007, 6.1998464 , 6.20328272, 6.20671905,\n",
       "        6.21015537]),\n",
       " <a list of 15 Patch objects>)"
      ]
     },
     "execution_count": 44,
     "metadata": {},
     "output_type": "execute_result"
    },
    {
     "data": {
      "image/png": "[encoded data removed]",
      "text/plain": [
       "<Figure size 432x288 with 1 Axes>"
      ]
     },
     "metadata": {},
     "output_type": "display_data"
    }
   ],
   "source": [
    "Y_pred = []\n",
    "for i in range(X_test.shape[0]):\n",
    "    school = X_test.loc[i, 'school']\n",
    "    Y_pred.append(alpha[school-1] + beta*X_test.loc[i, 'year_teaching'])\n",
    "\n",
    "plt.hist(y_pred, bins = 15)"
   ]
  },
  {
   "cell_type": "code",
   "execution_count": 45,
   "metadata": {},
   "outputs": [
    {
     "data": {
      "text/plain": [
       "0.07044189783033171"
      ]
     },
     "execution_count": 45,
     "metadata": {},
     "output_type": "execute_result"
    }
   ],
   "source": [
    "MAE(Y_pred, Y_test)"
   ]
  },
  {
   "cell_type": "code",
   "execution_count": 46,
   "metadata": {},
   "outputs": [
    {
     "data": {
      "text/plain": [
       "0.00807040955225216"
      ]
     },
     "execution_count": 46,
     "metadata": {},
     "output_type": "execute_result"
    }
   ],
   "source": [
    "MSE(Y_pred, Y_test)"
   ]
  },
  {
   "cell_type": "code",
   "execution_count": 47,
   "metadata": {},
   "outputs": [
    {
     "data": {
      "image/png": "[encoded data removed]",
      "text/plain": [
       "<Figure size 1008x360 with 1 Axes>"
      ]
     },
     "metadata": {},
     "output_type": "display_data"
    }
   ],
   "source": [
    "import seaborn as sns\n",
    "sns.set(style=\"ticks\")\n",
    "\n",
    "a_sample = pd.DataFrame(separate_fit['alpha'])\n",
    "plt.figure(figsize=(14, 5))\n",
    "sns.boxplot(data=a_sample, whis=np.inf, color=\"b\")\n",
    "plt.title(\"Samples of intercept per school\")\n",
    "plt.show()\n"
   ]
  },
  {
   "cell_type": "markdown",
   "metadata": {},
   "source": [
    "# Varying intercept and slope model"
   ]
  },
  {
   "cell_type": "code",
   "execution_count": 48,
   "metadata": {},
   "outputs": [],
   "source": [
    "varying_intercept_slope = \"\"\"\n",
    "data {\n",
    "  int<lower=0> N;\n",
    "  int<lower=0> J;\n",
    "  vector[N] y;\n",
    "  vector[N] x;\n",
    "  int school[N];\n",
    "}\n",
    "parameters {\n",
    "  real<lower=0> sigma;\n",
    "  real<lower=0> sigma_a;\n",
    "  real<lower=0> sigma_b;\n",
    "  vector[J] alpha;\n",
    "  vector[J] beta;\n",
    "  real mu_a;\n",
    "  real mu_b;\n",
    "}\n",
    "transformed parameters {\n",
    "    vector[N] mu;  \n",
    "    for (i in 1:N)\n",
    "        mu[i] <- alpha[school[i]] + beta[school[i]]*x[i];\n",
    "}\n",
    "model {\n",
    "  mu_a ~ normal(0, 1);\n",
    "  mu_b ~ normal(0, 1);\n",
    "\n",
    "  alpha ~ normal(mu_a, sigma_a);\n",
    "  beta ~ normal(mu_b, sigma_b);\n",
    "  y ~ normal(mu, sigma);\n",
    "}\n",
    "\n",
    "generated quantities{\n",
    "    vector[N] log_lik;\n",
    "    for (i in 1:N)\n",
    "     log_lik[i] = normal_lpdf(y[i]| mu[i], sigma);\n",
    "}\n",
    "\n",
    "\"\"\""
   ]
  },
  {
   "cell_type": "code",
   "execution_count": 49,
   "metadata": {},
   "outputs": [
    {
     "name": "stderr",
     "output_type": "stream",
     "text": [
      "INFO:pystan:COMPILING THE C++ CODE FOR MODEL anon_model_fc996b18191bb3d6f59ec43aa9146fea NOW.\n"
     ]
    }
   ],
   "source": [
    "varying_intercept_slope_data = {'N': df.shape[0],\n",
    "                          'J': 79,\n",
    "                          'school': star.schidkn,\n",
    "                          'x': df.loc[:,'year_teaching'],\n",
    "                          'y': np.log(df.math)}\n",
    "\n",
    "varying_intercept_slope_fit = pystan.stan(model_code=varying_intercept_slope, \n",
    "                                          data=varying_intercept_slope_data, \n",
    "                                          iter=1000, chains=2)\n",
    "varying_intercept_slope_sample = varying_intercept_slope_fit.extract(permuted=True)"
   ]
  },
  {
   "cell_type": "code",
   "execution_count": 50,
   "metadata": {},
   "outputs": [
    {
     "name": "stdout",
     "output_type": "stream",
     "text": [
      "Rhat check :  True\n",
      "N_eff check :  True\n",
      "Divergence check:  True\n"
     ]
    }
   ],
   "source": [
    "print(\"Rhat check : \",pystan.diagnostics.check_rhat(varying_intercept_slope_fit))\n",
    "print(\"N_eff check : \",pystan.diagnostics.check_n_eff(varying_intercept_slope_fit))\n",
    "print(\"Divergence check: \", pystan.diagnostics.check_div(varying_intercept_slope_fit))"
   ]
  },
  {
   "cell_type": "code",
   "execution_count": 51,
   "metadata": {},
   "outputs": [
    {
     "data": {
      "image/png": "[encoded data removed]",
      "text/plain": [
       "<Figure size 1008x360 with 1 Axes>"
      ]
     },
     "metadata": {},
     "output_type": "display_data"
    },
    {
     "data": {
      "image/png": "[encoded data removed]",
      "text/plain": [
       "<Figure size 1008x360 with 1 Axes>"
      ]
     },
     "metadata": {},
     "output_type": "display_data"
    }
   ],
   "source": [
    "sns.set(style=\"ticks\")\n",
    "\n",
    "a_sample = pd.DataFrame(varying_intercept_slope_sample['alpha'])\n",
    "plt.figure(figsize=(14, 5))\n",
    "sns.boxplot(data=a_sample, whis=np.inf, color=\"b\")\n",
    "plt.title(\"Samples of intercept per school\")\n",
    "plt.show()\n",
    "\n",
    "b_sample = pd.DataFrame(varying_intercept_slope_sample['beta'])\n",
    "plt.figure(figsize=(14, 5))\n",
    "sns.boxplot(data=b_sample, whis=np.inf, color = 'g')\n",
    "plt.title(\"Samples of slope per school\")\n",
    "plt.show()\n"
   ]
  },
  {
   "cell_type": "code",
   "execution_count": 52,
   "metadata": {},
   "outputs": [
    {
     "data": {
      "image/png": "[encoded data removed]",
      "text/plain": [
       "<Figure size 432x576 with 1 Axes>"
      ]
     },
     "metadata": {},
     "output_type": "display_data"
    }
   ],
   "source": [
    "xvals = np.arange(2)\n",
    "b = varying_intercept_slope_fit['alpha'].mean(axis=0)\n",
    "m = varying_intercept_slope_fit['beta'].mean(axis=0)\n",
    "plt.figure(figsize=(6,8))\n",
    "for bi,mi in zip(b,m):\n",
    "    plt.plot(xvals, mi*xvals + bi, 'bo-', alpha=0.4)\n",
    "plt.xlim(-0.1, 1.1);"
   ]
  },
  {
   "cell_type": "code",
   "execution_count": 53,
   "metadata": {},
   "outputs": [
    {
     "name": "stdout",
     "output_type": "stream",
     "text": [
      "psisloo:  5908.328201330611\n",
      "p_eff:  -3671.220448457781\n"
     ]
    },
    {
     "data": {
      "image/png": "[encoded data removed]",
      "text/plain": [
       "<Figure size 432x288 with 1 Axes>"
      ]
     },
     "metadata": {},
     "output_type": "display_data"
    }
   ],
   "source": [
    "loglik = (varying_intercept_slope_sample[\"log_lik\"])\n",
    "psisloo = stanity.psisloo(loglik)\n",
    "print(\"psisloo: \",psisloo.elpd)\n",
    "psisloo.plot()\n",
    "lppd_pooled = 0 \n",
    "for i in range (Y_train.shape[0]):\n",
    "    lppd_pooled = lppd_pooled + np.log(np.mean(np.exp(loglik[:,i])))\n",
    "\n",
    "peff_pooled = np.sum(lppd_pooled) - psisloo.elpd\n",
    "print(\"p_eff: \", peff_pooled)"
   ]
  },
  {
   "cell_type": "code",
   "execution_count": 54,
   "metadata": {},
   "outputs": [
    {
     "data": {
      "text/plain": [
       "greater than 0.5    0.0\n",
       "greater than 1      0.0\n",
       "dtype: float64"
      ]
     },
     "execution_count": 54,
     "metadata": {},
     "output_type": "execute_result"
    }
   ],
   "source": [
    "psisloo.print_summary()"
   ]
  },
  {
   "cell_type": "markdown",
   "metadata": {},
   "source": [
    "## Hierarchical model"
   ]
  },
  {
   "cell_type": "markdown",
   "metadata": {},
   "source": [
    "Since the hierarchical model is not differentiated from the separated model in predicting a group that is already present in the training data, we estimate this model's effectiveness by using one school as the predicting data and the other schools as the data feeding to the model."
   ]
  },
  {
   "cell_type": "markdown",
   "metadata": {},
   "source": [
    "First, let's look at the code."
   ]
  },
  {
   "cell_type": "code",
   "execution_count": 55,
   "metadata": {},
   "outputs": [],
   "source": [
    "hierarchical_code = \"\"\"\n",
    "data {\n",
    "    int<lower=1> N;\n",
    "    int<lower=1> K;\n",
    "    matrix[N, K] y;\n",
    "}\n",
    "parameters {\n",
    "    real mu0;\n",
    "    real<lower=0> sigma0;\n",
    "    vector[K] mu;\n",
    "    real<lower=0> sigma;\n",
    "}\n",
    "model {\n",
    "    for (j in 1:K){\n",
    "        mu[j] ~ normal(mu0, sigma0);\n",
    "        y[:,j] ~ normal(mu[j], sigma);\n",
    "     }\n",
    "}\n",
    "generated quantities {\n",
    "    real mupred;\n",
    "    mupred <- normal_rng(mu0, sigma0);\n",
    "}\n",
    "\"\"\""
   ]
  },
  {
   "cell_type": "code",
   "execution_count": 56,
   "metadata": {},
   "outputs": [],
   "source": [
    "data = []\n",
    "for s in i_schools:\n",
    "    np.random.shuffle(s)\n",
    "    s = s[:min_len]\n",
    "    data.append(Y.iloc[s])"
   ]
  },
  {
   "cell_type": "code",
   "execution_count": 57,
   "metadata": {},
   "outputs": [],
   "source": [
    "data = np.array(data)"
   ]
  },
  {
   "cell_type": "code",
   "execution_count": 58,
   "metadata": {},
   "outputs": [],
   "source": [
    "mean_error = []\n",
    "sigma_error = []"
   ]
  },
  {
   "cell_type": "code",
   "execution_count": 59,
   "metadata": {},
   "outputs": [
    {
     "name": "stderr",
     "output_type": "stream",
     "text": [
      "INFO:pystan:COMPILING THE C++ CODE FOR MODEL anon_model_bb063ad4e6e043a948b6541ceedcd53e NOW.\n",
      "WARNING:pystan:106 of 2000 iterations ended with a divergence (5.3%).\n",
      "WARNING:pystan:Try running with adapt_delta larger than 0.8 to remove the divergences.\n",
      "WARNING:pystan:Chain 1: E-BFMI = 0.09443343505776493\n",
      "WARNING:pystan:Chain 2: E-BFMI = 0.09369297928852212\n",
      "WARNING:pystan:E-BFMI below 0.2 indicates you may need to reparameterize your model\n",
      "INFO:pystan:COMPILING THE C++ CODE FOR MODEL anon_model_bb063ad4e6e043a948b6541ceedcd53e NOW.\n",
      "WARNING:pystan:Rhat for parameter sigma0 is 1.1151666736476415!\n",
      "WARNING:pystan:Rhat for parameter lp__ is 1.2365634088639814!\n",
      "WARNING:pystan:Rhat above 1.1 or below 0.9 indicates that the chains very likely have not mixed\n",
      "WARNING:pystan:88 of 2000 iterations ended with a divergence (4.4%).\n",
      "WARNING:pystan:Try running with adapt_delta larger than 0.8 to remove the divergences.\n",
      "WARNING:pystan:Chain 1: E-BFMI = 0.13457941549601476\n",
      "WARNING:pystan:Chain 2: E-BFMI = 0.04233660381067879\n",
      "WARNING:pystan:E-BFMI below 0.2 indicates you may need to reparameterize your model\n",
      "INFO:pystan:COMPILING THE C++ CODE FOR MODEL anon_model_bb063ad4e6e043a948b6541ceedcd53e NOW.\n",
      "WARNING:pystan:50 of 2000 iterations ended with a divergence (2.5%).\n",
      "WARNING:pystan:Try running with adapt_delta larger than 0.8 to remove the divergences.\n",
      "WARNING:pystan:Chain 1: E-BFMI = 0.10030374500611886\n",
      "WARNING:pystan:Chain 2: E-BFMI = 0.10570931727799228\n",
      "WARNING:pystan:E-BFMI below 0.2 indicates you may need to reparameterize your model\n",
      "INFO:pystan:COMPILING THE C++ CODE FOR MODEL anon_model_bb063ad4e6e043a948b6541ceedcd53e NOW.\n",
      "WARNING:pystan:Rhat for parameter lp__ is 1.1553235092737835!\n",
      "WARNING:pystan:Rhat above 1.1 or below 0.9 indicates that the chains very likely have not mixed\n",
      "WARNING:pystan:28 of 2000 iterations ended with a divergence (1.4%).\n",
      "WARNING:pystan:Try running with adapt_delta larger than 0.8 to remove the divergences.\n",
      "WARNING:pystan:Chain 1: E-BFMI = 0.0966113306946373\n",
      "WARNING:pystan:E-BFMI below 0.2 indicates you may need to reparameterize your model\n",
      "INFO:pystan:COMPILING THE C++ CODE FOR MODEL anon_model_bb063ad4e6e043a948b6541ceedcd53e NOW.\n",
      "WARNING:pystan:36 of 2000 iterations ended with a divergence (1.8%).\n",
      "WARNING:pystan:Try running with adapt_delta larger than 0.8 to remove the divergences.\n",
      "WARNING:pystan:Chain 1: E-BFMI = 0.10125917328899307\n",
      "WARNING:pystan:Chain 2: E-BFMI = 0.06574956035559473\n",
      "WARNING:pystan:E-BFMI below 0.2 indicates you may need to reparameterize your model\n",
      "INFO:pystan:COMPILING THE C++ CODE FOR MODEL anon_model_bb063ad4e6e043a948b6541ceedcd53e NOW.\n",
      "WARNING:pystan:243 of 2000 iterations ended with a divergence (12.15%).\n",
      "WARNING:pystan:Try running with adapt_delta larger than 0.8 to remove the divergences.\n",
      "WARNING:pystan:Chain 1: E-BFMI = 0.0863997497556239\n",
      "WARNING:pystan:Chain 2: E-BFMI = 0.07107094096947546\n",
      "WARNING:pystan:E-BFMI below 0.2 indicates you may need to reparameterize your model\n",
      "INFO:pystan:COMPILING THE C++ CODE FOR MODEL anon_model_bb063ad4e6e043a948b6541ceedcd53e NOW.\n",
      "WARNING:pystan:38 of 2000 iterations ended with a divergence (1.9%).\n",
      "WARNING:pystan:Try running with adapt_delta larger than 0.8 to remove the divergences.\n",
      "WARNING:pystan:Chain 1: E-BFMI = 0.098403468094412\n",
      "WARNING:pystan:Chain 2: E-BFMI = 0.0882578326281963\n",
      "WARNING:pystan:E-BFMI below 0.2 indicates you may need to reparameterize your model\n",
      "INFO:pystan:COMPILING THE C++ CODE FOR MODEL anon_model_bb063ad4e6e043a948b6541ceedcd53e NOW.\n",
      "WARNING:pystan:Rhat for parameter sigma0 is 1.1431643289792857!\n",
      "WARNING:pystan:Rhat for parameter lp__ is 1.2246805914522247!\n",
      "WARNING:pystan:Rhat above 1.1 or below 0.9 indicates that the chains very likely have not mixed\n",
      "WARNING:pystan:242 of 2000 iterations ended with a divergence (12.1%).\n",
      "WARNING:pystan:Try running with adapt_delta larger than 0.8 to remove the divergences.\n",
      "WARNING:pystan:Chain 1: E-BFMI = 0.16843982279342026\n",
      "WARNING:pystan:Chain 2: E-BFMI = 0.05779046918842226\n",
      "WARNING:pystan:E-BFMI below 0.2 indicates you may need to reparameterize your model\n",
      "INFO:pystan:COMPILING THE C++ CODE FOR MODEL anon_model_bb063ad4e6e043a948b6541ceedcd53e NOW.\n",
      "WARNING:pystan:85 of 2000 iterations ended with a divergence (4.25%).\n",
      "WARNING:pystan:Try running with adapt_delta larger than 0.8 to remove the divergences.\n",
      "WARNING:pystan:Chain 1: E-BFMI = 0.1175087598178968\n",
      "WARNING:pystan:Chain 2: E-BFMI = 0.1150129609249539\n",
      "WARNING:pystan:E-BFMI below 0.2 indicates you may need to reparameterize your model\n",
      "INFO:pystan:COMPILING THE C++ CODE FOR MODEL anon_model_bb063ad4e6e043a948b6541ceedcd53e NOW.\n",
      "WARNING:pystan:15 of 2000 iterations ended with a divergence (0.75%).\n",
      "WARNING:pystan:Try running with adapt_delta larger than 0.8 to remove the divergences.\n",
      "WARNING:pystan:Chain 1: E-BFMI = 0.12821910699828964\n",
      "WARNING:pystan:Chain 2: E-BFMI = 0.06501655832273698\n",
      "WARNING:pystan:E-BFMI below 0.2 indicates you may need to reparameterize your model\n",
      "INFO:pystan:COMPILING THE C++ CODE FOR MODEL anon_model_bb063ad4e6e043a948b6541ceedcd53e NOW.\n",
      "WARNING:pystan:Rhat for parameter lp__ is 1.1305984265996982!\n",
      "WARNING:pystan:Rhat above 1.1 or below 0.9 indicates that the chains very likely have not mixed\n",
      "WARNING:pystan:167 of 2000 iterations ended with a divergence (8.35%).\n",
      "WARNING:pystan:Try running with adapt_delta larger than 0.8 to remove the divergences.\n",
      "WARNING:pystan:Chain 1: E-BFMI = 0.11560129383055212\n",
      "WARNING:pystan:Chain 2: E-BFMI = 0.05515981068496948\n",
      "WARNING:pystan:E-BFMI below 0.2 indicates you may need to reparameterize your model\n",
      "INFO:pystan:COMPILING THE C++ CODE FOR MODEL anon_model_bb063ad4e6e043a948b6541ceedcd53e NOW.\n",
      "WARNING:pystan:132 of 2000 iterations ended with a divergence (6.6%).\n",
      "WARNING:pystan:Try running with adapt_delta larger than 0.8 to remove the divergences.\n",
      "WARNING:pystan:Chain 1: E-BFMI = 0.054255667716863965\n",
      "WARNING:pystan:Chain 2: E-BFMI = 0.12405115636624055\n",
      "WARNING:pystan:E-BFMI below 0.2 indicates you may need to reparameterize your model\n",
      "INFO:pystan:COMPILING THE C++ CODE FOR MODEL anon_model_bb063ad4e6e043a948b6541ceedcd53e NOW.\n",
      "WARNING:pystan:47 of 2000 iterations ended with a divergence (2.35%).\n",
      "WARNING:pystan:Try running with adapt_delta larger than 0.8 to remove the divergences.\n",
      "WARNING:pystan:Chain 1: E-BFMI = 0.13203413218101098\n",
      "WARNING:pystan:Chain 2: E-BFMI = 0.08595738498714195\n",
      "WARNING:pystan:E-BFMI below 0.2 indicates you may need to reparameterize your model\n",
      "INFO:pystan:COMPILING THE C++ CODE FOR MODEL anon_model_bb063ad4e6e043a948b6541ceedcd53e NOW.\n",
      "WARNING:pystan:Rhat for parameter mu0 is 1.1311199204022124!\n",
      "WARNING:pystan:Rhat for parameter lp__ is 1.1729811511581076!\n",
      "WARNING:pystan:Rhat above 1.1 or below 0.9 indicates that the chains very likely have not mixed\n",
      "WARNING:pystan:459 of 2000 iterations ended with a divergence (22.95%).\n",
      "WARNING:pystan:Try running with adapt_delta larger than 0.8 to remove the divergences.\n",
      "WARNING:pystan:Chain 1: E-BFMI = 0.11842341453086279\n",
      "WARNING:pystan:Chain 2: E-BFMI = 0.06788227058114728\n",
      "WARNING:pystan:E-BFMI below 0.2 indicates you may need to reparameterize your model\n",
      "INFO:pystan:COMPILING THE C++ CODE FOR MODEL anon_model_bb063ad4e6e043a948b6541ceedcd53e NOW.\n",
      "WARNING:pystan:258 of 2000 iterations ended with a divergence (12.9%).\n",
      "WARNING:pystan:Try running with adapt_delta larger than 0.8 to remove the divergences.\n",
      "WARNING:pystan:Chain 1: E-BFMI = 0.08770366254958577\n",
      "WARNING:pystan:Chain 2: E-BFMI = 0.11397937555084439\n",
      "WARNING:pystan:E-BFMI below 0.2 indicates you may need to reparameterize your model\n",
      "INFO:pystan:COMPILING THE C++ CODE FOR MODEL anon_model_bb063ad4e6e043a948b6541ceedcd53e NOW.\n",
      "WARNING:pystan:42 of 2000 iterations ended with a divergence (2.1%).\n",
      "WARNING:pystan:Try running with adapt_delta larger than 0.8 to remove the divergences.\n",
      "WARNING:pystan:Chain 1: E-BFMI = 0.09780901673202111\n",
      "WARNING:pystan:Chain 2: E-BFMI = 0.10714852679928127\n",
      "WARNING:pystan:E-BFMI below 0.2 indicates you may need to reparameterize your model\n",
      "INFO:pystan:COMPILING THE C++ CODE FOR MODEL anon_model_bb063ad4e6e043a948b6541ceedcd53e NOW.\n",
      "WARNING:pystan:34 of 2000 iterations ended with a divergence (1.7%).\n",
      "WARNING:pystan:Try running with adapt_delta larger than 0.8 to remove the divergences.\n"
     ]
    },
    {
     "name": "stderr",
     "output_type": "stream",
     "text": [
      "WARNING:pystan:Chain 2: E-BFMI = 0.1538829869738085\n",
      "WARNING:pystan:E-BFMI below 0.2 indicates you may need to reparameterize your model\n",
      "INFO:pystan:COMPILING THE C++ CODE FOR MODEL anon_model_bb063ad4e6e043a948b6541ceedcd53e NOW.\n",
      "WARNING:pystan:34 of 2000 iterations ended with a divergence (1.7%).\n",
      "WARNING:pystan:Try running with adapt_delta larger than 0.8 to remove the divergences.\n",
      "WARNING:pystan:Chain 2: E-BFMI = 0.12107458281345655\n",
      "WARNING:pystan:E-BFMI below 0.2 indicates you may need to reparameterize your model\n",
      "INFO:pystan:COMPILING THE C++ CODE FOR MODEL anon_model_bb063ad4e6e043a948b6541ceedcd53e NOW.\n",
      "WARNING:pystan:297 of 2000 iterations ended with a divergence (14.85%).\n",
      "WARNING:pystan:Try running with adapt_delta larger than 0.8 to remove the divergences.\n",
      "WARNING:pystan:Chain 1: E-BFMI = 0.10602506967290612\n",
      "WARNING:pystan:Chain 2: E-BFMI = 0.09883356384148782\n",
      "WARNING:pystan:E-BFMI below 0.2 indicates you may need to reparameterize your model\n",
      "INFO:pystan:COMPILING THE C++ CODE FOR MODEL anon_model_bb063ad4e6e043a948b6541ceedcd53e NOW.\n",
      "WARNING:pystan:62 of 2000 iterations ended with a divergence (3.1%).\n",
      "WARNING:pystan:Try running with adapt_delta larger than 0.8 to remove the divergences.\n",
      "WARNING:pystan:Chain 1: E-BFMI = 0.11456043459525077\n",
      "WARNING:pystan:Chain 2: E-BFMI = 0.12355788531930421\n",
      "WARNING:pystan:E-BFMI below 0.2 indicates you may need to reparameterize your model\n",
      "INFO:pystan:COMPILING THE C++ CODE FOR MODEL anon_model_bb063ad4e6e043a948b6541ceedcd53e NOW.\n",
      "WARNING:pystan:n_eff / iter for parameter lp__ is 0.0009152393292418724!\n",
      "WARNING:pystan:n_eff / iter below 0.001 indicates that the effective sample size has likely been overestimated\n",
      "WARNING:pystan:Rhat for parameter sigma0 is 1.4220419201606043!\n",
      "WARNING:pystan:Rhat for parameter sigma is 1.1576393132137652!\n",
      "WARNING:pystan:Rhat for parameter lp__ is 1.833169908278076!\n",
      "WARNING:pystan:Rhat above 1.1 or below 0.9 indicates that the chains very likely have not mixed\n",
      "WARNING:pystan:716 of 2000 iterations ended with a divergence (35.8%).\n",
      "WARNING:pystan:Try running with adapt_delta larger than 0.8 to remove the divergences.\n",
      "WARNING:pystan:Chain 1: E-BFMI = 0.1667364681004991\n",
      "WARNING:pystan:Chain 2: E-BFMI = 0.07213466993463126\n",
      "WARNING:pystan:E-BFMI below 0.2 indicates you may need to reparameterize your model\n",
      "INFO:pystan:COMPILING THE C++ CODE FOR MODEL anon_model_bb063ad4e6e043a948b6541ceedcd53e NOW.\n",
      "WARNING:pystan:55 of 2000 iterations ended with a divergence (2.75%).\n",
      "WARNING:pystan:Try running with adapt_delta larger than 0.8 to remove the divergences.\n",
      "WARNING:pystan:Chain 1: E-BFMI = 0.14805771244619073\n",
      "WARNING:pystan:Chain 2: E-BFMI = 0.07271837007616026\n",
      "WARNING:pystan:E-BFMI below 0.2 indicates you may need to reparameterize your model\n",
      "INFO:pystan:COMPILING THE C++ CODE FOR MODEL anon_model_bb063ad4e6e043a948b6541ceedcd53e NOW.\n",
      "WARNING:pystan:Rhat for parameter mu0 is 1.1605453246598365!\n",
      "WARNING:pystan:Rhat for parameter mu[11] is 1.1067589631960286!\n",
      "WARNING:pystan:Rhat for parameter mu[27] is 1.1010844253821204!\n",
      "WARNING:pystan:Rhat for parameter mu[33] is 1.1006891979800175!\n",
      "WARNING:pystan:Rhat for parameter lp__ is 1.1924246880918876!\n",
      "WARNING:pystan:Rhat above 1.1 or below 0.9 indicates that the chains very likely have not mixed\n",
      "WARNING:pystan:811 of 2000 iterations ended with a divergence (40.55%).\n",
      "WARNING:pystan:Try running with adapt_delta larger than 0.8 to remove the divergences.\n",
      "WARNING:pystan:Chain 1: E-BFMI = 0.08941401890947742\n",
      "WARNING:pystan:Chain 2: E-BFMI = 0.06594712251424192\n",
      "WARNING:pystan:E-BFMI below 0.2 indicates you may need to reparameterize your model\n",
      "INFO:pystan:COMPILING THE C++ CODE FOR MODEL anon_model_bb063ad4e6e043a948b6541ceedcd53e NOW.\n",
      "WARNING:pystan:Rhat for parameter sigma0 is 1.207100298905013!\n",
      "WARNING:pystan:Rhat for parameter lp__ is 1.2521805008976459!\n",
      "WARNING:pystan:Rhat above 1.1 or below 0.9 indicates that the chains very likely have not mixed\n",
      "WARNING:pystan:413 of 2000 iterations ended with a divergence (20.65%).\n",
      "WARNING:pystan:Try running with adapt_delta larger than 0.8 to remove the divergences.\n",
      "WARNING:pystan:Chain 1: E-BFMI = 0.08994266142039914\n",
      "WARNING:pystan:Chain 2: E-BFMI = 0.1354880623350087\n",
      "WARNING:pystan:E-BFMI below 0.2 indicates you may need to reparameterize your model\n",
      "INFO:pystan:COMPILING THE C++ CODE FOR MODEL anon_model_bb063ad4e6e043a948b6541ceedcd53e NOW.\n",
      "WARNING:pystan:Rhat for parameter mu0 is 1.1822167332335287!\n",
      "WARNING:pystan:Rhat for parameter lp__ is 1.1525509255429935!\n",
      "WARNING:pystan:Rhat above 1.1 or below 0.9 indicates that the chains very likely have not mixed\n",
      "WARNING:pystan:419 of 2000 iterations ended with a divergence (20.95%).\n",
      "WARNING:pystan:Try running with adapt_delta larger than 0.8 to remove the divergences.\n",
      "WARNING:pystan:Chain 1: E-BFMI = 0.05969995148688697\n",
      "WARNING:pystan:Chain 2: E-BFMI = 0.11494871510095918\n",
      "WARNING:pystan:E-BFMI below 0.2 indicates you may need to reparameterize your model\n",
      "INFO:pystan:COMPILING THE C++ CODE FOR MODEL anon_model_bb063ad4e6e043a948b6541ceedcd53e NOW.\n",
      "WARNING:pystan:118 of 2000 iterations ended with a divergence (5.9%).\n",
      "WARNING:pystan:Try running with adapt_delta larger than 0.8 to remove the divergences.\n",
      "WARNING:pystan:Chain 1: E-BFMI = 0.05513107046954999\n",
      "WARNING:pystan:Chain 2: E-BFMI = 0.10552253679533376\n",
      "WARNING:pystan:E-BFMI below 0.2 indicates you may need to reparameterize your model\n",
      "INFO:pystan:COMPILING THE C++ CODE FOR MODEL anon_model_bb063ad4e6e043a948b6541ceedcd53e NOW.\n",
      "WARNING:pystan:Rhat for parameter sigma is 1.1652243232554187!\n",
      "WARNING:pystan:Rhat for parameter lp__ is 1.1386717815113332!\n",
      "WARNING:pystan:Rhat above 1.1 or below 0.9 indicates that the chains very likely have not mixed\n",
      "WARNING:pystan:359 of 2000 iterations ended with a divergence (17.95%).\n",
      "WARNING:pystan:Try running with adapt_delta larger than 0.8 to remove the divergences.\n",
      "WARNING:pystan:Chain 1: E-BFMI = 0.1282188420723478\n",
      "WARNING:pystan:Chain 2: E-BFMI = 0.08141204653090423\n",
      "WARNING:pystan:E-BFMI below 0.2 indicates you may need to reparameterize your model\n",
      "INFO:pystan:COMPILING THE C++ CODE FOR MODEL anon_model_bb063ad4e6e043a948b6541ceedcd53e NOW.\n",
      "WARNING:pystan:Rhat for parameter lp__ is 1.1310727152966358!\n",
      "WARNING:pystan:Rhat above 1.1 or below 0.9 indicates that the chains very likely have not mixed\n",
      "WARNING:pystan:226 of 2000 iterations ended with a divergence (11.3%).\n",
      "WARNING:pystan:Try running with adapt_delta larger than 0.8 to remove the divergences.\n",
      "WARNING:pystan:Chain 1: E-BFMI = 0.10778350851865481\n",
      "WARNING:pystan:Chain 2: E-BFMI = 0.07751922895717278\n",
      "WARNING:pystan:E-BFMI below 0.2 indicates you may need to reparameterize your model\n",
      "INFO:pystan:COMPILING THE C++ CODE FOR MODEL anon_model_bb063ad4e6e043a948b6541ceedcd53e NOW.\n",
      "WARNING:pystan:232 of 2000 iterations ended with a divergence (11.6%).\n",
      "WARNING:pystan:Try running with adapt_delta larger than 0.8 to remove the divergences.\n",
      "WARNING:pystan:Chain 1: E-BFMI = 0.19967883824068225\n",
      "WARNING:pystan:Chain 2: E-BFMI = 0.06871285458867149\n",
      "WARNING:pystan:E-BFMI below 0.2 indicates you may need to reparameterize your model\n",
      "INFO:pystan:COMPILING THE C++ CODE FOR MODEL anon_model_bb063ad4e6e043a948b6541ceedcd53e NOW.\n",
      "WARNING:pystan:107 of 2000 iterations ended with a divergence (5.35%).\n",
      "WARNING:pystan:Try running with adapt_delta larger than 0.8 to remove the divergences.\n",
      "WARNING:pystan:Chain 1: E-BFMI = 0.14968556967355207\n",
      "WARNING:pystan:Chain 2: E-BFMI = 0.09696444903622337\n",
      "WARNING:pystan:E-BFMI below 0.2 indicates you may need to reparameterize your model\n",
      "INFO:pystan:COMPILING THE C++ CODE FOR MODEL anon_model_bb063ad4e6e043a948b6541ceedcd53e NOW.\n",
      "WARNING:pystan:42 of 2000 iterations ended with a divergence (2.1%).\n",
      "WARNING:pystan:Try running with adapt_delta larger than 0.8 to remove the divergences.\n",
      "WARNING:pystan:Chain 1: E-BFMI = 0.15033459308489944\n",
      "WARNING:pystan:Chain 2: E-BFMI = 0.08332245912557762\n",
      "WARNING:pystan:E-BFMI below 0.2 indicates you may need to reparameterize your model\n",
      "INFO:pystan:COMPILING THE C++ CODE FOR MODEL anon_model_bb063ad4e6e043a948b6541ceedcd53e NOW.\n",
      "WARNING:pystan:33 of 2000 iterations ended with a divergence (1.65%).\n",
      "WARNING:pystan:Try running with adapt_delta larger than 0.8 to remove the divergences.\n"
     ]
    },
    {
     "name": "stderr",
     "output_type": "stream",
     "text": [
      "WARNING:pystan:Chain 2: E-BFMI = 0.07305421670929575\n",
      "WARNING:pystan:E-BFMI below 0.2 indicates you may need to reparameterize your model\n",
      "INFO:pystan:COMPILING THE C++ CODE FOR MODEL anon_model_bb063ad4e6e043a948b6541ceedcd53e NOW.\n",
      "WARNING:pystan:Rhat for parameter sigma0 is 1.1293663131444658!\n",
      "WARNING:pystan:Rhat for parameter lp__ is 1.2614166951101033!\n",
      "WARNING:pystan:Rhat above 1.1 or below 0.9 indicates that the chains very likely have not mixed\n",
      "WARNING:pystan:251 of 2000 iterations ended with a divergence (12.55%).\n",
      "WARNING:pystan:Try running with adapt_delta larger than 0.8 to remove the divergences.\n",
      "WARNING:pystan:Chain 1: E-BFMI = 0.16072138670777517\n",
      "WARNING:pystan:Chain 2: E-BFMI = 0.056437825282487544\n",
      "WARNING:pystan:E-BFMI below 0.2 indicates you may need to reparameterize your model\n",
      "INFO:pystan:COMPILING THE C++ CODE FOR MODEL anon_model_bb063ad4e6e043a948b6541ceedcd53e NOW.\n",
      "WARNING:pystan:118 of 2000 iterations ended with a divergence (5.9%).\n",
      "WARNING:pystan:Try running with adapt_delta larger than 0.8 to remove the divergences.\n",
      "WARNING:pystan:Chain 1: E-BFMI = 0.1338092132095225\n",
      "WARNING:pystan:Chain 2: E-BFMI = 0.07912072692437983\n",
      "WARNING:pystan:E-BFMI below 0.2 indicates you may need to reparameterize your model\n",
      "INFO:pystan:COMPILING THE C++ CODE FOR MODEL anon_model_bb063ad4e6e043a948b6541ceedcd53e NOW.\n",
      "WARNING:pystan:Rhat for parameter mu0 is 1.1222658150112728!\n",
      "WARNING:pystan:Rhat for parameter sigma0 is 1.103645991721938!\n",
      "WARNING:pystan:Rhat for parameter lp__ is 1.1485953114300909!\n",
      "WARNING:pystan:Rhat above 1.1 or below 0.9 indicates that the chains very likely have not mixed\n",
      "WARNING:pystan:334 of 2000 iterations ended with a divergence (16.7%).\n",
      "WARNING:pystan:Try running with adapt_delta larger than 0.8 to remove the divergences.\n",
      "WARNING:pystan:Chain 1: E-BFMI = 0.09933992892519342\n",
      "WARNING:pystan:Chain 2: E-BFMI = 0.08877585461621235\n",
      "WARNING:pystan:E-BFMI below 0.2 indicates you may need to reparameterize your model\n",
      "INFO:pystan:COMPILING THE C++ CODE FOR MODEL anon_model_bb063ad4e6e043a948b6541ceedcd53e NOW.\n",
      "WARNING:pystan:Rhat for parameter sigma0 is 1.1951503499039196!\n",
      "WARNING:pystan:Rhat for parameter lp__ is 1.4800326845149336!\n",
      "WARNING:pystan:Rhat above 1.1 or below 0.9 indicates that the chains very likely have not mixed\n",
      "WARNING:pystan:525 of 2000 iterations ended with a divergence (26.25%).\n",
      "WARNING:pystan:Try running with adapt_delta larger than 0.8 to remove the divergences.\n",
      "WARNING:pystan:Chain 1: E-BFMI = 0.06142996687965909\n",
      "WARNING:pystan:Chain 2: E-BFMI = 0.03742191723765864\n",
      "WARNING:pystan:E-BFMI below 0.2 indicates you may need to reparameterize your model\n",
      "INFO:pystan:COMPILING THE C++ CODE FOR MODEL anon_model_bb063ad4e6e043a948b6541ceedcd53e NOW.\n",
      "WARNING:pystan:Rhat for parameter sigma0 is 1.2194182809944736!\n",
      "WARNING:pystan:Rhat for parameter lp__ is 1.3715041898862!\n",
      "WARNING:pystan:Rhat above 1.1 or below 0.9 indicates that the chains very likely have not mixed\n",
      "WARNING:pystan:913 of 2000 iterations ended with a divergence (45.65%).\n",
      "WARNING:pystan:Try running with adapt_delta larger than 0.8 to remove the divergences.\n",
      "WARNING:pystan:Chain 1: E-BFMI = 0.136358499640861\n",
      "WARNING:pystan:Chain 2: E-BFMI = 0.10128087000785321\n",
      "WARNING:pystan:E-BFMI below 0.2 indicates you may need to reparameterize your model\n",
      "INFO:pystan:COMPILING THE C++ CODE FOR MODEL anon_model_bb063ad4e6e043a948b6541ceedcd53e NOW.\n",
      "WARNING:pystan:Rhat for parameter lp__ is 1.1828174418800868!\n",
      "WARNING:pystan:Rhat above 1.1 or below 0.9 indicates that the chains very likely have not mixed\n",
      "WARNING:pystan:147 of 2000 iterations ended with a divergence (7.35%).\n",
      "WARNING:pystan:Try running with adapt_delta larger than 0.8 to remove the divergences.\n",
      "WARNING:pystan:Chain 1: E-BFMI = 0.1194421400129933\n",
      "WARNING:pystan:Chain 2: E-BFMI = 0.04924730124980994\n",
      "WARNING:pystan:E-BFMI below 0.2 indicates you may need to reparameterize your model\n",
      "INFO:pystan:COMPILING THE C++ CODE FOR MODEL anon_model_bb063ad4e6e043a948b6541ceedcd53e NOW.\n",
      "WARNING:pystan:57 of 2000 iterations ended with a divergence (2.85%).\n",
      "WARNING:pystan:Try running with adapt_delta larger than 0.8 to remove the divergences.\n",
      "WARNING:pystan:Chain 1: E-BFMI = 0.13396155816303912\n",
      "WARNING:pystan:Chain 2: E-BFMI = 0.09478396564930981\n",
      "WARNING:pystan:E-BFMI below 0.2 indicates you may need to reparameterize your model\n",
      "INFO:pystan:COMPILING THE C++ CODE FOR MODEL anon_model_bb063ad4e6e043a948b6541ceedcd53e NOW.\n",
      "WARNING:pystan:224 of 2000 iterations ended with a divergence (11.2%).\n",
      "WARNING:pystan:Try running with adapt_delta larger than 0.8 to remove the divergences.\n",
      "WARNING:pystan:Chain 1: E-BFMI = 0.13627121715724078\n",
      "WARNING:pystan:Chain 2: E-BFMI = 0.1462802554998571\n",
      "WARNING:pystan:E-BFMI below 0.2 indicates you may need to reparameterize your model\n",
      "INFO:pystan:COMPILING THE C++ CODE FOR MODEL anon_model_bb063ad4e6e043a948b6541ceedcd53e NOW.\n",
      "WARNING:pystan:n_eff / iter for parameter lp__ is 0.0008983362609893369!\n",
      "WARNING:pystan:n_eff / iter below 0.001 indicates that the effective sample size has likely been overestimated\n",
      "WARNING:pystan:Rhat for parameter sigma0 is 1.3476538548512946!\n",
      "WARNING:pystan:Rhat for parameter lp__ is 1.9066474247657572!\n",
      "WARNING:pystan:Rhat above 1.1 or below 0.9 indicates that the chains very likely have not mixed\n",
      "WARNING:pystan:677 of 2000 iterations ended with a divergence (33.85%).\n",
      "WARNING:pystan:Try running with adapt_delta larger than 0.8 to remove the divergences.\n",
      "WARNING:pystan:Chain 1: E-BFMI = 0.04186175426055208\n",
      "WARNING:pystan:Chain 2: E-BFMI = 0.13016883672032392\n",
      "WARNING:pystan:E-BFMI below 0.2 indicates you may need to reparameterize your model\n",
      "INFO:pystan:COMPILING THE C++ CODE FOR MODEL anon_model_bb063ad4e6e043a948b6541ceedcd53e NOW.\n",
      "WARNING:pystan:Rhat for parameter sigma0 is 1.1278722994283035!\n",
      "WARNING:pystan:Rhat for parameter lp__ is 1.201611469950208!\n",
      "WARNING:pystan:Rhat above 1.1 or below 0.9 indicates that the chains very likely have not mixed\n",
      "WARNING:pystan:60 of 2000 iterations ended with a divergence (3.0%).\n",
      "WARNING:pystan:Try running with adapt_delta larger than 0.8 to remove the divergences.\n",
      "WARNING:pystan:Chain 2: E-BFMI = 0.07246522409776107\n",
      "WARNING:pystan:E-BFMI below 0.2 indicates you may need to reparameterize your model\n",
      "INFO:pystan:COMPILING THE C++ CODE FOR MODEL anon_model_bb063ad4e6e043a948b6541ceedcd53e NOW.\n",
      "WARNING:pystan:Rhat for parameter sigma0 is 1.1607156388929831!\n",
      "WARNING:pystan:Rhat for parameter sigma is 1.1192061973216552!\n",
      "WARNING:pystan:Rhat for parameter lp__ is 1.3171827441961625!\n",
      "WARNING:pystan:Rhat above 1.1 or below 0.9 indicates that the chains very likely have not mixed\n",
      "WARNING:pystan:669 of 2000 iterations ended with a divergence (33.45%).\n",
      "WARNING:pystan:Try running with adapt_delta larger than 0.8 to remove the divergences.\n",
      "WARNING:pystan:Chain 1: E-BFMI = 0.07816205897247251\n",
      "WARNING:pystan:Chain 2: E-BFMI = 0.1393450854284076\n",
      "WARNING:pystan:E-BFMI below 0.2 indicates you may need to reparameterize your model\n",
      "INFO:pystan:COMPILING THE C++ CODE FOR MODEL anon_model_bb063ad4e6e043a948b6541ceedcd53e NOW.\n",
      "WARNING:pystan:Rhat for parameter lp__ is 1.1211840174237697!\n",
      "WARNING:pystan:Rhat above 1.1 or below 0.9 indicates that the chains very likely have not mixed\n",
      "WARNING:pystan:328 of 2000 iterations ended with a divergence (16.4%).\n",
      "WARNING:pystan:Try running with adapt_delta larger than 0.8 to remove the divergences.\n",
      "WARNING:pystan:Chain 1: E-BFMI = 0.1072719262832041\n",
      "WARNING:pystan:Chain 2: E-BFMI = 0.09292527946540627\n",
      "WARNING:pystan:E-BFMI below 0.2 indicates you may need to reparameterize your model\n",
      "INFO:pystan:COMPILING THE C++ CODE FOR MODEL anon_model_bb063ad4e6e043a948b6541ceedcd53e NOW.\n",
      "WARNING:pystan:Rhat for parameter mu0 is 1.248411190855257!\n",
      "WARNING:pystan:Rhat for parameter mu[10] is 1.1159288370583966!\n",
      "WARNING:pystan:Rhat for parameter mu[15] is 1.1480360615697023!\n",
      "WARNING:pystan:Rhat for parameter mu[22] is 1.138722718322141!\n",
      "WARNING:pystan:Rhat for parameter mu[23] is 1.1212020959447746!\n",
      "WARNING:pystan:Rhat for parameter mu[24] is 1.1230132325562683!\n",
      "WARNING:pystan:Rhat for parameter mu[28] is 1.105907167116869!\n",
      "WARNING:pystan:Rhat for parameter mu[30] is 1.1107004355696029!\n",
      "WARNING:pystan:Rhat for parameter mu[32] is 1.1267652480162231!\n"
     ]
    },
    {
     "name": "stderr",
     "output_type": "stream",
     "text": [
      "WARNING:pystan:Rhat for parameter sigma is 1.147874187716369!\n",
      "WARNING:pystan:Rhat for parameter lp__ is 1.1098767052808518!\n",
      "WARNING:pystan:Rhat above 1.1 or below 0.9 indicates that the chains very likely have not mixed\n",
      "WARNING:pystan:1344 of 2000 iterations ended with a divergence (67.2%).\n",
      "WARNING:pystan:Try running with adapt_delta larger than 0.8 to remove the divergences.\n",
      "WARNING:pystan:Chain 1: E-BFMI = 0.06539519265499\n",
      "WARNING:pystan:E-BFMI below 0.2 indicates you may need to reparameterize your model\n",
      "INFO:pystan:COMPILING THE C++ CODE FOR MODEL anon_model_bb063ad4e6e043a948b6541ceedcd53e NOW.\n",
      "WARNING:pystan:179 of 2000 iterations ended with a divergence (8.95%).\n",
      "WARNING:pystan:Try running with adapt_delta larger than 0.8 to remove the divergences.\n",
      "WARNING:pystan:Chain 1: E-BFMI = 0.09995114039382533\n",
      "WARNING:pystan:Chain 2: E-BFMI = 0.11590629803965967\n",
      "WARNING:pystan:E-BFMI below 0.2 indicates you may need to reparameterize your model\n",
      "INFO:pystan:COMPILING THE C++ CODE FOR MODEL anon_model_bb063ad4e6e043a948b6541ceedcd53e NOW.\n",
      "WARNING:pystan:Rhat for parameter sigma0 is 1.115566003955719!\n",
      "WARNING:pystan:Rhat for parameter lp__ is 1.1770893459964422!\n",
      "WARNING:pystan:Rhat above 1.1 or below 0.9 indicates that the chains very likely have not mixed\n",
      "WARNING:pystan:98 of 2000 iterations ended with a divergence (4.9%).\n",
      "WARNING:pystan:Try running with adapt_delta larger than 0.8 to remove the divergences.\n",
      "WARNING:pystan:Chain 1: E-BFMI = 0.05556575628727545\n",
      "WARNING:pystan:E-BFMI below 0.2 indicates you may need to reparameterize your model\n",
      "INFO:pystan:COMPILING THE C++ CODE FOR MODEL anon_model_bb063ad4e6e043a948b6541ceedcd53e NOW.\n",
      "WARNING:pystan:47 of 2000 iterations ended with a divergence (2.35%).\n",
      "WARNING:pystan:Try running with adapt_delta larger than 0.8 to remove the divergences.\n",
      "WARNING:pystan:Chain 1: E-BFMI = 0.10766698546274353\n",
      "WARNING:pystan:Chain 2: E-BFMI = 0.14882309330745266\n",
      "WARNING:pystan:E-BFMI below 0.2 indicates you may need to reparameterize your model\n",
      "INFO:pystan:COMPILING THE C++ CODE FOR MODEL anon_model_bb063ad4e6e043a948b6541ceedcd53e NOW.\n",
      "WARNING:pystan:201 of 2000 iterations ended with a divergence (10.05%).\n",
      "WARNING:pystan:Try running with adapt_delta larger than 0.8 to remove the divergences.\n",
      "WARNING:pystan:Chain 1: E-BFMI = 0.08708783056263308\n",
      "WARNING:pystan:Chain 2: E-BFMI = 0.08648057425356973\n",
      "WARNING:pystan:E-BFMI below 0.2 indicates you may need to reparameterize your model\n",
      "INFO:pystan:COMPILING THE C++ CODE FOR MODEL anon_model_bb063ad4e6e043a948b6541ceedcd53e NOW.\n",
      "WARNING:pystan:Rhat for parameter sigma0 is 1.1041913800054588!\n",
      "WARNING:pystan:Rhat for parameter lp__ is 1.1562628185604273!\n",
      "WARNING:pystan:Rhat above 1.1 or below 0.9 indicates that the chains very likely have not mixed\n",
      "WARNING:pystan:100 of 2000 iterations ended with a divergence (5.0%).\n",
      "WARNING:pystan:Try running with adapt_delta larger than 0.8 to remove the divergences.\n",
      "WARNING:pystan:Chain 1: E-BFMI = 0.13701726946111012\n",
      "WARNING:pystan:Chain 2: E-BFMI = 0.08173315462527324\n",
      "WARNING:pystan:E-BFMI below 0.2 indicates you may need to reparameterize your model\n",
      "INFO:pystan:COMPILING THE C++ CODE FOR MODEL anon_model_bb063ad4e6e043a948b6541ceedcd53e NOW.\n",
      "WARNING:pystan:Rhat for parameter sigma0 is 1.1165995584976176!\n",
      "WARNING:pystan:Rhat for parameter lp__ is 1.2966641608371572!\n",
      "WARNING:pystan:Rhat above 1.1 or below 0.9 indicates that the chains very likely have not mixed\n",
      "WARNING:pystan:127 of 2000 iterations ended with a divergence (6.35%).\n",
      "WARNING:pystan:Try running with adapt_delta larger than 0.8 to remove the divergences.\n",
      "WARNING:pystan:Chain 1: E-BFMI = 0.025199196695462316\n",
      "WARNING:pystan:Chain 2: E-BFMI = 0.1337919670870777\n",
      "WARNING:pystan:E-BFMI below 0.2 indicates you may need to reparameterize your model\n",
      "INFO:pystan:COMPILING THE C++ CODE FOR MODEL anon_model_bb063ad4e6e043a948b6541ceedcd53e NOW.\n",
      "WARNING:pystan:226 of 2000 iterations ended with a divergence (11.3%).\n",
      "WARNING:pystan:Try running with adapt_delta larger than 0.8 to remove the divergences.\n",
      "WARNING:pystan:Chain 1: E-BFMI = 0.192989583586159\n",
      "WARNING:pystan:Chain 2: E-BFMI = 0.06770358031807176\n",
      "WARNING:pystan:E-BFMI below 0.2 indicates you may need to reparameterize your model\n",
      "INFO:pystan:COMPILING THE C++ CODE FOR MODEL anon_model_bb063ad4e6e043a948b6541ceedcd53e NOW.\n",
      "WARNING:pystan:75 of 2000 iterations ended with a divergence (3.75%).\n",
      "WARNING:pystan:Try running with adapt_delta larger than 0.8 to remove the divergences.\n",
      "WARNING:pystan:Chain 1: E-BFMI = 0.14607161851543113\n",
      "WARNING:pystan:E-BFMI below 0.2 indicates you may need to reparameterize your model\n",
      "INFO:pystan:COMPILING THE C++ CODE FOR MODEL anon_model_bb063ad4e6e043a948b6541ceedcd53e NOW.\n",
      "WARNING:pystan:Rhat for parameter lp__ is 1.1707366137293935!\n",
      "WARNING:pystan:Rhat above 1.1 or below 0.9 indicates that the chains very likely have not mixed\n",
      "WARNING:pystan:176 of 2000 iterations ended with a divergence (8.8%).\n",
      "WARNING:pystan:Try running with adapt_delta larger than 0.8 to remove the divergences.\n",
      "WARNING:pystan:Chain 1: E-BFMI = 0.07034313892449437\n",
      "WARNING:pystan:Chain 2: E-BFMI = 0.17977588922653018\n",
      "WARNING:pystan:E-BFMI below 0.2 indicates you may need to reparameterize your model\n",
      "INFO:pystan:COMPILING THE C++ CODE FOR MODEL anon_model_bb063ad4e6e043a948b6541ceedcd53e NOW.\n",
      "WARNING:pystan:Rhat for parameter mu0 is 1.13958628650797!\n",
      "WARNING:pystan:Rhat for parameter sigma0 is 1.285994641482092!\n",
      "WARNING:pystan:Rhat for parameter sigma is 1.3341471986430307!\n",
      "WARNING:pystan:Rhat for parameter lp__ is 1.6494801139775388!\n",
      "WARNING:pystan:Rhat above 1.1 or below 0.9 indicates that the chains very likely have not mixed\n",
      "WARNING:pystan:603 of 2000 iterations ended with a divergence (30.15%).\n",
      "WARNING:pystan:Try running with adapt_delta larger than 0.8 to remove the divergences.\n",
      "WARNING:pystan:Chain 1: E-BFMI = 0.13677533360584013\n",
      "WARNING:pystan:Chain 2: E-BFMI = 0.052186646958796906\n",
      "WARNING:pystan:E-BFMI below 0.2 indicates you may need to reparameterize your model\n",
      "INFO:pystan:COMPILING THE C++ CODE FOR MODEL anon_model_bb063ad4e6e043a948b6541ceedcd53e NOW.\n",
      "WARNING:pystan:68 of 2000 iterations ended with a divergence (3.4%).\n",
      "WARNING:pystan:Try running with adapt_delta larger than 0.8 to remove the divergences.\n",
      "WARNING:pystan:Chain 1: E-BFMI = 0.07226051859619262\n",
      "WARNING:pystan:Chain 2: E-BFMI = 0.12392099721773232\n",
      "WARNING:pystan:E-BFMI below 0.2 indicates you may need to reparameterize your model\n",
      "INFO:pystan:COMPILING THE C++ CODE FOR MODEL anon_model_bb063ad4e6e043a948b6541ceedcd53e NOW.\n",
      "WARNING:pystan:117 of 2000 iterations ended with a divergence (5.85%).\n",
      "WARNING:pystan:Try running with adapt_delta larger than 0.8 to remove the divergences.\n",
      "WARNING:pystan:Chain 1: E-BFMI = 0.13191917535536968\n",
      "WARNING:pystan:Chain 2: E-BFMI = 0.1433039125576748\n",
      "WARNING:pystan:E-BFMI below 0.2 indicates you may need to reparameterize your model\n",
      "INFO:pystan:COMPILING THE C++ CODE FOR MODEL anon_model_bb063ad4e6e043a948b6541ceedcd53e NOW.\n",
      "WARNING:pystan:79 of 2000 iterations ended with a divergence (3.95%).\n",
      "WARNING:pystan:Try running with adapt_delta larger than 0.8 to remove the divergences.\n",
      "WARNING:pystan:Chain 1: E-BFMI = 0.1546363064169691\n",
      "WARNING:pystan:Chain 2: E-BFMI = 0.1215849304688171\n",
      "WARNING:pystan:E-BFMI below 0.2 indicates you may need to reparameterize your model\n",
      "INFO:pystan:COMPILING THE C++ CODE FOR MODEL anon_model_bb063ad4e6e043a948b6541ceedcd53e NOW.\n",
      "WARNING:pystan:179 of 2000 iterations ended with a divergence (8.95%).\n",
      "WARNING:pystan:Try running with adapt_delta larger than 0.8 to remove the divergences.\n",
      "WARNING:pystan:Chain 1: E-BFMI = 0.11654808778342218\n",
      "WARNING:pystan:Chain 2: E-BFMI = 0.1006689300604521\n",
      "WARNING:pystan:E-BFMI below 0.2 indicates you may need to reparameterize your model\n",
      "INFO:pystan:COMPILING THE C++ CODE FOR MODEL anon_model_bb063ad4e6e043a948b6541ceedcd53e NOW.\n",
      "WARNING:pystan:70 of 2000 iterations ended with a divergence (3.5%).\n",
      "WARNING:pystan:Try running with adapt_delta larger than 0.8 to remove the divergences.\n",
      "WARNING:pystan:8 of 2000 iterations saturated the maximum tree depth of 10 (0.4%)\n",
      "WARNING:pystan:Run again with max_treedepth larger than 10 to avoid saturation\n",
      "WARNING:pystan:Chain 1: E-BFMI = 0.10473570560537196\n"
     ]
    },
    {
     "name": "stderr",
     "output_type": "stream",
     "text": [
      "WARNING:pystan:Chain 2: E-BFMI = 0.04992543476062933\n",
      "WARNING:pystan:E-BFMI below 0.2 indicates you may need to reparameterize your model\n",
      "INFO:pystan:COMPILING THE C++ CODE FOR MODEL anon_model_bb063ad4e6e043a948b6541ceedcd53e NOW.\n",
      "WARNING:pystan:Rhat for parameter mu0 is 1.1445805667797018!\n",
      "WARNING:pystan:Rhat for parameter sigma0 is 1.8715157788826478!\n",
      "WARNING:pystan:Rhat for parameter mu[9] is 1.1235489141872748!\n",
      "WARNING:pystan:Rhat for parameter mu[17] is 1.126416112001765!\n",
      "WARNING:pystan:Rhat for parameter mu[18] is 1.1534346702167135!\n",
      "WARNING:pystan:Rhat for parameter mu[19] is 1.1012637560400356!\n",
      "WARNING:pystan:Rhat for parameter mu[21] is 1.1288836461546006!\n",
      "WARNING:pystan:Rhat for parameter mu[25] is 1.122865626347651!\n",
      "WARNING:pystan:Rhat for parameter mu[26] is 1.122476132498321!\n",
      "WARNING:pystan:Rhat for parameter mu[30] is 1.1172086493027233!\n",
      "WARNING:pystan:Rhat for parameter sigma is 1.332321097607494!\n",
      "WARNING:pystan:Rhat for parameter lp__ is 2.634108503435772!\n",
      "WARNING:pystan:Rhat above 1.1 or below 0.9 indicates that the chains very likely have not mixed\n",
      "WARNING:pystan:1037 of 2000 iterations ended with a divergence (51.85%).\n",
      "WARNING:pystan:Try running with adapt_delta larger than 0.8 to remove the divergences.\n",
      "WARNING:pystan:Chain 1: E-BFMI = 0.171650902555946\n",
      "WARNING:pystan:Chain 2: E-BFMI = 0.041177002839327716\n",
      "WARNING:pystan:E-BFMI below 0.2 indicates you may need to reparameterize your model\n",
      "INFO:pystan:COMPILING THE C++ CODE FOR MODEL anon_model_bb063ad4e6e043a948b6541ceedcd53e NOW.\n",
      "WARNING:pystan:Rhat for parameter sigma0 is 1.3655081645984783!\n",
      "WARNING:pystan:Rhat for parameter sigma is 1.28062802843832!\n",
      "WARNING:pystan:Rhat for parameter lp__ is 1.816132328704586!\n",
      "WARNING:pystan:Rhat above 1.1 or below 0.9 indicates that the chains very likely have not mixed\n",
      "WARNING:pystan:675 of 2000 iterations ended with a divergence (33.75%).\n",
      "WARNING:pystan:Try running with adapt_delta larger than 0.8 to remove the divergences.\n",
      "WARNING:pystan:Chain 1: E-BFMI = 0.06910677467869213\n",
      "WARNING:pystan:Chain 2: E-BFMI = 0.184421299184266\n",
      "WARNING:pystan:E-BFMI below 0.2 indicates you may need to reparameterize your model\n",
      "INFO:pystan:COMPILING THE C++ CODE FOR MODEL anon_model_bb063ad4e6e043a948b6541ceedcd53e NOW.\n",
      "WARNING:pystan:Chain 1: E-BFMI = 0.06094823130866223\n",
      "WARNING:pystan:Chain 2: E-BFMI = 0.07339533253293037\n",
      "WARNING:pystan:E-BFMI below 0.2 indicates you may need to reparameterize your model\n",
      "INFO:pystan:COMPILING THE C++ CODE FOR MODEL anon_model_bb063ad4e6e043a948b6541ceedcd53e NOW.\n",
      "WARNING:pystan:Rhat for parameter mu0 is 1.187748817749253!\n",
      "WARNING:pystan:Rhat for parameter sigma0 is 1.1173407415026557!\n",
      "WARNING:pystan:Rhat for parameter mu[10] is 1.1077761715180496!\n",
      "WARNING:pystan:Rhat for parameter mu[22] is 1.1132718739760723!\n",
      "WARNING:pystan:Rhat for parameter mu[27] is 1.1121229445996295!\n",
      "WARNING:pystan:Rhat for parameter mu[33] is 1.1065602669556343!\n",
      "WARNING:pystan:Rhat for parameter lp__ is 1.2444847138211161!\n",
      "WARNING:pystan:Rhat above 1.1 or below 0.9 indicates that the chains very likely have not mixed\n",
      "WARNING:pystan:640 of 2000 iterations ended with a divergence (32.0%).\n",
      "WARNING:pystan:Try running with adapt_delta larger than 0.8 to remove the divergences.\n",
      "WARNING:pystan:Chain 1: E-BFMI = 0.06000310005327162\n",
      "WARNING:pystan:Chain 2: E-BFMI = 0.17791948082812215\n",
      "WARNING:pystan:E-BFMI below 0.2 indicates you may need to reparameterize your model\n",
      "INFO:pystan:COMPILING THE C++ CODE FOR MODEL anon_model_bb063ad4e6e043a948b6541ceedcd53e NOW.\n",
      "WARNING:pystan:13 of 2000 iterations ended with a divergence (0.65%).\n",
      "WARNING:pystan:Try running with adapt_delta larger than 0.8 to remove the divergences.\n",
      "WARNING:pystan:Chain 1: E-BFMI = 0.09705042957409932\n",
      "WARNING:pystan:Chain 2: E-BFMI = 0.08554008685033863\n",
      "WARNING:pystan:E-BFMI below 0.2 indicates you may need to reparameterize your model\n",
      "INFO:pystan:COMPILING THE C++ CODE FOR MODEL anon_model_bb063ad4e6e043a948b6541ceedcd53e NOW.\n",
      "WARNING:pystan:50 of 2000 iterations ended with a divergence (2.5%).\n",
      "WARNING:pystan:Try running with adapt_delta larger than 0.8 to remove the divergences.\n",
      "WARNING:pystan:Chain 1: E-BFMI = 0.12093140291330973\n",
      "WARNING:pystan:Chain 2: E-BFMI = 0.16594088648931182\n",
      "WARNING:pystan:E-BFMI below 0.2 indicates you may need to reparameterize your model\n",
      "INFO:pystan:COMPILING THE C++ CODE FOR MODEL anon_model_bb063ad4e6e043a948b6541ceedcd53e NOW.\n",
      "WARNING:pystan:99 of 2000 iterations ended with a divergence (4.95%).\n",
      "WARNING:pystan:Try running with adapt_delta larger than 0.8 to remove the divergences.\n",
      "WARNING:pystan:Chain 1: E-BFMI = 0.07225245600936811\n",
      "WARNING:pystan:Chain 2: E-BFMI = 0.17755378082451975\n",
      "WARNING:pystan:E-BFMI below 0.2 indicates you may need to reparameterize your model\n",
      "INFO:pystan:COMPILING THE C++ CODE FOR MODEL anon_model_bb063ad4e6e043a948b6541ceedcd53e NOW.\n",
      "WARNING:pystan:167 of 2000 iterations ended with a divergence (8.35%).\n",
      "WARNING:pystan:Try running with adapt_delta larger than 0.8 to remove the divergences.\n",
      "WARNING:pystan:Chain 1: E-BFMI = 0.07778932283254916\n",
      "WARNING:pystan:Chain 2: E-BFMI = 0.07708040760108661\n",
      "WARNING:pystan:E-BFMI below 0.2 indicates you may need to reparameterize your model\n",
      "INFO:pystan:COMPILING THE C++ CODE FOR MODEL anon_model_bb063ad4e6e043a948b6541ceedcd53e NOW.\n",
      "WARNING:pystan:27 of 2000 iterations ended with a divergence (1.35%).\n",
      "WARNING:pystan:Try running with adapt_delta larger than 0.8 to remove the divergences.\n",
      "WARNING:pystan:Chain 1: E-BFMI = 0.10783863765762924\n",
      "WARNING:pystan:Chain 2: E-BFMI = 0.05467588671899926\n",
      "WARNING:pystan:E-BFMI below 0.2 indicates you may need to reparameterize your model\n",
      "INFO:pystan:COMPILING THE C++ CODE FOR MODEL anon_model_bb063ad4e6e043a948b6541ceedcd53e NOW.\n",
      "WARNING:pystan:Rhat for parameter sigma0 is 1.2331882291530953!\n",
      "WARNING:pystan:Rhat for parameter sigma is 1.1854254825120776!\n",
      "WARNING:pystan:Rhat for parameter lp__ is 1.4678747295974188!\n",
      "WARNING:pystan:Rhat above 1.1 or below 0.9 indicates that the chains very likely have not mixed\n",
      "WARNING:pystan:516 of 2000 iterations ended with a divergence (25.8%).\n",
      "WARNING:pystan:Try running with adapt_delta larger than 0.8 to remove the divergences.\n",
      "WARNING:pystan:Chain 1: E-BFMI = 0.11375576870767433\n",
      "WARNING:pystan:Chain 2: E-BFMI = 0.14071852664674495\n",
      "WARNING:pystan:E-BFMI below 0.2 indicates you may need to reparameterize your model\n",
      "INFO:pystan:COMPILING THE C++ CODE FOR MODEL anon_model_bb063ad4e6e043a948b6541ceedcd53e NOW.\n",
      "WARNING:pystan:58 of 2000 iterations ended with a divergence (2.9%).\n",
      "WARNING:pystan:Try running with adapt_delta larger than 0.8 to remove the divergences.\n",
      "WARNING:pystan:Chain 1: E-BFMI = 0.1005240649117578\n",
      "WARNING:pystan:Chain 2: E-BFMI = 0.14380120794575285\n",
      "WARNING:pystan:E-BFMI below 0.2 indicates you may need to reparameterize your model\n",
      "INFO:pystan:COMPILING THE C++ CODE FOR MODEL anon_model_bb063ad4e6e043a948b6541ceedcd53e NOW.\n",
      "WARNING:pystan:Rhat for parameter mu0 is 1.113685917221306!\n",
      "WARNING:pystan:Rhat for parameter lp__ is 1.1429124974807234!\n",
      "WARNING:pystan:Rhat above 1.1 or below 0.9 indicates that the chains very likely have not mixed\n",
      "WARNING:pystan:509 of 2000 iterations ended with a divergence (25.45%).\n",
      "WARNING:pystan:Try running with adapt_delta larger than 0.8 to remove the divergences.\n",
      "WARNING:pystan:Chain 1: E-BFMI = 0.11183152978087757\n",
      "WARNING:pystan:Chain 2: E-BFMI = 0.08547730551665571\n",
      "WARNING:pystan:E-BFMI below 0.2 indicates you may need to reparameterize your model\n",
      "INFO:pystan:COMPILING THE C++ CODE FOR MODEL anon_model_bb063ad4e6e043a948b6541ceedcd53e NOW.\n",
      "WARNING:pystan:206 of 2000 iterations ended with a divergence (10.3%).\n",
      "WARNING:pystan:Try running with adapt_delta larger than 0.8 to remove the divergences.\n",
      "WARNING:pystan:Chain 1: E-BFMI = 0.08125404383650273\n",
      "WARNING:pystan:Chain 2: E-BFMI = 0.16082451511190585\n",
      "WARNING:pystan:E-BFMI below 0.2 indicates you may need to reparameterize your model\n",
      "INFO:pystan:COMPILING THE C++ CODE FOR MODEL anon_model_bb063ad4e6e043a948b6541ceedcd53e NOW.\n",
      "WARNING:pystan:28 of 2000 iterations ended with a divergence (1.4%).\n",
      "WARNING:pystan:Try running with adapt_delta larger than 0.8 to remove the divergences.\n",
      "WARNING:pystan:Chain 1: E-BFMI = 0.14562493760440698\n"
     ]
    },
    {
     "name": "stderr",
     "output_type": "stream",
     "text": [
      "WARNING:pystan:Chain 2: E-BFMI = 0.1389568520162296\n",
      "WARNING:pystan:E-BFMI below 0.2 indicates you may need to reparameterize your model\n",
      "INFO:pystan:COMPILING THE C++ CODE FOR MODEL anon_model_bb063ad4e6e043a948b6541ceedcd53e NOW.\n",
      "WARNING:pystan:2 of 2000 iterations ended with a divergence (0.1%).\n",
      "WARNING:pystan:Try running with adapt_delta larger than 0.8 to remove the divergences.\n",
      "WARNING:pystan:Chain 1: E-BFMI = 0.08678138899992484\n",
      "WARNING:pystan:Chain 2: E-BFMI = 0.1758365368913911\n",
      "WARNING:pystan:E-BFMI below 0.2 indicates you may need to reparameterize your model\n",
      "INFO:pystan:COMPILING THE C++ CODE FOR MODEL anon_model_bb063ad4e6e043a948b6541ceedcd53e NOW.\n",
      "WARNING:pystan:164 of 2000 iterations ended with a divergence (8.2%).\n",
      "WARNING:pystan:Try running with adapt_delta larger than 0.8 to remove the divergences.\n",
      "WARNING:pystan:Chain 1: E-BFMI = 0.12694559244263184\n",
      "WARNING:pystan:Chain 2: E-BFMI = 0.08184046814213543\n",
      "WARNING:pystan:E-BFMI below 0.2 indicates you may need to reparameterize your model\n",
      "INFO:pystan:COMPILING THE C++ CODE FOR MODEL anon_model_bb063ad4e6e043a948b6541ceedcd53e NOW.\n",
      "WARNING:pystan:17 of 2000 iterations ended with a divergence (0.85%).\n",
      "WARNING:pystan:Try running with adapt_delta larger than 0.8 to remove the divergences.\n",
      "WARNING:pystan:Chain 1: E-BFMI = 0.08721971193050466\n",
      "WARNING:pystan:Chain 2: E-BFMI = 0.1384961634606205\n",
      "WARNING:pystan:E-BFMI below 0.2 indicates you may need to reparameterize your model\n",
      "INFO:pystan:COMPILING THE C++ CODE FOR MODEL anon_model_bb063ad4e6e043a948b6541ceedcd53e NOW.\n",
      "WARNING:pystan:67 of 2000 iterations ended with a divergence (3.35%).\n",
      "WARNING:pystan:Try running with adapt_delta larger than 0.8 to remove the divergences.\n",
      "WARNING:pystan:Chain 1: E-BFMI = 0.15685596135351026\n",
      "WARNING:pystan:Chain 2: E-BFMI = 0.10565452763694273\n",
      "WARNING:pystan:E-BFMI below 0.2 indicates you may need to reparameterize your model\n",
      "INFO:pystan:COMPILING THE C++ CODE FOR MODEL anon_model_bb063ad4e6e043a948b6541ceedcd53e NOW.\n",
      "WARNING:pystan:195 of 2000 iterations ended with a divergence (9.75%).\n",
      "WARNING:pystan:Try running with adapt_delta larger than 0.8 to remove the divergences.\n",
      "WARNING:pystan:Chain 1: E-BFMI = 0.10945828229177704\n",
      "WARNING:pystan:Chain 2: E-BFMI = 0.1034037969105344\n",
      "WARNING:pystan:E-BFMI below 0.2 indicates you may need to reparameterize your model\n"
     ]
    }
   ],
   "source": [
    "for i_pred in range(79):\n",
    "    mask = np.ones(79, dtype=bool)\n",
    "    mask[i_pred] = False\n",
    "    y_train = data[mask]\n",
    "    y_test = data[i_pred]\n",
    "    data_hierarchical = {\n",
    "        'N': y_train.shape[0],\n",
    "        'K': y_train.shape[1],\n",
    "        'y': y_train\n",
    "    }\n",
    "    fit_hierarchical = pystan.stan(model_code = hierarchical_code, data = data_hierarchical, iter=2000, chains=2)\n",
    "    mu_pred = np.mean(fit_hierarchical['mupred'])\n",
    "    sigma_pred = np.mean(fit_hierarchical['sigma'])\n",
    "    mu_ytest = np.mean(y_test)\n",
    "    sigma_ytest = np.std(y_test)\n",
    "    mean_error.append(mu_ytest - mu_pred)\n",
    "    sigma_error.append(sigma_ytest - sigma_pred)"
   ]
  },
  {
   "cell_type": "code",
   "execution_count": 61,
   "metadata": {},
   "outputs": [],
   "source": [
    "MAE = np.mean(np.abs(mean_error))"
   ]
  },
  {
   "cell_type": "code",
   "execution_count": 62,
   "metadata": {},
   "outputs": [
    {
     "data": {
      "text/plain": [
       "0.03534605551504358"
      ]
     },
     "execution_count": 62,
     "metadata": {},
     "output_type": "execute_result"
    }
   ],
   "source": [
    "MAE"
   ]
  }
 ],
 "metadata": {
  "kernelspec": {
   "display_name": "Python 3",
   "language": "python",
   "name": "python3"
  },
  "language_info": {
   "codemirror_mode": {
    "name": "ipython",
    "version": 3
   },
   "file_extension": ".py",
   "mimetype": "text/x-python",
   "name": "python",
   "nbconvert_exporter": "python",
   "pygments_lexer": "ipython3",
   "version": "3.6.5"
  }
 },
 "nbformat": 4,
 "nbformat_minor": 2
}
