{
 "cells": [
  {
   "cell_type": "markdown",
   "metadata": {},
   "source": [
    "# PROJECT WORK\n",
    "#### 1. Problem Description \n",
    "\n",
    "The dataset named Score is obtained from the website https://www.kaggle.com/nycopendata/high-schools. The dataset is a collection of 435 observations of the average score in SAT math, reading and writing tests from all high schools of 5 different boroughs in New York City. Below are the variables of the original dataset:\n",
    "\n",
    "![ColumnName](./Fig/nyc/VariableNames.png)\n",
    "\n",
    "\n",
    "For the scope of this project work, we focus on choosing only one variable and regress SAT average math scores based on that variable. The variable chosen here is the student enrollment. Comparing the original distribution of math scores vs. log-scale of math scores, log-scale math scores seems to follow normal distribution better. Therefore, we choose to build our models with log-scale math scores. \n",
    "\n",
    "Data distribution:\n",
    "![Math](./Fig/nyc/Math.png)\n",
    "\n",
    "\n",
    "#### 2. Model description\n",
    "\n",
    "In the sections following, we will go through 4 different models:\n",
    "\n",
    "- Pooled model: all borough belongs to the same distribution, log math scores is regressed based on the number of student enrollment.  Parameters are beta1, beta2 and sigma that are common for all boroughs.  \n",
    "                                        y ~ N(beta1 + beta2*x, sigma) \n",
    "- Separate model: each borough has its own separate model. The parameters are alpha (unique for each borough), beta and sigma (common for all boroughs)\n",
    "                                        mu = alpha_borough + beta*x\n",
    "                                        y ~ N(mu, sigma)\n",
    "- Varying slop and intercept model: each borough has its own separate model with both alpha and beta unique for each borough, sigma is common for all boroughs. Alpha and beta follows normal distribution with priors:\n",
    "                                        mu_alpha ~ N(0,1)\n",
    "                                        mu_beta ~ N(0,1)\n",
    "                                        alpha ~ N(mu_alpha, sigma_alpha)\n",
    "                                        alpha ~ N(mu_alpha, sigma_alpha)\n",
    "                                        mu = alpha_borough + beta_borough*x\n",
    "                                        y ~ N(mu, sigma)\n",
    "- Hierarchical model with no regressor: each borough has its own parameters mu that follows a normal distribution (mu0, sigma0) and shared sigma.\n",
    "                                  mu ~ (mu0, sigma0)\n",
    "                                  y ~ (mu, sigma)\n",
    "                                        \n",
    "For evaluation purpose, we split up training-test data to evaluate the accuracy of each models. \n",
    "\n",
    "The codes are passed to PyStan and simulated with 2 chains in 1000 iterations. \n",
    "\n",
    "#### 2.1. Pooled model \n",
    "\n",
    "Stan code:"
   ]
  },
  {
   "cell_type": "markdown",
   "metadata": {},
   "source": [
    "`data {\n",
    "    int<lower=0>  N;\n",
    "    int<lower=0> M;\n",
    "    vector[N] x;\n",
    "    vector[M] x_test;\n",
    "    vector[N] y;\n",
    "}\n",
    "parameters {\n",
    "    vector[2] beta;\n",
    "    real<lower=0> sigma;\n",
    "}\n",
    "model {\n",
    "    y ~ normal(beta[1] + beta[2]*x, sigma);\n",
    "}\n",
    "generated quantities{\n",
    "    vector[N] log_lik;\n",
    "    vector[M] y_pred_test;\n",
    "    for (i in 1:M)\n",
    "     y_pred_test[i] = normal_rng(beta[1] + beta[2]*x_test[i], sigma);\n",
    "    for (i in 1:N)\n",
    "     log_lik[i] = normal_lpdf(y[i]| beta[1] + beta[2]*x[i], sigma);\n",
    "}`"
   ]
  },
  {
   "cell_type": "markdown",
   "metadata": {},
   "source": [
    "#### 2.2. Separate model \n",
    "\n",
    "Stan code"
   ]
  },
  {
   "cell_type": "markdown",
   "metadata": {},
   "source": [
    "`data{\n",
    "    int<lower=0> N;\n",
    "    int<lower=1, upper=5> boroughs[N]; #borough indicator\n",
    "    vector[N] x;\n",
    "    vector[N] y;\n",
    "}\n",
    "parameters {\n",
    "    vector[4] alpha;\n",
    "    real beta; #only 1 beta, not a vector\n",
    "    real<lower=0> sigma;\n",
    "}\n",
    "transformed parameters {\n",
    "    vector[N] mu;  \n",
    "    for (i in 1:N)\n",
    "        mu[i] <- beta* x[i] + alpha[boroughs[i]];\n",
    "}\n",
    "model {\n",
    "    y ~ normal(mu, sigma);\n",
    "}\n",
    "generated quantities{\n",
    "    vector[N] log_lik;\n",
    "    for (i in 1:N)\n",
    "     log_lik[i] = normal_lpdf(y[i]| mu[i], sigma);\n",
    "}`"
   ]
  },
  {
   "cell_type": "markdown",
   "metadata": {},
   "source": [
    "#### 2.3. Varying intercept and slope model \n",
    "Stan code:"
   ]
  },
  {
   "cell_type": "markdown",
   "metadata": {},
   "source": [
    "`data {\n",
    "  int<lower=0> N;\n",
    "  int<lower=0> J;\n",
    "  vector[N] y;\n",
    "  vector[N] x;\n",
    "  int boroughs[N];\n",
    "}\n",
    "parameters {\n",
    "  real<lower=0> sigma;\n",
    "  real<lower=0> sigma_a;\n",
    "  real<lower=0> sigma_b;\n",
    "  vector[J] alpha;\n",
    "  vector[J] beta;\n",
    "  real mu_a;\n",
    "  real mu_b;\n",
    "}\n",
    "transformed parameters {\n",
    "    vector[N] mu;  \n",
    "    for (i in 1:N)\n",
    "        mu[i] <- alpha[boroughs[i]] + beta[boroughs[i]]*x[i];\n",
    "}\n",
    "model {\n",
    "  mu_a ~ normal(0, 1);\n",
    "  mu_b ~ normal(0, 1);\n",
    "  alpha ~ normal(mu_a, sigma_a);\n",
    "  beta ~ normal(mu_b, sigma_b);\n",
    "  y ~ normal(mu, sigma);\n",
    "}\n",
    "generated quantities{\n",
    "    vector[N] log_lik;\n",
    "    for (i in 1:N)\n",
    "     log_lik[i] = normal_lpdf(y[i]| mu[i], sigma);\n",
    "}`"
   ]
  },
  {
   "cell_type": "markdown",
   "metadata": {},
   "source": [
    "#### 2.4. Hierarchical model \n",
    "Stan code:"
   ]
  },
  {
   "cell_type": "markdown",
   "metadata": {},
   "source": [
    "`data {\n",
    "    int<lower=1> N;\n",
    "    int<lower=1> K;\n",
    "    matrix[N, K] y;\n",
    "}\n",
    "parameters {\n",
    "    real mu0;\n",
    "    real<lower=0> sigma0;\n",
    "    vector[K] mu;\n",
    "    real<lower=0> sigma;\n",
    "}\n",
    "model {\n",
    "    for (j in 1:K){\n",
    "        mu[j] ~ normal(mu0, sigma0);\n",
    "        y[:,j] ~ normal(mu[j], sigma);\n",
    "     }\n",
    "}\n",
    "generated quantities {\n",
    "    real mupred;\n",
    "    mupred <- normal_rng(mu0, sigma0);\n",
    "}`"
   ]
  },
  {
   "cell_type": "markdown",
   "metadata": {},
   "source": [
    "#### 3. Convergence and Result\n",
    "#### 3.1. Pooled model \n",
    "\n",
    "R-hat for all variables is approximately 1.0, so we can conclude that the model has converged. Checking effective sample size and divergence returns value True, meaning that there is no problem with the model. The graph below demonstrates the fitted line. \n",
    "![Pooledmodel](./Fig/nyc/PooledModel.png)\n",
    "\n",
    "\n",
    "#### 3.2. Separate model  \n",
    "R-hat for all variables is approximately 1.0, so we can conclude that the model has converged. Checking effective sample size and divergence returns value True, meaning that there is no problem with the model.\n",
    "Alpha (intercept) calculated for different boroughs:\n",
    "![Sepmodel_alpha](./Fig/nyc/Intercept_separate.png)\n",
    "\n",
    "#### 3.3. Varying intercept and slope model\n",
    "R-hat for all variables is above 1.1 or below 0.9, so we can conclude that the model has not converged. The model will not be selected for evaluation. \n",
    "\n",
    "#### 3.4. Hierarchical model  \n",
    "R-hat for all variables is above 1.1 or below 0.9, so we can conclude that the model has not converged. The model will not be selected for evaluation."
   ]
  },
  {
   "cell_type": "markdown",
   "metadata": {},
   "source": [
    "#### 4. Model evaluation with Psis-loo \n",
    "\n",
    "Two methods for model evaluation has been used in this project: psis-loo and MAE.\n",
    "\n",
    "Psisloo results for each model:\n",
    "\n",
    "| Measurements | Pooled model | Separate model | \n",
    "| --- | --- | --- |\n",
    "| psis-loo | 114.74 | 125.60 | \n",
    "| p_eff | 3.79 | 7.38 |\n",
    "| k > 0.5 | None | Some | \n",
    "\n",
    "Scatter plot of ks values for different models:\n",
    "\n",
    "- Pooled model: all k values is below 0.5. We can conclude that the parameter estimations of the model is reliable.\n",
    "\n",
    "![k_values_pooled](./Fig/nyc/k_pooled.png)\n",
    "\n",
    "- Separate model: all k values is below 0.5. We can conclude that the parameter estimations of the model is reliable.\n",
    "\n",
    "![k_values_separate](./Fig/nyc/k_separate.png)\n",
    "\n",
    "\n",
    "#### 5. Posterior predictive checking  \n",
    "MAE and MSE results for each model:\n",
    "\n",
    "| Measurements | Pooled model | Separate model | \n",
    "| --- | --- | --- | \n",
    "| MAE | 0.095 | 0.085 | \n",
    "| MSE| 0.014 | 0.013 | \n",
    "\n",
    "Posterior distribution:\n",
    "\n",
    "- Pooled model\n",
    "- Separate model\n",
    " \n",
    "\n",
    "Model comparison: Pooled model is most suitable for the dataset, as it has lowest score in both MAE and MSE. Hierarchical model and Varying Intercept and Slope model do not converge.\n",
    "\n",
    "#### 6. Conclusion and potential improvements\n",
    "In conclusion, it seems that pooled model performs the best. \n",
    "\n",
    "<What can be concluded from the result? Does school level affect performance? Does teaching experience affect performance? What to do to maximize math score result?>\n",
    "\n",
    "Within the scope of this project, we only explore one variable effect on math score results. Further analysis can be done with additional variables to improve prediction accuracy.  \n",
    "\n",
    "#### 7. References\n",
    "\n",
    "Codes adapted from Fonnesbeck, C. A Primer on Bayesian Multilevel Modeling using PyStan. URL: http://mc-stan.org/users/documentation/case-studies/radon.html?fbclid=IwAR3h_03XtQnyJQ18EOdREkPX-4biDX7c5AN5e9DPQzQLZ6hB2JRFh1gHemQ\n",
    "\n",
    "Dataset collected from Rdatasets. URL: https://www.kaggle.com/nycopendata/high-schools"
   ]
  },
  {
   "cell_type": "code",
   "execution_count": 41,
   "metadata": {},
   "outputs": [],
   "source": [
    "%matplotlib inline\n",
    "import numpy as np\n",
    "import pandas as pd\n",
    "import matplotlib.pyplot as plt\n",
    "import seaborn as sns; sns.set_context('notebook')\n",
    "import stanity\n",
    "import pystan\n",
    "import pystan.diagnostics\n",
    "\n"
   ]
  },
  {
   "cell_type": "code",
   "execution_count": 42,
   "metadata": {},
   "outputs": [],
   "source": [
    "from sklearn.metrics import mean_absolute_error as MAE\n",
    "from sklearn.metrics import mean_squared_error as MSE"
   ]
  },
  {
   "cell_type": "code",
   "execution_count": 43,
   "metadata": {},
   "outputs": [],
   "source": [
    "np.random.seed(100)"
   ]
  },
  {
   "cell_type": "code",
   "execution_count": 44,
   "metadata": {},
   "outputs": [
    {
     "data": {
      "text/html": [
       "<div>\n",
       "<style scoped>\n",
       "    .dataframe tbody tr th:only-of-type {\n",
       "        vertical-align: middle;\n",
       "    }\n",
       "\n",
       "    .dataframe tbody tr th {\n",
       "        vertical-align: top;\n",
       "    }\n",
       "\n",
       "    .dataframe thead th {\n",
       "        text-align: right;\n",
       "    }\n",
       "</style>\n",
       "<table border=\"1\" class=\"dataframe\">\n",
       "  <thead>\n",
       "    <tr style=\"text-align: right;\">\n",
       "      <th></th>\n",
       "      <th>School Name</th>\n",
       "      <th>Borough</th>\n",
       "      <th>Building Code</th>\n",
       "      <th>Street Address</th>\n",
       "      <th>City</th>\n",
       "      <th>State</th>\n",
       "      <th>Zip Code</th>\n",
       "      <th>Latitude</th>\n",
       "      <th>Longitude</th>\n",
       "      <th>Phone Number</th>\n",
       "      <th>...</th>\n",
       "      <th>End Time</th>\n",
       "      <th>Student Enrollment</th>\n",
       "      <th>Percent White</th>\n",
       "      <th>Percent Black</th>\n",
       "      <th>Percent Hispanic</th>\n",
       "      <th>Percent Asian</th>\n",
       "      <th>Average Score (SAT Math)</th>\n",
       "      <th>Average Score (SAT Reading)</th>\n",
       "      <th>Average Score (SAT Writing)</th>\n",
       "      <th>Percent Tested</th>\n",
       "    </tr>\n",
       "    <tr>\n",
       "      <th>School ID</th>\n",
       "      <th></th>\n",
       "      <th></th>\n",
       "      <th></th>\n",
       "      <th></th>\n",
       "      <th></th>\n",
       "      <th></th>\n",
       "      <th></th>\n",
       "      <th></th>\n",
       "      <th></th>\n",
       "      <th></th>\n",
       "      <th></th>\n",
       "      <th></th>\n",
       "      <th></th>\n",
       "      <th></th>\n",
       "      <th></th>\n",
       "      <th></th>\n",
       "      <th></th>\n",
       "      <th></th>\n",
       "      <th></th>\n",
       "      <th></th>\n",
       "      <th></th>\n",
       "    </tr>\n",
       "  </thead>\n",
       "  <tbody>\n",
       "    <tr>\n",
       "      <th>02M260</th>\n",
       "      <td>Clinton School Writers and Artists</td>\n",
       "      <td>Manhattan</td>\n",
       "      <td>M933</td>\n",
       "      <td>425 West 33rd Street</td>\n",
       "      <td>Manhattan</td>\n",
       "      <td>NY</td>\n",
       "      <td>10001</td>\n",
       "      <td>40.75321</td>\n",
       "      <td>-73.99786</td>\n",
       "      <td>212-695-9114</td>\n",
       "      <td>...</td>\n",
       "      <td>NaN</td>\n",
       "      <td>NaN</td>\n",
       "      <td>NaN</td>\n",
       "      <td>NaN</td>\n",
       "      <td>NaN</td>\n",
       "      <td>NaN</td>\n",
       "      <td>NaN</td>\n",
       "      <td>NaN</td>\n",
       "      <td>NaN</td>\n",
       "      <td>NaN</td>\n",
       "    </tr>\n",
       "    <tr>\n",
       "      <th>06M211</th>\n",
       "      <td>Inwood Early College for Health and Informatio...</td>\n",
       "      <td>Manhattan</td>\n",
       "      <td>M052</td>\n",
       "      <td>650 Academy Street</td>\n",
       "      <td>Manhattan</td>\n",
       "      <td>NY</td>\n",
       "      <td>10002</td>\n",
       "      <td>40.86605</td>\n",
       "      <td>-73.92486</td>\n",
       "      <td>718-935-3660</td>\n",
       "      <td>...</td>\n",
       "      <td>3:00 PM</td>\n",
       "      <td>87.0</td>\n",
       "      <td>3.4%</td>\n",
       "      <td>21.8%</td>\n",
       "      <td>67.8%</td>\n",
       "      <td>4.6%</td>\n",
       "      <td>NaN</td>\n",
       "      <td>NaN</td>\n",
       "      <td>NaN</td>\n",
       "      <td>NaN</td>\n",
       "    </tr>\n",
       "    <tr>\n",
       "      <th>01M539</th>\n",
       "      <td>New Explorations into Science, Technology and ...</td>\n",
       "      <td>Manhattan</td>\n",
       "      <td>M022</td>\n",
       "      <td>111 Columbia Street</td>\n",
       "      <td>Manhattan</td>\n",
       "      <td>NY</td>\n",
       "      <td>10002</td>\n",
       "      <td>40.71873</td>\n",
       "      <td>-73.97943</td>\n",
       "      <td>212-677-5190</td>\n",
       "      <td>...</td>\n",
       "      <td>4:00 PM</td>\n",
       "      <td>1735.0</td>\n",
       "      <td>28.6%</td>\n",
       "      <td>13.3%</td>\n",
       "      <td>18.0%</td>\n",
       "      <td>38.5%</td>\n",
       "      <td>657.0</td>\n",
       "      <td>601.0</td>\n",
       "      <td>601.0</td>\n",
       "      <td>91.0%</td>\n",
       "    </tr>\n",
       "    <tr>\n",
       "      <th>02M294</th>\n",
       "      <td>Essex Street Academy</td>\n",
       "      <td>Manhattan</td>\n",
       "      <td>M445</td>\n",
       "      <td>350 Grand Street</td>\n",
       "      <td>Manhattan</td>\n",
       "      <td>NY</td>\n",
       "      <td>10002</td>\n",
       "      <td>40.71687</td>\n",
       "      <td>-73.98953</td>\n",
       "      <td>212-475-4773</td>\n",
       "      <td>...</td>\n",
       "      <td>2:45 PM</td>\n",
       "      <td>358.0</td>\n",
       "      <td>11.7%</td>\n",
       "      <td>38.5%</td>\n",
       "      <td>41.3%</td>\n",
       "      <td>5.9%</td>\n",
       "      <td>395.0</td>\n",
       "      <td>411.0</td>\n",
       "      <td>387.0</td>\n",
       "      <td>78.9%</td>\n",
       "    </tr>\n",
       "    <tr>\n",
       "      <th>02M308</th>\n",
       "      <td>Lower Manhattan Arts Academy</td>\n",
       "      <td>Manhattan</td>\n",
       "      <td>M445</td>\n",
       "      <td>350 Grand Street</td>\n",
       "      <td>Manhattan</td>\n",
       "      <td>NY</td>\n",
       "      <td>10002</td>\n",
       "      <td>40.71687</td>\n",
       "      <td>-73.98953</td>\n",
       "      <td>212-505-0143</td>\n",
       "      <td>...</td>\n",
       "      <td>3:00 PM</td>\n",
       "      <td>383.0</td>\n",
       "      <td>3.1%</td>\n",
       "      <td>28.2%</td>\n",
       "      <td>56.9%</td>\n",
       "      <td>8.6%</td>\n",
       "      <td>418.0</td>\n",
       "      <td>428.0</td>\n",
       "      <td>415.0</td>\n",
       "      <td>65.1%</td>\n",
       "    </tr>\n",
       "  </tbody>\n",
       "</table>\n",
       "<p>5 rows × 21 columns</p>\n",
       "</div>"
      ],
      "text/plain": [
       "                                                 School Name    Borough  \\\n",
       "School ID                                                                 \n",
       "02M260                    Clinton School Writers and Artists  Manhattan   \n",
       "06M211     Inwood Early College for Health and Informatio...  Manhattan   \n",
       "01M539     New Explorations into Science, Technology and ...  Manhattan   \n",
       "02M294                                  Essex Street Academy  Manhattan   \n",
       "02M308                          Lower Manhattan Arts Academy  Manhattan   \n",
       "\n",
       "          Building Code        Street Address       City State  Zip Code  \\\n",
       "School ID                                                                  \n",
       "02M260             M933  425 West 33rd Street  Manhattan    NY     10001   \n",
       "06M211             M052    650 Academy Street  Manhattan    NY     10002   \n",
       "01M539             M022   111 Columbia Street  Manhattan    NY     10002   \n",
       "02M294             M445      350 Grand Street  Manhattan    NY     10002   \n",
       "02M308             M445      350 Grand Street  Manhattan    NY     10002   \n",
       "\n",
       "           Latitude  Longitude    Phone Number       ...       End Time  \\\n",
       "School ID                                            ...                  \n",
       "02M260     40.75321  -73.99786    212-695-9114       ...            NaN   \n",
       "06M211     40.86605  -73.92486  718-935-3660         ...        3:00 PM   \n",
       "01M539     40.71873  -73.97943    212-677-5190       ...        4:00 PM   \n",
       "02M294     40.71687  -73.98953    212-475-4773       ...        2:45 PM   \n",
       "02M308     40.71687  -73.98953    212-505-0143       ...        3:00 PM   \n",
       "\n",
       "          Student Enrollment  Percent White Percent Black Percent Hispanic  \\\n",
       "School ID                                                                    \n",
       "02M260                   NaN            NaN           NaN              NaN   \n",
       "06M211                  87.0           3.4%         21.8%            67.8%   \n",
       "01M539                1735.0          28.6%         13.3%            18.0%   \n",
       "02M294                 358.0          11.7%         38.5%            41.3%   \n",
       "02M308                 383.0           3.1%         28.2%            56.9%   \n",
       "\n",
       "          Percent Asian Average Score (SAT Math)  Average Score (SAT Reading)  \\\n",
       "School ID                                                                       \n",
       "02M260              NaN                      NaN                          NaN   \n",
       "06M211             4.6%                      NaN                          NaN   \n",
       "01M539            38.5%                    657.0                        601.0   \n",
       "02M294             5.9%                    395.0                        411.0   \n",
       "02M308             8.6%                    418.0                        428.0   \n",
       "\n",
       "           Average Score (SAT Writing)  Percent Tested  \n",
       "School ID                                               \n",
       "02M260                             NaN             NaN  \n",
       "06M211                             NaN             NaN  \n",
       "01M539                           601.0           91.0%  \n",
       "02M294                           387.0           78.9%  \n",
       "02M308                           415.0           65.1%  \n",
       "\n",
       "[5 rows x 21 columns]"
      ]
     },
     "execution_count": 44,
     "metadata": {},
     "output_type": "execute_result"
    }
   ],
   "source": [
    "score = pd.read_csv('scores.csv', index_col=0, header = 0)\n",
    "score.head()"
   ]
  },
  {
   "cell_type": "code",
   "execution_count": 45,
   "metadata": {},
   "outputs": [
    {
     "name": "stdout",
     "output_type": "stream",
     "text": [
      "<class 'pandas.core.frame.DataFrame'>\n",
      "Index: 435 entries, 02M260 to 27Q323\n",
      "Data columns (total 21 columns):\n",
      "School Name                    435 non-null object\n",
      "Borough                        435 non-null object\n",
      "Building Code                  435 non-null object\n",
      "Street Address                 435 non-null object\n",
      "City                           435 non-null object\n",
      "State                          435 non-null object\n",
      "Zip Code                       435 non-null int64\n",
      "Latitude                       435 non-null float64\n",
      "Longitude                      435 non-null float64\n",
      "Phone Number                   435 non-null object\n",
      "Start Time                     431 non-null object\n",
      "End Time                       431 non-null object\n",
      "Student Enrollment             428 non-null float64\n",
      "Percent White                  428 non-null object\n",
      "Percent Black                  428 non-null object\n",
      "Percent Hispanic               428 non-null object\n",
      "Percent Asian                  428 non-null object\n",
      "Average Score (SAT Math)       375 non-null float64\n",
      "Average Score (SAT Reading)    375 non-null float64\n",
      "Average Score (SAT Writing)    375 non-null float64\n",
      "Percent Tested                 386 non-null object\n",
      "dtypes: float64(6), int64(1), object(14)\n",
      "memory usage: 74.8+ KB\n"
     ]
    }
   ],
   "source": [
    "score.info()"
   ]
  },
  {
   "cell_type": "code",
   "execution_count": 46,
   "metadata": {},
   "outputs": [
    {
     "name": "stdout",
     "output_type": "stream",
     "text": [
      "<class 'pandas.core.frame.DataFrame'>\n",
      "Index: 435 entries, 02M260 to 27Q323\n",
      "Data columns (total 4 columns):\n",
      "SchoolName    435 non-null object\n",
      "Borough       435 non-null object\n",
      "Enrollment    428 non-null float64\n",
      "math          375 non-null float64\n",
      "dtypes: float64(2), object(2)\n",
      "memory usage: 17.0+ KB\n"
     ]
    }
   ],
   "source": [
    "df = score.loc[:,['School Name', 'Borough', 'Student Enrollment', 'Average Score (SAT Math)']]\n",
    "df.columns = ['SchoolName', \"Borough\", \"Enrollment\", \"math\"]\n",
    "df.head()\n",
    "df.info()"
   ]
  },
  {
   "cell_type": "code",
   "execution_count": 47,
   "metadata": {},
   "outputs": [
    {
     "name": "stdout",
     "output_type": "stream",
     "text": [
      "Brooklyn         109\n",
      "Bronx             98\n",
      "Manhattan         89\n",
      "Queens            69\n",
      "Staten Island     10\n",
      "Name: Borough, dtype: int64\n"
     ]
    }
   ],
   "source": [
    "df.dropna(inplace=True)\n",
    "print(df.Borough.value_counts())"
   ]
  },
  {
   "cell_type": "code",
   "execution_count": 48,
   "metadata": {},
   "outputs": [],
   "source": [
    "st_island = df.index[df.Borough == 'Staten Island']"
   ]
  },
  {
   "cell_type": "code",
   "execution_count": 49,
   "metadata": {},
   "outputs": [
    {
     "data": {
      "text/plain": [
       "(375, 4)"
      ]
     },
     "execution_count": 49,
     "metadata": {},
     "output_type": "execute_result"
    }
   ],
   "source": [
    "df.shape"
   ]
  },
  {
   "cell_type": "code",
   "execution_count": 50,
   "metadata": {},
   "outputs": [],
   "source": [
    "test_df = df.loc[st_island, :]"
   ]
  },
  {
   "cell_type": "code",
   "execution_count": 51,
   "metadata": {},
   "outputs": [],
   "source": [
    "df.drop(st_island, inplace=True)"
   ]
  },
  {
   "cell_type": "code",
   "execution_count": 52,
   "metadata": {},
   "outputs": [
    {
     "name": "stdout",
     "output_type": "stream",
     "text": [
      "<class 'pandas.core.frame.DataFrame'>\n",
      "Index: 365 entries, 01M539 to 27Q323\n",
      "Data columns (total 4 columns):\n",
      "SchoolName    365 non-null object\n",
      "Borough       365 non-null object\n",
      "Enrollment    365 non-null float64\n",
      "math          365 non-null float64\n",
      "dtypes: float64(2), object(2)\n",
      "memory usage: 14.3+ KB\n"
     ]
    }
   ],
   "source": [
    "df.info()"
   ]
  },
  {
   "cell_type": "code",
   "execution_count": 53,
   "metadata": {},
   "outputs": [
    {
     "data": {
      "text/plain": [
       "array(['Manhattan', 'Bronx', 'Queens', 'Brooklyn'], dtype=object)"
      ]
     },
     "execution_count": 53,
     "metadata": {},
     "output_type": "execute_result"
    }
   ],
   "source": [
    "df.Borough.unique()"
   ]
  },
  {
   "cell_type": "code",
   "execution_count": 54,
   "metadata": {},
   "outputs": [
    {
     "name": "stdout",
     "output_type": "stream",
     "text": [
      "                                                  SchoolName  Borough  \\\n",
      "School ID                                                               \n",
      "01M539     New Explorations into Science, Technology and ...        1   \n",
      "02M294                                  Essex Street Academy        1   \n",
      "02M308                          Lower Manhattan Arts Academy        1   \n",
      "02M545       High School for Dual Language and Asian Studies        1   \n",
      "01M292         Henry Street School for International Studies        1   \n",
      "\n",
      "           Enrollment   math  \n",
      "School ID                     \n",
      "01M539         1735.0  657.0  \n",
      "02M294          358.0  395.0  \n",
      "02M308          383.0  418.0  \n",
      "02M545          416.0  613.0  \n",
      "01M292          255.0  410.0  \n",
      "[1 2 3 4]\n"
     ]
    }
   ],
   "source": [
    "replace_map = {'Borough':{'Manhattan': 1, 'Bronx': 2, 'Queens':3, 'Brooklyn':4}}\n",
    "df.replace(replace_map, inplace = True)\n",
    "print(df.head())\n",
    "boroughs = df.Borough.unique()\n",
    "print(boroughs)"
   ]
  },
  {
   "cell_type": "code",
   "execution_count": 55,
   "metadata": {},
   "outputs": [
    {
     "data": {
      "text/plain": [
       "Borough      -0.111108\n",
       "Enrollment    0.452911\n",
       "math          1.000000\n",
       "Name: math, dtype: float64"
      ]
     },
     "execution_count": 55,
     "metadata": {},
     "output_type": "execute_result"
    }
   ],
   "source": [
    "df.corr()['math'].sort_values()"
   ]
  },
  {
   "cell_type": "code",
   "execution_count": 56,
   "metadata": {},
   "outputs": [
    {
     "name": "stderr",
     "output_type": "stream",
     "text": [
      "WARNING:matplotlib.legend:No handles with labels found to put in legend.\n"
     ]
    },
    {
     "data": {
      "image/png": "[encoded data removed]",
      "text/plain": [
       "<Figure size 576x360 with 1 Axes>"
      ]
     },
     "metadata": {},
     "output_type": "display_data"
    }
   ],
   "source": [
    "plt.figure(figsize = (8,5))\n",
    "plt.hist(np.log(df.math), bins = 25)\n",
    "plt.title(\"Distribution of math score (log-scale)\")\n",
    "plt.legend()\n",
    "plt.show()"
   ]
  },
  {
   "cell_type": "markdown",
   "metadata": {},
   "source": [
    "### Train/Test Split"
   ]
  },
  {
   "cell_type": "code",
   "execution_count": 57,
   "metadata": {},
   "outputs": [],
   "source": [
    "X = df.drop('math', axis=1)\n",
    "Y = np.log(df.math)"
   ]
  },
  {
   "cell_type": "code",
   "execution_count": 58,
   "metadata": {},
   "outputs": [],
   "source": [
    "indices = range(df.shape[0])\n",
    "i_boroughs= []\n",
    "len_iboroughs = []"
   ]
  },
  {
   "cell_type": "code",
   "execution_count": 59,
   "metadata": {},
   "outputs": [],
   "source": [
    "for s in boroughs:\n",
    "    i_borough = np.where(df.Borough == s)[0]\n",
    "    len_iboroughs.append(len(i_borough))\n",
    "    i_boroughs.append(i_borough)"
   ]
  },
  {
   "cell_type": "code",
   "execution_count": 60,
   "metadata": {},
   "outputs": [],
   "source": [
    "min_len = min(len_iboroughs)\n",
    "train_size = round(min_len*0.8)"
   ]
  },
  {
   "cell_type": "code",
   "execution_count": 61,
   "metadata": {},
   "outputs": [],
   "source": [
    "train_idx = []\n",
    "test_idx = []"
   ]
  },
  {
   "cell_type": "code",
   "execution_count": 62,
   "metadata": {},
   "outputs": [],
   "source": [
    "for s in i_boroughs:\n",
    "    np.random.shuffle(s)\n",
    "    train_idx = np.concatenate((train_idx, s[:train_size]), axis=None)\n",
    "    test_idx = np.concatenate((test_idx, s[train_size:]), axis=None)"
   ]
  },
  {
   "cell_type": "code",
   "execution_count": 63,
   "metadata": {},
   "outputs": [
    {
     "data": {
      "text/plain": [
       "365"
      ]
     },
     "execution_count": 63,
     "metadata": {},
     "output_type": "execute_result"
    }
   ],
   "source": [
    "df.shape[0]"
   ]
  },
  {
   "cell_type": "code",
   "execution_count": 64,
   "metadata": {},
   "outputs": [
    {
     "data": {
      "text/plain": [
       "220"
      ]
     },
     "execution_count": 64,
     "metadata": {},
     "output_type": "execute_result"
    }
   ],
   "source": [
    "len(train_idx)"
   ]
  },
  {
   "cell_type": "code",
   "execution_count": 65,
   "metadata": {},
   "outputs": [
    {
     "data": {
      "text/plain": [
       "145"
      ]
     },
     "execution_count": 65,
     "metadata": {},
     "output_type": "execute_result"
    }
   ],
   "source": [
    "len(test_idx)"
   ]
  },
  {
   "cell_type": "code",
   "execution_count": 66,
   "metadata": {},
   "outputs": [],
   "source": [
    "X_train = X.iloc[train_idx,:]\n",
    "X_test = X.iloc[test_idx,:].reset_index()\n",
    "Y_train = Y.iloc[train_idx]\n",
    "Y_test = Y.iloc[test_idx]"
   ]
  },
  {
   "cell_type": "code",
   "execution_count": 67,
   "metadata": {},
   "outputs": [
    {
     "data": {
      "text/plain": [
       "(array([ 2.,  4., 15., 38., 28., 18., 12.,  7.,  6.,  4.,  4.,  3.,  2.,\n",
       "         0.,  2.]),\n",
       " array([5.7651911 , 5.81890389, 5.87261668, 5.92632947, 5.98004227,\n",
       "        6.03375506, 6.08746785, 6.14118064, 6.19489343, 6.24860622,\n",
       "        6.30231901, 6.3560318 , 6.40974459, 6.46345738, 6.51717017,\n",
       "        6.57088296]),\n",
       " <a list of 15 Patch objects>)"
      ]
     },
     "execution_count": 67,
     "metadata": {},
     "output_type": "execute_result"
    },
    {
     "data": {
      "image/png": "[encoded data removed]",
      "text/plain": [
       "<Figure size 432x288 with 1 Axes>"
      ]
     },
     "metadata": {},
     "output_type": "display_data"
    }
   ],
   "source": [
    "plt.hist(Y_test, bins = 15)"
   ]
  },
  {
   "cell_type": "markdown",
   "metadata": {},
   "source": [
    "## Pooled model "
   ]
  },
  {
   "cell_type": "code",
   "execution_count": 68,
   "metadata": {},
   "outputs": [],
   "source": [
    "pooled_code = \"\"\"\n",
    "data {\n",
    "    int<lower=0>  N;\n",
    "    int<lower=0> M;\n",
    "    vector[N] x;\n",
    "    vector[M] x_test;\n",
    "    vector[N] y;\n",
    "}\n",
    "parameters {\n",
    "    vector[2] beta;\n",
    "    real<lower=0> sigma;\n",
    "}\n",
    "model {\n",
    "    y ~ normal(beta[1] + beta[2]*x, sigma);\n",
    "}\n",
    "generated quantities{\n",
    "    vector[N] log_lik;\n",
    "    vector[M] y_pred_test;\n",
    "    for (i in 1:M)\n",
    "     y_pred_test[i] = normal_rng(beta[1] + beta[2]*x_test[i], sigma);\n",
    "    for (i in 1:N)\n",
    "     log_lik[i] = normal_lpdf(y[i]| beta[1] + beta[2]*x[i], sigma);\n",
    "}\n",
    "\n",
    "\"\"\""
   ]
  },
  {
   "cell_type": "code",
   "execution_count": 69,
   "metadata": {},
   "outputs": [],
   "source": [
    "\n",
    "pool_data = {\n",
    "    'N': Y_train.shape[0], \n",
    "    'M': Y_test.shape[0],\n",
    "    'x': X_train.loc[:,'Enrollment'],\n",
    "    'x_test': X_test.loc[:,'Enrollment'],\n",
    "    'y': Y_train,\n",
    "}"
   ]
  },
  {
   "cell_type": "code",
   "execution_count": 70,
   "metadata": {},
   "outputs": [
    {
     "name": "stderr",
     "output_type": "stream",
     "text": [
      "INFO:pystan:COMPILING THE C++ CODE FOR MODEL anon_model_174aac4ec68a4e0adc2676445f7b9556 NOW.\n",
      "/opt/conda/lib/python3.6/site-packages/Cython/Compiler/Main.py:367: FutureWarning: Cython directive 'language_level' not set, using 2 for now (Py2). This will change in a later release! File: /tmp/tmp237wt2hs/stanfit4anon_model_174aac4ec68a4e0adc2676445f7b9556_8582388925517822565.pyx\n",
      "  tree = Parsing.p_module(s, pxd, full_module_name)\n",
      "WARNING:pystan:545 of 1000 iterations saturated the maximum tree depth of 10 (54.5%)\n",
      "WARNING:pystan:Run again with max_treedepth larger than 10 to avoid saturation\n"
     ]
    }
   ],
   "source": [
    "pooled_fit = pystan.stan(model_code=pooled_code, data = pool_data, iter = 1000, chains = 2)"
   ]
  },
  {
   "cell_type": "code",
   "execution_count": 71,
   "metadata": {},
   "outputs": [
    {
     "name": "stdout",
     "output_type": "stream",
     "text": [
      "Rhat check :  True\n",
      "N_eff check :  True\n",
      "Divergence check:  True\n"
     ]
    }
   ],
   "source": [
    "print(\"Rhat check : \",pystan.diagnostics.check_rhat(pooled_fit))\n",
    "print(\"N_eff check : \",pystan.diagnostics.check_n_eff(pooled_fit))\n",
    "print(\"Divergence check: \", pystan.diagnostics.check_div(pooled_fit))"
   ]
  },
  {
   "cell_type": "code",
   "execution_count": 72,
   "metadata": {},
   "outputs": [
    {
     "name": "stdout",
     "output_type": "stream",
     "text": [
      "psisloo:  114.27120365734639\n",
      "p_eff:  4.396478635483916\n"
     ]
    },
    {
     "data": {
      "image/png": "[encoded data removed]",
      "text/plain": [
       "<Figure size 432x288 with 1 Axes>"
      ]
     },
     "metadata": {},
     "output_type": "display_data"
    }
   ],
   "source": [
    "pooled_sample = pooled_fit.extract(permuted=True)\n",
    "\n",
    "loglik = (pooled_sample[\"log_lik\"])\n",
    "psisloo = stanity.psisloo(loglik)\n",
    "print(\"psisloo: \",psisloo.elpd)\n",
    "psisloo.plot()\n",
    "lppd_pooled = 0 \n",
    "for i in range (Y_train.shape[0]):\n",
    "    lppd_pooled = lppd_pooled + np.log(np.mean(np.exp(loglik[:,i])))\n",
    "\n",
    "peff_pooled = np.sum(lppd_pooled) - psisloo.elpd\n",
    "print(\"p_eff: \", peff_pooled)\n"
   ]
  },
  {
   "cell_type": "code",
   "execution_count": 73,
   "metadata": {},
   "outputs": [
    {
     "data": {
      "text/plain": [
       "greater than 0.5    0.0\n",
       "greater than 1      0.0\n",
       "dtype: float64"
      ]
     },
     "execution_count": 73,
     "metadata": {},
     "output_type": "execute_result"
    }
   ],
   "source": [
    "psisloo.print_summary()"
   ]
  },
  {
   "cell_type": "code",
   "execution_count": 74,
   "metadata": {},
   "outputs": [
    {
     "data": {
      "image/png": "[encoded data removed]",
      "text/plain": [
       "<Figure size 432x288 with 1 Axes>"
      ]
     },
     "metadata": {},
     "output_type": "display_data"
    }
   ],
   "source": [
    "b0, m0 = pooled_sample['beta'].T.mean(1)\n",
    "plt.scatter(df.Enrollment, np.log(df.math))\n",
    "xvals = np.linspace(0,5000)\n",
    "plt.plot(xvals, m0*xvals+b0, 'r--')\n",
    "plt.show()\n"
   ]
  },
  {
   "cell_type": "code",
   "execution_count": 75,
   "metadata": {},
   "outputs": [
    {
     "data": {
      "text/plain": [
       "0.094"
      ]
     },
     "execution_count": 75,
     "metadata": {},
     "output_type": "execute_result"
    },
    {
     "data": {
      "image/png": "[encoded data removed]",
      "text/plain": [
       "<Figure size 432x288 with 1 Axes>"
      ]
     },
     "metadata": {},
     "output_type": "display_data"
    }
   ],
   "source": [
    "#Comparing y_pred with y_test\n",
    "y_pred = np.mean(pooled_sample[\"y_pred_test\"], axis=0)\n",
    "plt.hist(y_pred, bins = 20)\n",
    "round(MAE(Y_test, y_pred),3)"
   ]
  },
  {
   "cell_type": "code",
   "execution_count": 76,
   "metadata": {},
   "outputs": [
    {
     "data": {
      "text/plain": [
       "0.014"
      ]
     },
     "execution_count": 76,
     "metadata": {},
     "output_type": "execute_result"
    }
   ],
   "source": [
    "round(MSE(Y_test, y_pred),3)"
   ]
  },
  {
   "cell_type": "markdown",
   "metadata": {},
   "source": [
    "##  Separate model"
   ]
  },
  {
   "cell_type": "code",
   "execution_count": 77,
   "metadata": {},
   "outputs": [],
   "source": [
    "separate_code = \"\"\"\n",
    "data{\n",
    "    int<lower=0> N;\n",
    "    int<lower=1, upper=5> boroughs[N]; #borough indicator\n",
    "    vector[N] x;\n",
    "    vector[N] y;\n",
    "}\n",
    "parameters {\n",
    "    vector[4] alpha;\n",
    "    real beta; #only 1 beta, not a vector\n",
    "    real<lower=0> sigma;\n",
    "}\n",
    "transformed parameters {\n",
    "    vector[N] mu;  \n",
    "    for (i in 1:N)\n",
    "        mu[i] <- beta* x[i] + alpha[boroughs[i]];\n",
    "}\n",
    "model {\n",
    "    y ~ normal(mu, sigma);\n",
    "}\n",
    "generated quantities{\n",
    "    vector[N] log_lik;\n",
    "    for (i in 1:N)\n",
    "     log_lik[i] = normal_lpdf(y[i]| mu[i], sigma);\n",
    "}\n",
    "\"\"\""
   ]
  },
  {
   "cell_type": "code",
   "execution_count": 78,
   "metadata": {},
   "outputs": [],
   "source": [
    "separate_data = {'N': X_train.shape[0],\n",
    "                 'boroughs': X_train.Borough,\n",
    "                 'x': X_train.loc[:,'Enrollment'],\n",
    "                 'y': Y_train }"
   ]
  },
  {
   "cell_type": "code",
   "execution_count": 79,
   "metadata": {},
   "outputs": [
    {
     "name": "stderr",
     "output_type": "stream",
     "text": [
      "INFO:pystan:COMPILING THE C++ CODE FOR MODEL anon_model_aae52bba719395c276d180e52079c523 NOW.\n",
      "/opt/conda/lib/python3.6/site-packages/Cython/Compiler/Main.py:367: FutureWarning: Cython directive 'language_level' not set, using 2 for now (Py2). This will change in a later release! File: /tmp/tmpua__yk6i/stanfit4anon_model_aae52bba719395c276d180e52079c523_573625073612541637.pyx\n",
      "  tree = Parsing.p_module(s, pxd, full_module_name)\n",
      "WARNING:pystan:953 of 1000 iterations saturated the maximum tree depth of 10 (95.3%)\n",
      "WARNING:pystan:Run again with max_treedepth larger than 10 to avoid saturation\n"
     ]
    }
   ],
   "source": [
    "separate_fit = pystan.stan(model_code = separate_code, data = separate_data, iter = 1000, chains = 2)\n",
    "separate_sample = separate_fit.extract(permuted=True)"
   ]
  },
  {
   "cell_type": "code",
   "execution_count": 80,
   "metadata": {},
   "outputs": [
    {
     "name": "stdout",
     "output_type": "stream",
     "text": [
      "Rhat check :  True\n",
      "N_eff check :  True\n",
      "Divergence check:  True\n"
     ]
    }
   ],
   "source": [
    "print(\"Rhat check : \",pystan.diagnostics.check_rhat(separate_fit))\n",
    "print(\"N_eff check : \",pystan.diagnostics.check_n_eff(separate_fit))\n",
    "print(\"Divergence check: \", pystan.diagnostics.check_div(separate_fit))"
   ]
  },
  {
   "cell_type": "code",
   "execution_count": 81,
   "metadata": {},
   "outputs": [],
   "source": [
    "alpha = np.mean(separate_fit['alpha'], axis=0)\n",
    "beta = np.mean(separate_fit['beta'])"
   ]
  },
  {
   "cell_type": "code",
   "execution_count": 82,
   "metadata": {},
   "outputs": [
    {
     "name": "stdout",
     "output_type": "stream",
     "text": [
      "psisloo:  125.87970321486277\n",
      "p_eff:  7.234032612050086\n"
     ]
    },
    {
     "data": {
      "image/png": "[encoded data removed]",
      "text/plain": [
       "<Figure size 432x288 with 1 Axes>"
      ]
     },
     "metadata": {},
     "output_type": "display_data"
    }
   ],
   "source": [
    "loglik = (separate_sample[\"log_lik\"])\n",
    "psisloo = stanity.psisloo(loglik)\n",
    "print(\"psisloo: \",psisloo.elpd)\n",
    "psisloo.plot()\n",
    "lppd_pooled = 0 \n",
    "for i in range (Y_train.shape[0]):\n",
    "    lppd_pooled = lppd_pooled + np.log(np.mean(np.exp(loglik[:,i])))\n",
    "\n",
    "peff_pooled = np.sum(lppd_pooled) - psisloo.elpd\n",
    "print(\"p_eff: \", peff_pooled)"
   ]
  },
  {
   "cell_type": "code",
   "execution_count": 83,
   "metadata": {},
   "outputs": [
    {
     "data": {
      "text/plain": [
       "greater than 0.5    0.004545\n",
       "greater than 1      0.000000\n",
       "dtype: float64"
      ]
     },
     "execution_count": 83,
     "metadata": {},
     "output_type": "execute_result"
    }
   ],
   "source": [
    "psisloo.print_summary()"
   ]
  },
  {
   "cell_type": "code",
   "execution_count": 85,
   "metadata": {},
   "outputs": [
    {
     "data": {
      "text/plain": [
       "(array([41., 72., 12.,  5.,  5.,  0.,  0.,  1.,  1.,  1.,  1.,  0.,  1.,\n",
       "         2.,  0.,  2.,  0.,  0.,  0.,  1.]),\n",
       " array([6.01494291, 6.03588852, 6.05683413, 6.07777975, 6.09872536,\n",
       "        6.11967097, 6.14061658, 6.16156219, 6.1825078 , 6.20345342,\n",
       "        6.22439903, 6.24534464, 6.26629025, 6.28723586, 6.30818147,\n",
       "        6.32912708, 6.3500727 , 6.37101831, 6.39196392, 6.41290953,\n",
       "        6.43385514]),\n",
       " <a list of 20 Patch objects>)"
      ]
     },
     "execution_count": 85,
     "metadata": {},
     "output_type": "execute_result"
    },
    {
     "data": {
      "image/png": "[encoded data removed]",
      "text/plain": [
       "<Figure size 432x288 with 1 Axes>"
      ]
     },
     "metadata": {},
     "output_type": "display_data"
    }
   ],
   "source": [
    "Y_pred = []\n",
    "for i in range(X_test.shape[0]):\n",
    "    borough = X_test.loc[i, 'Borough']\n",
    "    Y_pred.append(alpha[borough-1] + beta*X_test.loc[i, 'Enrollment'])\n",
    "\n",
    "plt.hist(y_pred, bins = 20)"
   ]
  },
  {
   "cell_type": "code",
   "execution_count": 86,
   "metadata": {},
   "outputs": [
    {
     "data": {
      "text/plain": [
       "0.0865400999356269"
      ]
     },
     "execution_count": 86,
     "metadata": {},
     "output_type": "execute_result"
    }
   ],
   "source": [
    "MAE(Y_pred, Y_test)"
   ]
  },
  {
   "cell_type": "code",
   "execution_count": 87,
   "metadata": {},
   "outputs": [
    {
     "data": {
      "text/plain": [
       "0.01333292442605992"
      ]
     },
     "execution_count": 87,
     "metadata": {},
     "output_type": "execute_result"
    }
   ],
   "source": [
    "MSE(Y_pred, Y_test)"
   ]
  },
  {
   "cell_type": "code",
   "execution_count": 88,
   "metadata": {},
   "outputs": [
    {
     "data": {
      "image/png": "[encoded data removed]",
      "text/plain": [
       "<Figure size 1008x360 with 1 Axes>"
      ]
     },
     "metadata": {},
     "output_type": "display_data"
    }
   ],
   "source": [
    "import seaborn as sns\n",
    "sns.set(style=\"ticks\")\n",
    "\n",
    "a_sample = pd.DataFrame(separate_fit['alpha'])\n",
    "plt.figure(figsize=(14, 5))\n",
    "sns.boxplot(data=a_sample, whis=np.inf, color=\"b\")\n",
    "plt.title(\"Samples of intercept per borough\")\n",
    "plt.show()\n"
   ]
  },
  {
   "cell_type": "markdown",
   "metadata": {},
   "source": [
    "# Varying intercept and slope model"
   ]
  },
  {
   "cell_type": "code",
   "execution_count": 89,
   "metadata": {},
   "outputs": [],
   "source": [
    "varying_intercept_slope = \"\"\"\n",
    "data {\n",
    "  int<lower=0> N;\n",
    "  int<lower=0> J;\n",
    "  vector[N] y;\n",
    "  vector[N] x;\n",
    "  int boroughs[N];\n",
    "}\n",
    "parameters {\n",
    "  real<lower=0> sigma;\n",
    "  real<lower=0> sigma_a;\n",
    "  real<lower=0> sigma_b;\n",
    "  vector[J] alpha;\n",
    "  vector[J] beta;\n",
    "  real mu_a;\n",
    "  real mu_b;\n",
    "}\n",
    "transformed parameters {\n",
    "    vector[N] mu;  \n",
    "    for (i in 1:N)\n",
    "        mu[i] <- alpha[boroughs[i]] + beta[boroughs[i]]*x[i];\n",
    "}\n",
    "model {\n",
    "  mu_a ~ normal(0, 1);\n",
    "  mu_b ~ normal(0, 1);\n",
    "\n",
    "  alpha ~ normal(mu_a, sigma_a);\n",
    "  beta ~ normal(mu_b, sigma_b);\n",
    "  y ~ normal(mu, sigma);\n",
    "}\n",
    "\n",
    "generated quantities{\n",
    "    vector[N] log_lik;\n",
    "    for (i in 1:N)\n",
    "     log_lik[i] = normal_lpdf(y[i]| mu[i], sigma);\n",
    "}\n",
    "\n",
    "\"\"\""
   ]
  },
  {
   "cell_type": "code",
   "execution_count": 90,
   "metadata": {},
   "outputs": [
    {
     "name": "stderr",
     "output_type": "stream",
     "text": [
      "INFO:pystan:COMPILING THE C++ CODE FOR MODEL anon_model_989c483a074c9067ebf9bb4c197bcf99 NOW.\n",
      "/opt/conda/lib/python3.6/site-packages/Cython/Compiler/Main.py:367: FutureWarning: Cython directive 'language_level' not set, using 2 for now (Py2). This will change in a later release! File: /tmp/tmpnnmxntyl/stanfit4anon_model_989c483a074c9067ebf9bb4c197bcf99_3942053905460856220.pyx\n",
      "  tree = Parsing.p_module(s, pxd, full_module_name)\n",
      "WARNING:pystan:Rhat for parameter sigma is 1.2525368313454828!\n",
      "WARNING:pystan:Rhat for parameter sigma_a is 1.6946946256716302!\n",
      "WARNING:pystan:Rhat for parameter sigma_b is 1.270313694893328!\n",
      "WARNING:pystan:Rhat for parameter alpha[2] is 1.4227734713156592!\n",
      "WARNING:pystan:Rhat for parameter alpha[3] is 1.5751425770229537!\n",
      "WARNING:pystan:Rhat for parameter alpha[4] is 2.4922765898590375!\n",
      "WARNING:pystan:Rhat for parameter beta[1] is 1.3085444568367504!\n",
      "WARNING:pystan:Rhat for parameter beta[2] is 1.148555765076775!\n",
      "WARNING:pystan:Rhat for parameter beta[3] is 1.5250175242078963!\n",
      "WARNING:pystan:Rhat for parameter mu_a is 1.9351990593203243!\n",
      "WARNING:pystan:Rhat for parameter mu[2] is 1.138796604654893!\n",
      "WARNING:pystan:Rhat for parameter mu[3] is 1.218781425377582!\n",
      "WARNING:pystan:Rhat for parameter mu[5] is 1.1329334583549957!\n",
      "WARNING:pystan:Rhat for parameter mu[8] is 1.1012985603437124!\n",
      "WARNING:pystan:Rhat for parameter mu[9] is 1.272914183469249!\n",
      "WARNING:pystan:Rhat for parameter mu[10] is 1.113632904069064!\n",
      "WARNING:pystan:Rhat for parameter mu[11] is 1.187569597575632!\n",
      "WARNING:pystan:Rhat for parameter mu[12] is 1.1094679324389236!\n",
      "WARNING:pystan:Rhat for parameter mu[13] is 1.4082115802696265!\n",
      "WARNING:pystan:Rhat for parameter mu[14] is 1.276055315738049!\n",
      "WARNING:pystan:Rhat for parameter mu[15] is 1.1087787800158826!\n",
      "WARNING:pystan:Rhat for parameter mu[16] is 1.2963576993251207!\n",
      "WARNING:pystan:Rhat for parameter mu[17] is 1.1164370441723843!\n",
      "WARNING:pystan:Rhat for parameter mu[18] is 1.1314766207266838!\n",
      "WARNING:pystan:Rhat for parameter mu[19] is 1.391710552807151!\n",
      "WARNING:pystan:Rhat for parameter mu[20] is 1.2791575842645473!\n",
      "WARNING:pystan:Rhat for parameter mu[21] is 1.3411289365980965!\n",
      "WARNING:pystan:Rhat for parameter mu[22] is 1.1178469867881033!\n",
      "WARNING:pystan:Rhat for parameter mu[25] is 1.415429818165475!\n",
      "WARNING:pystan:Rhat for parameter mu[26] is 1.1080910996442717!\n",
      "WARNING:pystan:Rhat for parameter mu[29] is 1.1754993455139824!\n",
      "WARNING:pystan:Rhat for parameter mu[31] is 1.2929123072211073!\n",
      "WARNING:pystan:Rhat for parameter mu[32] is 1.1178469867881033!\n",
      "WARNING:pystan:Rhat for parameter mu[33] is 1.1115440695995307!\n",
      "WARNING:pystan:Rhat for parameter mu[35] is 1.4101098585718697!\n",
      "WARNING:pystan:Rhat for parameter mu[37] is 1.1807843590010574!\n",
      "WARNING:pystan:Rhat for parameter mu[38] is 1.1469397405104818!\n",
      "WARNING:pystan:Rhat for parameter mu[39] is 1.3656402421553926!\n",
      "WARNING:pystan:Rhat for parameter mu[40] is 1.2033001436517838!\n",
      "WARNING:pystan:Rhat for parameter mu[41] is 1.2317612848341253!\n",
      "WARNING:pystan:Rhat for parameter mu[42] is 1.2238652725019374!\n",
      "WARNING:pystan:Rhat for parameter mu[43] is 1.405887060970638!\n",
      "WARNING:pystan:Rhat for parameter mu[44] is 1.268452519818485!\n",
      "WARNING:pystan:Rhat for parameter mu[46] is 1.1845559142900657!\n",
      "WARNING:pystan:Rhat for parameter mu[48] is 1.218781425377582!\n",
      "WARNING:pystan:Rhat for parameter mu[49] is 1.1150323079747213!\n",
      "WARNING:pystan:Rhat for parameter mu[50] is 1.1566569533578688!\n",
      "WARNING:pystan:Rhat for parameter mu[51] is 1.414442026682911!\n",
      "WARNING:pystan:Rhat for parameter mu[53] is 1.404715008587363!\n",
      "WARNING:pystan:Rhat for parameter mu[54] is 1.4134917173056114!\n",
      "WARNING:pystan:Rhat for parameter mu[55] is 1.248531745950521!\n",
      "WARNING:pystan:Rhat for parameter mu[56] is 1.1967699213939647!\n",
      "WARNING:pystan:Rhat for parameter mu[57] is 1.174879157718029!\n",
      "WARNING:pystan:Rhat for parameter mu[58] is 1.203573734913662!\n",
      "WARNING:pystan:Rhat for parameter mu[60] is 1.43051507380884!\n",
      "WARNING:pystan:Rhat for parameter mu[62] is 1.208163963830866!\n",
      "WARNING:pystan:Rhat for parameter mu[63] is 1.378089720872561!\n",
      "WARNING:pystan:Rhat for parameter mu[64] is 1.2280987577661364!\n",
      "WARNING:pystan:Rhat for parameter mu[65] is 1.3624647358564854!\n",
      "WARNING:pystan:Rhat for parameter mu[66] is 1.2975351716107302!\n",
      "WARNING:pystan:Rhat for parameter mu[67] is 1.3180397089494404!\n",
      "WARNING:pystan:Rhat for parameter mu[69] is 1.3635360590019157!\n",
      "WARNING:pystan:Rhat for parameter mu[70] is 1.3850330919377793!\n",
      "WARNING:pystan:Rhat for parameter mu[71] is 1.310854771721129!\n",
      "WARNING:pystan:Rhat for parameter mu[72] is 1.4415901772549387!\n",
      "WARNING:pystan:Rhat for parameter mu[73] is 1.4704038776046267!\n",
      "WARNING:pystan:Rhat for parameter mu[75] is 1.347066881596472!\n",
      "WARNING:pystan:Rhat for parameter mu[76] is 1.4554099720540254!\n",
      "WARNING:pystan:Rhat for parameter mu[77] is 1.4151632382158241!\n",
      "WARNING:pystan:Rhat for parameter mu[78] is 1.3656665120674445!\n",
      "WARNING:pystan:Rhat for parameter mu[80] is 1.2987524187258372!\n",
      "WARNING:pystan:Rhat for parameter mu[81] is 1.2449307081603531!\n",
      "WARNING:pystan:Rhat for parameter mu[82] is 1.3770789824076959!\n",
      "WARNING:pystan:Rhat for parameter mu[83] is 1.378089720872561!\n",
      "WARNING:pystan:Rhat for parameter mu[84] is 1.4469099993091041!\n",
      "WARNING:pystan:Rhat for parameter mu[85] is 1.4159527293518341!\n",
      "WARNING:pystan:Rhat for parameter mu[87] is 1.4035145028309284!\n",
      "WARNING:pystan:Rhat for parameter mu[88] is 1.4235281824480774!\n",
      "WARNING:pystan:Rhat for parameter mu[89] is 1.407801033076934!\n",
      "WARNING:pystan:Rhat for parameter mu[90] is 1.103762213363883!\n",
      "WARNING:pystan:Rhat for parameter mu[91] is 1.4143679953647978!\n",
      "WARNING:pystan:Rhat for parameter mu[92] is 1.1664973429738692!\n",
      "WARNING:pystan:Rhat for parameter mu[93] is 1.3917370451621398!\n",
      "WARNING:pystan:Rhat for parameter mu[94] is 1.2162937402893241!\n",
      "WARNING:pystan:Rhat for parameter mu[95] is 1.2902116061110596!\n",
      "WARNING:pystan:Rhat for parameter mu[96] is 1.1791535128558013!\n",
      "WARNING:pystan:Rhat for parameter mu[97] is 1.4298431049489122!\n",
      "WARNING:pystan:Rhat for parameter mu[98] is 1.4469099993091041!\n",
      "WARNING:pystan:Rhat for parameter mu[99] is 1.3667255533936744!\n",
      "WARNING:pystan:Rhat for parameter mu[100] is 1.4520842597981907!\n",
      "WARNING:pystan:Rhat for parameter mu[101] is 1.1834814782178593!\n",
      "WARNING:pystan:Rhat for parameter mu[102] is 1.3656665120674445!\n",
      "WARNING:pystan:Rhat for parameter mu[103] is 1.3156521485276769!\n",
      "WARNING:pystan:Rhat for parameter mu[104] is 1.3860057348872041!\n",
      "WARNING:pystan:Rhat for parameter mu[105] is 1.4182865409395187!\n",
      "WARNING:pystan:Rhat for parameter mu[106] is 1.3286781906639404!\n",
      "WARNING:pystan:Rhat for parameter mu[107] is 1.2975351716107302!\n",
      "WARNING:pystan:Rhat for parameter mu[108] is 1.2950975838737975!\n",
      "WARNING:pystan:Rhat for parameter mu[109] is 1.4488730218073442!\n",
      "WARNING:pystan:Rhat for parameter mu[110] is 1.3263301653814297!\n",
      "WARNING:pystan:Rhat for parameter mu[111] is 1.4492576125459626!\n",
      "WARNING:pystan:Rhat for parameter mu[112] is 1.4351541939895536!\n",
      "WARNING:pystan:Rhat for parameter mu[113] is 1.1550664593739186!\n",
      "WARNING:pystan:Rhat for parameter mu[114] is 1.29259089933835!\n",
      "WARNING:pystan:Rhat for parameter mu[115] is 1.353315737310546!\n",
      "WARNING:pystan:Rhat for parameter mu[117] is 1.4608227742647992!\n",
      "WARNING:pystan:Rhat for parameter mu[118] is 1.4008832227890426!\n",
      "WARNING:pystan:Rhat for parameter mu[119] is 1.1525122681410502!\n",
      "WARNING:pystan:Rhat for parameter mu[120] is 1.2838562467242847!\n",
      "WARNING:pystan:Rhat for parameter mu[121] is 1.3907594432109256!\n",
      "WARNING:pystan:Rhat for parameter mu[122] is 1.4567224593311434!\n",
      "WARNING:pystan:Rhat for parameter mu[123] is 1.1709556271509!\n",
      "WARNING:pystan:Rhat for parameter mu[124] is 1.18215037770948!\n",
      "WARNING:pystan:Rhat for parameter mu[126] is 1.241594668609181!\n",
      "WARNING:pystan:Rhat for parameter mu[127] is 1.3293689268096276!\n",
      "WARNING:pystan:Rhat for parameter mu[129] is 1.3209735923312302!\n",
      "WARNING:pystan:Rhat for parameter mu[130] is 1.4435113541881934!\n",
      "WARNING:pystan:Rhat for parameter mu[131] is 1.3625007362129622!\n",
      "WARNING:pystan:Rhat for parameter mu[132] is 1.3332106100611207!\n",
      "WARNING:pystan:Rhat for parameter mu[133] is 1.3377503605811194!\n",
      "WARNING:pystan:Rhat for parameter mu[134] is 1.4003278239149153!\n",
      "WARNING:pystan:Rhat for parameter mu[136] is 1.3293689268096276!\n"
     ]
    },
    {
     "name": "stderr",
     "output_type": "stream",
     "text": [
      "WARNING:pystan:Rhat for parameter mu[137] is 1.458097111825856!\n",
      "WARNING:pystan:Rhat for parameter mu[138] is 1.3611250726903805!\n",
      "WARNING:pystan:Rhat for parameter mu[139] is 1.3713227749210366!\n",
      "WARNING:pystan:Rhat for parameter mu[140] is 1.1806692972758017!\n",
      "WARNING:pystan:Rhat for parameter mu[141] is 1.3287265702059456!\n",
      "WARNING:pystan:Rhat for parameter mu[142] is 1.365526362094016!\n",
      "WARNING:pystan:Rhat for parameter mu[143] is 1.4626223934743174!\n",
      "WARNING:pystan:Rhat for parameter mu[144] is 1.387325965240938!\n",
      "WARNING:pystan:Rhat for parameter mu[145] is 1.3344863520440182!\n",
      "WARNING:pystan:Rhat for parameter mu[147] is 1.1235097263432963!\n",
      "WARNING:pystan:Rhat for parameter mu[150] is 1.165416472674884!\n",
      "WARNING:pystan:Rhat for parameter mu[151] is 1.2959336508361434!\n",
      "WARNING:pystan:Rhat for parameter mu[152] is 1.1017201508924566!\n",
      "WARNING:pystan:Rhat for parameter mu[153] is 1.3879002305336845!\n",
      "WARNING:pystan:Rhat for parameter mu[154] is 1.1000209456277683!\n",
      "WARNING:pystan:Rhat for parameter mu[156] is 1.4316393203135538!\n",
      "WARNING:pystan:Rhat for parameter mu[157] is 1.3118296063324073!\n",
      "WARNING:pystan:Rhat for parameter mu[158] is 1.3815393269586769!\n",
      "WARNING:pystan:Rhat for parameter mu[159] is 1.4296115705741548!\n",
      "WARNING:pystan:Rhat for parameter mu[160] is 1.4080270636196233!\n",
      "WARNING:pystan:Rhat for parameter mu[161] is 1.2624780600910512!\n",
      "WARNING:pystan:Rhat for parameter mu[162] is 1.4074825971646026!\n",
      "WARNING:pystan:Rhat for parameter mu[163] is 1.3907594432109256!\n",
      "WARNING:pystan:Rhat for parameter mu[164] is 1.437638523522274!\n",
      "WARNING:pystan:Rhat for parameter mu[165] is 1.184461443557172!\n",
      "WARNING:pystan:Rhat for parameter mu[166] is 2.3452401989312612!\n",
      "WARNING:pystan:Rhat for parameter mu[167] is 2.438880364780222!\n",
      "WARNING:pystan:Rhat for parameter mu[168] is 2.5252189518309827!\n",
      "WARNING:pystan:Rhat for parameter mu[169] is 2.362802259332628!\n",
      "WARNING:pystan:Rhat for parameter mu[170] is 2.5252189518309827!\n",
      "WARNING:pystan:Rhat for parameter mu[171] is 2.4182518053148527!\n",
      "WARNING:pystan:Rhat for parameter mu[172] is 2.467892615707693!\n",
      "WARNING:pystan:Rhat for parameter mu[173] is 2.176940676965228!\n",
      "WARNING:pystan:Rhat for parameter mu[174] is 2.2045578108988977!\n",
      "WARNING:pystan:Rhat for parameter mu[175] is 2.5005316107771614!\n",
      "WARNING:pystan:Rhat for parameter mu[176] is 2.565284677923205!\n",
      "WARNING:pystan:Rhat for parameter mu[177] is 2.556721551771519!\n",
      "WARNING:pystan:Rhat for parameter mu[178] is 2.0645372838725162!\n",
      "WARNING:pystan:Rhat for parameter mu[179] is 2.536220661454908!\n",
      "WARNING:pystan:Rhat for parameter mu[181] is 1.6199837934688333!\n",
      "WARNING:pystan:Rhat for parameter mu[182] is 2.419569250213841!\n",
      "WARNING:pystan:Rhat for parameter mu[183] is 1.2563524344875059!\n",
      "WARNING:pystan:Rhat for parameter mu[184] is 2.555405309546892!\n",
      "WARNING:pystan:Rhat for parameter mu[185] is 2.4572985734019297!\n",
      "WARNING:pystan:Rhat for parameter mu[186] is 2.4974615769895037!\n",
      "WARNING:pystan:Rhat for parameter mu[187] is 2.588185320787911!\n",
      "WARNING:pystan:Rhat for parameter mu[188] is 2.2045578108988977!\n",
      "WARNING:pystan:Rhat for parameter mu[189] is 2.591652355264312!\n",
      "WARNING:pystan:Rhat for parameter mu[191] is 2.3333293726540187!\n",
      "WARNING:pystan:Rhat for parameter mu[192] is 2.584783041039628!\n",
      "WARNING:pystan:Rhat for parameter mu[193] is 1.5369595351122454!\n",
      "WARNING:pystan:Rhat for parameter mu[194] is 1.1148672448106913!\n",
      "WARNING:pystan:Rhat for parameter mu[195] is 2.580520852169595!\n",
      "WARNING:pystan:Rhat for parameter mu[196] is 2.5312571962152544!\n",
      "WARNING:pystan:Rhat for parameter mu[197] is 2.5623576610889316!\n",
      "WARNING:pystan:Rhat for parameter mu[198] is 2.0483915996288067!\n",
      "WARNING:pystan:Rhat for parameter mu[199] is 2.494347225867871!\n",
      "WARNING:pystan:Rhat for parameter mu[201] is 2.396692801512711!\n",
      "WARNING:pystan:Rhat for parameter mu[202] is 2.555405309546892!\n",
      "WARNING:pystan:Rhat for parameter mu[203] is 2.578541216765887!\n",
      "WARNING:pystan:Rhat for parameter mu[204] is 2.5448029189053636!\n",
      "WARNING:pystan:Rhat for parameter mu[205] is 2.34671800555653!\n",
      "WARNING:pystan:Rhat for parameter mu[206] is 2.580520852169595!\n",
      "WARNING:pystan:Rhat for parameter mu[207] is 2.511402201644805!\n",
      "WARNING:pystan:Rhat for parameter mu[208] is 2.552013939556177!\n",
      "WARNING:pystan:Rhat for parameter mu[210] is 2.477007807936594!\n",
      "WARNING:pystan:Rhat for parameter mu[211] is 2.5741353657428725!\n",
      "WARNING:pystan:Rhat for parameter mu[212] is 2.501545030538456!\n",
      "WARNING:pystan:Rhat for parameter mu[213] is 2.4560998457151277!\n",
      "WARNING:pystan:Rhat for parameter mu[214] is 2.3481932847205176!\n",
      "WARNING:pystan:Rhat for parameter mu[215] is 2.5198342781183056!\n",
      "WARNING:pystan:Rhat for parameter mu[216] is 2.5295590205873535!\n",
      "WARNING:pystan:Rhat for parameter mu[217] is 2.4261012042312613!\n",
      "WARNING:pystan:Rhat for parameter mu[218] is 2.252760056838213!\n",
      "WARNING:pystan:Rhat for parameter mu[219] is 2.555405309546892!\n",
      "WARNING:pystan:Rhat for parameter mu[220] is 2.539419477893071!\n",
      "WARNING:pystan:Rhat for parameter log_lik[1] is 1.1208843857417656!\n",
      "WARNING:pystan:Rhat for parameter log_lik[3] is 1.3307672058765883!\n",
      "WARNING:pystan:Rhat for parameter log_lik[5] is 1.2658359635511163!\n",
      "WARNING:pystan:Rhat for parameter log_lik[8] is 1.2909305927172898!\n",
      "WARNING:pystan:Rhat for parameter log_lik[9] is 1.240034321022396!\n",
      "WARNING:pystan:Rhat for parameter log_lik[10] is 1.1174655188640863!\n",
      "WARNING:pystan:Rhat for parameter log_lik[11] is 1.3122378466381137!\n",
      "WARNING:pystan:Rhat for parameter log_lik[12] is 1.3079774250553535!\n",
      "WARNING:pystan:Rhat for parameter log_lik[13] is 1.3684648332390388!\n",
      "WARNING:pystan:Rhat for parameter log_lik[14] is 1.2979633760075706!\n",
      "WARNING:pystan:Rhat for parameter log_lik[15] is 1.20540082982369!\n",
      "WARNING:pystan:Rhat for parameter log_lik[16] is 1.4030622253163816!\n",
      "WARNING:pystan:Rhat for parameter log_lik[17] is 1.1573735390072546!\n",
      "WARNING:pystan:Rhat for parameter log_lik[18] is 1.2620641143836588!\n",
      "WARNING:pystan:Rhat for parameter log_lik[19] is 1.4007393216915085!\n",
      "WARNING:pystan:Rhat for parameter log_lik[20] is 1.354835722055489!\n",
      "WARNING:pystan:Rhat for parameter log_lik[21] is 1.106447668296231!\n",
      "WARNING:pystan:Rhat for parameter log_lik[22] is 1.208031918418314!\n",
      "WARNING:pystan:Rhat for parameter log_lik[24] is 1.2938607951232464!\n",
      "WARNING:pystan:Rhat for parameter log_lik[25] is 1.417004961260446!\n",
      "WARNING:pystan:Rhat for parameter log_lik[26] is 1.242448261275558!\n",
      "WARNING:pystan:Rhat for parameter log_lik[27] is 1.1136919307744708!\n",
      "WARNING:pystan:Rhat for parameter log_lik[29] is 1.2516030627845451!\n",
      "WARNING:pystan:Rhat for parameter log_lik[30] is 1.291018442274578!\n",
      "WARNING:pystan:Rhat for parameter log_lik[31] is 1.2762287269775154!\n",
      "WARNING:pystan:Rhat for parameter log_lik[32] is 1.2006567635320837!\n",
      "WARNING:pystan:Rhat for parameter log_lik[33] is 1.1283113142128347!\n",
      "WARNING:pystan:Rhat for parameter log_lik[35] is 1.4381009236736713!\n",
      "WARNING:pystan:Rhat for parameter log_lik[36] is 1.310641889520863!\n",
      "WARNING:pystan:Rhat for parameter log_lik[37] is 1.1524670953198337!\n",
      "WARNING:pystan:Rhat for parameter log_lik[38] is 1.11332871935652!\n",
      "WARNING:pystan:Rhat for parameter log_lik[39] is 1.4597089875904512!\n",
      "WARNING:pystan:Rhat for parameter log_lik[40] is 1.2791924503062049!\n",
      "WARNING:pystan:Rhat for parameter log_lik[41] is 1.1905374010102756!\n",
      "WARNING:pystan:Rhat for parameter log_lik[42] is 1.3285947536642433!\n",
      "WARNING:pystan:Rhat for parameter log_lik[43] is 1.5404327035281244!\n",
      "WARNING:pystan:Rhat for parameter log_lik[44] is 1.3764318518345682!\n",
      "WARNING:pystan:Rhat for parameter log_lik[45] is 1.1656800746552467!\n",
      "WARNING:pystan:Rhat for parameter log_lik[46] is 1.31117742109585!\n",
      "WARNING:pystan:Rhat for parameter log_lik[47] is 1.2498541650407813!\n",
      "WARNING:pystan:Rhat for parameter log_lik[48] is 1.1808004219077324!\n",
      "WARNING:pystan:Rhat for parameter log_lik[49] is 1.1053152602057879!\n",
      "WARNING:pystan:Rhat for parameter log_lik[50] is 1.1570398861220736!\n",
      "WARNING:pystan:Rhat for parameter log_lik[51] is 1.4056509452575092!\n",
      "WARNING:pystan:Rhat for parameter log_lik[52] is 1.2300115993322545!\n",
      "WARNING:pystan:Rhat for parameter log_lik[53] is 1.3459103489414523!\n",
      "WARNING:pystan:Rhat for parameter log_lik[54] is 1.3956039516271501!\n",
      "WARNING:pystan:Rhat for parameter log_lik[55] is 1.2372038538699528!\n"
     ]
    },
    {
     "name": "stderr",
     "output_type": "stream",
     "text": [
      "WARNING:pystan:Rhat for parameter log_lik[57] is 1.209183291167292!\n",
      "WARNING:pystan:Rhat for parameter log_lik[58] is 1.4147048199458314!\n",
      "WARNING:pystan:Rhat for parameter log_lik[59] is 1.3115029464270305!\n",
      "WARNING:pystan:Rhat for parameter log_lik[60] is 1.3407570164143088!\n",
      "WARNING:pystan:Rhat for parameter log_lik[63] is 1.4340866116197086!\n",
      "WARNING:pystan:Rhat for parameter log_lik[64] is 1.2262120281907742!\n",
      "WARNING:pystan:Rhat for parameter log_lik[65] is 1.493726181167338!\n",
      "WARNING:pystan:Rhat for parameter log_lik[66] is 1.4982678548192534!\n",
      "WARNING:pystan:Rhat for parameter log_lik[67] is 1.3159559458023757!\n",
      "WARNING:pystan:Rhat for parameter log_lik[69] is 1.5420128944548162!\n",
      "WARNING:pystan:Rhat for parameter log_lik[70] is 1.3166601346538047!\n",
      "WARNING:pystan:Rhat for parameter log_lik[71] is 1.4784796496657455!\n",
      "WARNING:pystan:Rhat for parameter log_lik[74] is 1.1333005944300734!\n",
      "WARNING:pystan:Rhat for parameter log_lik[75] is 1.2450956215209306!\n",
      "WARNING:pystan:Rhat for parameter log_lik[76] is 1.1579350475628052!\n",
      "WARNING:pystan:Rhat for parameter log_lik[77] is 1.1203157523512142!\n",
      "WARNING:pystan:Rhat for parameter log_lik[78] is 1.4503604759545563!\n",
      "WARNING:pystan:Rhat for parameter log_lik[80] is 1.123603406206599!\n",
      "WARNING:pystan:Rhat for parameter log_lik[81] is 1.3654309527510535!\n",
      "WARNING:pystan:Rhat for parameter log_lik[82] is 1.2285769188620714!\n",
      "WARNING:pystan:Rhat for parameter log_lik[83] is 1.5626936376589897!\n",
      "WARNING:pystan:Rhat for parameter log_lik[84] is 1.2553384775185932!\n",
      "WARNING:pystan:Rhat for parameter log_lik[85] is 1.5828276325421107!\n",
      "WARNING:pystan:Rhat for parameter log_lik[86] is 1.2561481125080944!\n",
      "WARNING:pystan:Rhat for parameter log_lik[89] is 1.2633978884105797!\n",
      "WARNING:pystan:Rhat for parameter log_lik[90] is 1.2277812459227375!\n",
      "WARNING:pystan:Rhat for parameter log_lik[92] is 1.3702595227387728!\n",
      "WARNING:pystan:Rhat for parameter log_lik[93] is 1.5630801757301307!\n",
      "WARNING:pystan:Rhat for parameter log_lik[95] is 1.163451648703161!\n",
      "WARNING:pystan:Rhat for parameter log_lik[96] is 1.3333653161543373!\n",
      "WARNING:pystan:Rhat for parameter log_lik[97] is 1.26259087202201!\n",
      "WARNING:pystan:Rhat for parameter log_lik[99] is 1.5408721064872186!\n",
      "WARNING:pystan:Rhat for parameter log_lik[100] is 1.3699064591977803!\n",
      "WARNING:pystan:Rhat for parameter log_lik[101] is 1.357522592383142!\n",
      "WARNING:pystan:Rhat for parameter log_lik[103] is 1.4373854234948196!\n",
      "WARNING:pystan:Rhat for parameter log_lik[104] is 1.557950475719956!\n",
      "WARNING:pystan:Rhat for parameter log_lik[105] is 1.203312889882753!\n",
      "WARNING:pystan:Rhat for parameter log_lik[106] is 1.1921946438511313!\n",
      "WARNING:pystan:Rhat for parameter log_lik[107] is 1.2280689384023669!\n",
      "WARNING:pystan:Rhat for parameter log_lik[108] is 1.47512286369644!\n",
      "WARNING:pystan:Rhat for parameter log_lik[109] is 1.1673517273688852!\n",
      "WARNING:pystan:Rhat for parameter log_lik[110] is 1.3234407049326367!\n",
      "WARNING:pystan:Rhat for parameter log_lik[111] is 1.4961723912275113!\n",
      "WARNING:pystan:Rhat for parameter log_lik[112] is 1.7795376450433082!\n",
      "WARNING:pystan:Rhat for parameter log_lik[113] is 1.2840018895748264!\n",
      "WARNING:pystan:Rhat for parameter log_lik[114] is 1.3328509434706484!\n",
      "WARNING:pystan:Rhat for parameter log_lik[115] is 1.212928332857406!\n",
      "WARNING:pystan:Rhat for parameter log_lik[116] is 1.183058324459577!\n",
      "WARNING:pystan:Rhat for parameter log_lik[117] is 1.6360935785966402!\n",
      "WARNING:pystan:Rhat for parameter log_lik[118] is 1.3750514867764707!\n",
      "WARNING:pystan:Rhat for parameter log_lik[120] is 1.194600354118736!\n",
      "WARNING:pystan:Rhat for parameter log_lik[121] is 1.6660239968915411!\n",
      "WARNING:pystan:Rhat for parameter log_lik[122] is 1.372597126106957!\n",
      "WARNING:pystan:Rhat for parameter log_lik[123] is 1.1257057759213445!\n",
      "WARNING:pystan:Rhat for parameter log_lik[124] is 1.1773333095544998!\n",
      "WARNING:pystan:Rhat for parameter log_lik[125] is 1.2564130210285422!\n",
      "WARNING:pystan:Rhat for parameter log_lik[127] is 1.1434272107323915!\n",
      "WARNING:pystan:Rhat for parameter log_lik[129] is 1.5980316172391063!\n",
      "WARNING:pystan:Rhat for parameter log_lik[130] is 1.5634511142454233!\n",
      "WARNING:pystan:Rhat for parameter log_lik[131] is 1.40466649088724!\n",
      "WARNING:pystan:Rhat for parameter log_lik[132] is 1.4712155201984018!\n",
      "WARNING:pystan:Rhat for parameter log_lik[133] is 1.2983216241115785!\n",
      "WARNING:pystan:Rhat for parameter log_lik[134] is 1.6505102281043111!\n",
      "WARNING:pystan:Rhat for parameter log_lik[136] is 1.1908256615870172!\n",
      "WARNING:pystan:Rhat for parameter log_lik[137] is 1.2584298694374438!\n",
      "WARNING:pystan:Rhat for parameter log_lik[138] is 1.229653133511096!\n",
      "WARNING:pystan:Rhat for parameter log_lik[140] is 1.2602315253587122!\n",
      "WARNING:pystan:Rhat for parameter log_lik[141] is 1.2668527999603312!\n",
      "WARNING:pystan:Rhat for parameter log_lik[142] is 1.4178825454570907!\n",
      "WARNING:pystan:Rhat for parameter log_lik[143] is 1.3204314606521823!\n",
      "WARNING:pystan:Rhat for parameter log_lik[144] is 1.5226342154864367!\n",
      "WARNING:pystan:Rhat for parameter log_lik[145] is 1.6353897723579287!\n",
      "WARNING:pystan:Rhat for parameter log_lik[146] is 1.5129490633552165!\n",
      "WARNING:pystan:Rhat for parameter log_lik[148] is 1.1842906786994924!\n",
      "WARNING:pystan:Rhat for parameter log_lik[150] is 1.2338814495424977!\n",
      "WARNING:pystan:Rhat for parameter log_lik[153] is 1.3311041589438941!\n",
      "WARNING:pystan:Rhat for parameter log_lik[156] is 1.3842535928359716!\n",
      "WARNING:pystan:Rhat for parameter log_lik[157] is 1.5664028489709136!\n",
      "WARNING:pystan:Rhat for parameter log_lik[158] is 1.3573393307232064!\n",
      "WARNING:pystan:Rhat for parameter log_lik[159] is 1.305962094108354!\n",
      "WARNING:pystan:Rhat for parameter log_lik[160] is 1.7054863083058034!\n",
      "WARNING:pystan:Rhat for parameter log_lik[161] is 1.254488024048823!\n",
      "WARNING:pystan:Rhat for parameter log_lik[162] is 1.752072456531862!\n",
      "WARNING:pystan:Rhat for parameter log_lik[163] is 1.7171118819364914!\n",
      "WARNING:pystan:Rhat for parameter log_lik[164] is 1.7475281336993203!\n",
      "WARNING:pystan:Rhat for parameter log_lik[166] is 2.0253577471817867!\n",
      "WARNING:pystan:Rhat for parameter log_lik[167] is 2.560497032118857!\n",
      "WARNING:pystan:Rhat for parameter log_lik[168] is 2.33401712000954!\n",
      "WARNING:pystan:Rhat for parameter log_lik[169] is 1.7680733127453714!\n",
      "WARNING:pystan:Rhat for parameter log_lik[170] is 2.8172563905491734!\n",
      "WARNING:pystan:Rhat for parameter log_lik[171] is 2.641590245554102!\n",
      "WARNING:pystan:Rhat for parameter log_lik[172] is 2.256949599552152!\n",
      "WARNING:pystan:Rhat for parameter log_lik[173] is 1.2663581009887304!\n",
      "WARNING:pystan:Rhat for parameter log_lik[174] is 1.3012986259809807!\n",
      "WARNING:pystan:Rhat for parameter log_lik[175] is 2.335615411814669!\n",
      "WARNING:pystan:Rhat for parameter log_lik[176] is 1.5071799088975264!\n",
      "WARNING:pystan:Rhat for parameter log_lik[177] is 1.3237092314462957!\n",
      "WARNING:pystan:Rhat for parameter log_lik[178] is 1.9527944894582279!\n",
      "WARNING:pystan:Rhat for parameter log_lik[179] is 2.5794036007188876!\n",
      "WARNING:pystan:Rhat for parameter log_lik[181] is 1.5863486551705819!\n",
      "WARNING:pystan:Rhat for parameter log_lik[182] is 1.8403145170357706!\n",
      "WARNING:pystan:Rhat for parameter log_lik[183] is 1.2915831656704313!\n",
      "WARNING:pystan:Rhat for parameter log_lik[184] is 1.4695176935276963!\n",
      "WARNING:pystan:Rhat for parameter log_lik[186] is 2.270573618885333!\n",
      "WARNING:pystan:Rhat for parameter log_lik[187] is 2.0929228617354867!\n",
      "WARNING:pystan:Rhat for parameter log_lik[188] is 1.6851836266470348!\n",
      "WARNING:pystan:Rhat for parameter log_lik[189] is 2.071667449042186!\n",
      "WARNING:pystan:Rhat for parameter log_lik[191] is 1.8822973995270251!\n",
      "WARNING:pystan:Rhat for parameter log_lik[193] is 1.6636616328862577!\n",
      "WARNING:pystan:Rhat for parameter log_lik[194] is 1.12297610914641!\n",
      "WARNING:pystan:Rhat for parameter log_lik[195] is 2.285970101555264!\n",
      "WARNING:pystan:Rhat for parameter log_lik[196] is 2.1926948046714747!\n",
      "WARNING:pystan:Rhat for parameter log_lik[197] is 1.7145295451954623!\n",
      "WARNING:pystan:Rhat for parameter log_lik[198] is 2.0165714198940115!\n",
      "WARNING:pystan:Rhat for parameter log_lik[199] is 1.4033981008509042!\n",
      "WARNING:pystan:Rhat for parameter log_lik[201] is 1.3569188613015946!\n",
      "WARNING:pystan:Rhat for parameter log_lik[202] is 1.7913645947506565!\n",
      "WARNING:pystan:Rhat for parameter log_lik[203] is 1.8338460315741245!\n"
     ]
    },
    {
     "name": "stderr",
     "output_type": "stream",
     "text": [
      "WARNING:pystan:Rhat for parameter log_lik[204] is 1.9611239640673994!\n",
      "WARNING:pystan:Rhat for parameter log_lik[205] is 1.9883385083086849!\n",
      "WARNING:pystan:Rhat for parameter log_lik[206] is 2.41339602313071!\n",
      "WARNING:pystan:Rhat for parameter log_lik[207] is 1.208366589716412!\n",
      "WARNING:pystan:Rhat for parameter log_lik[208] is 2.3355331467256586!\n",
      "WARNING:pystan:Rhat for parameter log_lik[210] is 2.22862717863288!\n",
      "WARNING:pystan:Rhat for parameter log_lik[211] is 1.3295273447952622!\n",
      "WARNING:pystan:Rhat for parameter log_lik[212] is 2.315667324765883!\n",
      "WARNING:pystan:Rhat for parameter log_lik[213] is 1.2050936997433879!\n",
      "WARNING:pystan:Rhat for parameter log_lik[214] is 2.154327244696899!\n",
      "WARNING:pystan:Rhat for parameter log_lik[215] is 2.780048873046518!\n",
      "WARNING:pystan:Rhat for parameter log_lik[216] is 1.3280812665985369!\n",
      "WARNING:pystan:Rhat for parameter log_lik[217] is 2.5373397964062216!\n",
      "WARNING:pystan:Rhat for parameter log_lik[218] is 2.392400076737035!\n",
      "WARNING:pystan:Rhat for parameter log_lik[220] is 2.1426048124502626!\n",
      "WARNING:pystan:Rhat for parameter lp__ is 1.4108731498751892!\n",
      "WARNING:pystan:Rhat above 1.1 or below 0.9 indicates that the chains very likely have not mixed\n",
      "WARNING:pystan:543 of 1000 iterations ended with a divergence (54.3%).\n",
      "WARNING:pystan:Try running with adapt_delta larger than 0.8 to remove the divergences.\n",
      "WARNING:pystan:162 of 1000 iterations saturated the maximum tree depth of 10 (16.2%)\n",
      "WARNING:pystan:Run again with max_treedepth larger than 10 to avoid saturation\n"
     ]
    }
   ],
   "source": [
    "varying_intercept_slope_data = {'N': X_train.shape[0],\n",
    "                          'J': 4,\n",
    "                          'boroughs': X_train.Borough,\n",
    "                          'x': X_train.loc[:,'Enrollment'],\n",
    "                          'y': Y_train}\n",
    "\n",
    "varying_intercept_slope_fit = pystan.stan(model_code=varying_intercept_slope, \n",
    "                                          data=varying_intercept_slope_data, \n",
    "                                          iter=1000, chains=2)\n",
    "varying_intercept_slope_sample = varying_intercept_slope_fit.extract(permuted=True)"
   ]
  },
  {
   "cell_type": "code",
   "execution_count": 91,
   "metadata": {},
   "outputs": [
    {
     "name": "stderr",
     "output_type": "stream",
     "text": [
      "WARNING:pystan:Rhat for parameter sigma is 1.2525368313454828!\n",
      "WARNING:pystan:Rhat for parameter sigma_a is 1.6946946256716302!\n",
      "WARNING:pystan:Rhat for parameter sigma_b is 1.270313694893328!\n",
      "WARNING:pystan:Rhat for parameter alpha[2] is 1.4227734713156592!\n",
      "WARNING:pystan:Rhat for parameter alpha[3] is 1.5751425770229537!\n",
      "WARNING:pystan:Rhat for parameter alpha[4] is 2.4922765898590375!\n",
      "WARNING:pystan:Rhat for parameter beta[1] is 1.3085444568367504!\n",
      "WARNING:pystan:Rhat for parameter beta[2] is 1.148555765076775!\n",
      "WARNING:pystan:Rhat for parameter beta[3] is 1.5250175242078963!\n",
      "WARNING:pystan:Rhat for parameter mu_a is 1.9351990593203243!\n",
      "WARNING:pystan:Rhat for parameter mu[2] is 1.138796604654893!\n",
      "WARNING:pystan:Rhat for parameter mu[3] is 1.218781425377582!\n",
      "WARNING:pystan:Rhat for parameter mu[5] is 1.1329334583549957!\n",
      "WARNING:pystan:Rhat for parameter mu[8] is 1.1012985603437124!\n",
      "WARNING:pystan:Rhat for parameter mu[9] is 1.272914183469249!\n",
      "WARNING:pystan:Rhat for parameter mu[10] is 1.113632904069064!\n",
      "WARNING:pystan:Rhat for parameter mu[11] is 1.187569597575632!\n",
      "WARNING:pystan:Rhat for parameter mu[12] is 1.1094679324389236!\n",
      "WARNING:pystan:Rhat for parameter mu[13] is 1.4082115802696265!\n",
      "WARNING:pystan:Rhat for parameter mu[14] is 1.276055315738049!\n",
      "WARNING:pystan:Rhat for parameter mu[15] is 1.1087787800158826!\n",
      "WARNING:pystan:Rhat for parameter mu[16] is 1.2963576993251207!\n",
      "WARNING:pystan:Rhat for parameter mu[17] is 1.1164370441723843!\n",
      "WARNING:pystan:Rhat for parameter mu[18] is 1.1314766207266838!\n",
      "WARNING:pystan:Rhat for parameter mu[19] is 1.391710552807151!\n",
      "WARNING:pystan:Rhat for parameter mu[20] is 1.2791575842645473!\n",
      "WARNING:pystan:Rhat for parameter mu[21] is 1.3411289365980965!\n",
      "WARNING:pystan:Rhat for parameter mu[22] is 1.1178469867881033!\n",
      "WARNING:pystan:Rhat for parameter mu[25] is 1.415429818165475!\n",
      "WARNING:pystan:Rhat for parameter mu[26] is 1.1080910996442717!\n",
      "WARNING:pystan:Rhat for parameter mu[29] is 1.1754993455139824!\n",
      "WARNING:pystan:Rhat for parameter mu[31] is 1.2929123072211073!\n",
      "WARNING:pystan:Rhat for parameter mu[32] is 1.1178469867881033!\n",
      "WARNING:pystan:Rhat for parameter mu[33] is 1.1115440695995307!\n",
      "WARNING:pystan:Rhat for parameter mu[35] is 1.4101098585718697!\n",
      "WARNING:pystan:Rhat for parameter mu[37] is 1.1807843590010574!\n",
      "WARNING:pystan:Rhat for parameter mu[38] is 1.1469397405104818!\n",
      "WARNING:pystan:Rhat for parameter mu[39] is 1.3656402421553926!\n",
      "WARNING:pystan:Rhat for parameter mu[40] is 1.2033001436517838!\n",
      "WARNING:pystan:Rhat for parameter mu[41] is 1.2317612848341253!\n",
      "WARNING:pystan:Rhat for parameter mu[42] is 1.2238652725019374!\n",
      "WARNING:pystan:Rhat for parameter mu[43] is 1.405887060970638!\n",
      "WARNING:pystan:Rhat for parameter mu[44] is 1.268452519818485!\n",
      "WARNING:pystan:Rhat for parameter mu[46] is 1.1845559142900657!\n",
      "WARNING:pystan:Rhat for parameter mu[48] is 1.218781425377582!\n",
      "WARNING:pystan:Rhat for parameter mu[49] is 1.1150323079747213!\n",
      "WARNING:pystan:Rhat for parameter mu[50] is 1.1566569533578688!\n",
      "WARNING:pystan:Rhat for parameter mu[51] is 1.414442026682911!\n",
      "WARNING:pystan:Rhat for parameter mu[53] is 1.404715008587363!\n",
      "WARNING:pystan:Rhat for parameter mu[54] is 1.4134917173056114!\n",
      "WARNING:pystan:Rhat for parameter mu[55] is 1.248531745950521!\n",
      "WARNING:pystan:Rhat for parameter mu[56] is 1.1967699213939647!\n",
      "WARNING:pystan:Rhat for parameter mu[57] is 1.174879157718029!\n",
      "WARNING:pystan:Rhat for parameter mu[58] is 1.203573734913662!\n",
      "WARNING:pystan:Rhat for parameter mu[60] is 1.43051507380884!\n",
      "WARNING:pystan:Rhat for parameter mu[62] is 1.208163963830866!\n",
      "WARNING:pystan:Rhat for parameter mu[63] is 1.378089720872561!\n",
      "WARNING:pystan:Rhat for parameter mu[64] is 1.2280987577661364!\n",
      "WARNING:pystan:Rhat for parameter mu[65] is 1.3624647358564854!\n",
      "WARNING:pystan:Rhat for parameter mu[66] is 1.2975351716107302!\n",
      "WARNING:pystan:Rhat for parameter mu[67] is 1.3180397089494404!\n",
      "WARNING:pystan:Rhat for parameter mu[69] is 1.3635360590019157!\n",
      "WARNING:pystan:Rhat for parameter mu[70] is 1.3850330919377793!\n",
      "WARNING:pystan:Rhat for parameter mu[71] is 1.310854771721129!\n",
      "WARNING:pystan:Rhat for parameter mu[72] is 1.4415901772549387!\n",
      "WARNING:pystan:Rhat for parameter mu[73] is 1.4704038776046267!\n",
      "WARNING:pystan:Rhat for parameter mu[75] is 1.347066881596472!\n",
      "WARNING:pystan:Rhat for parameter mu[76] is 1.4554099720540254!\n",
      "WARNING:pystan:Rhat for parameter mu[77] is 1.4151632382158241!\n",
      "WARNING:pystan:Rhat for parameter mu[78] is 1.3656665120674445!\n",
      "WARNING:pystan:Rhat for parameter mu[80] is 1.2987524187258372!\n",
      "WARNING:pystan:Rhat for parameter mu[81] is 1.2449307081603531!\n",
      "WARNING:pystan:Rhat for parameter mu[82] is 1.3770789824076959!\n",
      "WARNING:pystan:Rhat for parameter mu[83] is 1.378089720872561!\n",
      "WARNING:pystan:Rhat for parameter mu[84] is 1.4469099993091041!\n",
      "WARNING:pystan:Rhat for parameter mu[85] is 1.4159527293518341!\n",
      "WARNING:pystan:Rhat for parameter mu[87] is 1.4035145028309284!\n",
      "WARNING:pystan:Rhat for parameter mu[88] is 1.4235281824480774!\n",
      "WARNING:pystan:Rhat for parameter mu[89] is 1.407801033076934!\n",
      "WARNING:pystan:Rhat for parameter mu[90] is 1.103762213363883!\n",
      "WARNING:pystan:Rhat for parameter mu[91] is 1.4143679953647978!\n",
      "WARNING:pystan:Rhat for parameter mu[92] is 1.1664973429738692!\n",
      "WARNING:pystan:Rhat for parameter mu[93] is 1.3917370451621398!\n",
      "WARNING:pystan:Rhat for parameter mu[94] is 1.2162937402893241!\n",
      "WARNING:pystan:Rhat for parameter mu[95] is 1.2902116061110596!\n",
      "WARNING:pystan:Rhat for parameter mu[96] is 1.1791535128558013!\n",
      "WARNING:pystan:Rhat for parameter mu[97] is 1.4298431049489122!\n",
      "WARNING:pystan:Rhat for parameter mu[98] is 1.4469099993091041!\n",
      "WARNING:pystan:Rhat for parameter mu[99] is 1.3667255533936744!\n",
      "WARNING:pystan:Rhat for parameter mu[100] is 1.4520842597981907!\n",
      "WARNING:pystan:Rhat for parameter mu[101] is 1.1834814782178593!\n",
      "WARNING:pystan:Rhat for parameter mu[102] is 1.3656665120674445!\n",
      "WARNING:pystan:Rhat for parameter mu[103] is 1.3156521485276769!\n",
      "WARNING:pystan:Rhat for parameter mu[104] is 1.3860057348872041!\n",
      "WARNING:pystan:Rhat for parameter mu[105] is 1.4182865409395187!\n",
      "WARNING:pystan:Rhat for parameter mu[106] is 1.3286781906639404!\n",
      "WARNING:pystan:Rhat for parameter mu[107] is 1.2975351716107302!\n",
      "WARNING:pystan:Rhat for parameter mu[108] is 1.2950975838737975!\n",
      "WARNING:pystan:Rhat for parameter mu[109] is 1.4488730218073442!\n",
      "WARNING:pystan:Rhat for parameter mu[110] is 1.3263301653814297!\n",
      "WARNING:pystan:Rhat for parameter mu[111] is 1.4492576125459626!\n",
      "WARNING:pystan:Rhat for parameter mu[112] is 1.4351541939895536!\n",
      "WARNING:pystan:Rhat for parameter mu[113] is 1.1550664593739186!\n",
      "WARNING:pystan:Rhat for parameter mu[114] is 1.29259089933835!\n",
      "WARNING:pystan:Rhat for parameter mu[115] is 1.353315737310546!\n",
      "WARNING:pystan:Rhat for parameter mu[117] is 1.4608227742647992!\n",
      "WARNING:pystan:Rhat for parameter mu[118] is 1.4008832227890426!\n",
      "WARNING:pystan:Rhat for parameter mu[119] is 1.1525122681410502!\n",
      "WARNING:pystan:Rhat for parameter mu[120] is 1.2838562467242847!\n",
      "WARNING:pystan:Rhat for parameter mu[121] is 1.3907594432109256!\n",
      "WARNING:pystan:Rhat for parameter mu[122] is 1.4567224593311434!\n",
      "WARNING:pystan:Rhat for parameter mu[123] is 1.1709556271509!\n",
      "WARNING:pystan:Rhat for parameter mu[124] is 1.18215037770948!\n",
      "WARNING:pystan:Rhat for parameter mu[126] is 1.241594668609181!\n",
      "WARNING:pystan:Rhat for parameter mu[127] is 1.3293689268096276!\n",
      "WARNING:pystan:Rhat for parameter mu[129] is 1.3209735923312302!\n",
      "WARNING:pystan:Rhat for parameter mu[130] is 1.4435113541881934!\n",
      "WARNING:pystan:Rhat for parameter mu[131] is 1.3625007362129622!\n",
      "WARNING:pystan:Rhat for parameter mu[132] is 1.3332106100611207!\n",
      "WARNING:pystan:Rhat for parameter mu[133] is 1.3377503605811194!\n",
      "WARNING:pystan:Rhat for parameter mu[134] is 1.4003278239149153!\n",
      "WARNING:pystan:Rhat for parameter mu[136] is 1.3293689268096276!\n",
      "WARNING:pystan:Rhat for parameter mu[137] is 1.458097111825856!\n",
      "WARNING:pystan:Rhat for parameter mu[138] is 1.3611250726903805!\n",
      "WARNING:pystan:Rhat for parameter mu[139] is 1.3713227749210366!\n",
      "WARNING:pystan:Rhat for parameter mu[140] is 1.1806692972758017!\n",
      "WARNING:pystan:Rhat for parameter mu[141] is 1.3287265702059456!\n",
      "WARNING:pystan:Rhat for parameter mu[142] is 1.365526362094016!\n"
     ]
    },
    {
     "name": "stderr",
     "output_type": "stream",
     "text": [
      "WARNING:pystan:Rhat for parameter mu[143] is 1.4626223934743174!\n",
      "WARNING:pystan:Rhat for parameter mu[144] is 1.387325965240938!\n",
      "WARNING:pystan:Rhat for parameter mu[145] is 1.3344863520440182!\n",
      "WARNING:pystan:Rhat for parameter mu[147] is 1.1235097263432963!\n",
      "WARNING:pystan:Rhat for parameter mu[150] is 1.165416472674884!\n",
      "WARNING:pystan:Rhat for parameter mu[151] is 1.2959336508361434!\n",
      "WARNING:pystan:Rhat for parameter mu[152] is 1.1017201508924566!\n",
      "WARNING:pystan:Rhat for parameter mu[153] is 1.3879002305336845!\n",
      "WARNING:pystan:Rhat for parameter mu[154] is 1.1000209456277683!\n",
      "WARNING:pystan:Rhat for parameter mu[156] is 1.4316393203135538!\n",
      "WARNING:pystan:Rhat for parameter mu[157] is 1.3118296063324073!\n",
      "WARNING:pystan:Rhat for parameter mu[158] is 1.3815393269586769!\n",
      "WARNING:pystan:Rhat for parameter mu[159] is 1.4296115705741548!\n",
      "WARNING:pystan:Rhat for parameter mu[160] is 1.4080270636196233!\n",
      "WARNING:pystan:Rhat for parameter mu[161] is 1.2624780600910512!\n",
      "WARNING:pystan:Rhat for parameter mu[162] is 1.4074825971646026!\n",
      "WARNING:pystan:Rhat for parameter mu[163] is 1.3907594432109256!\n",
      "WARNING:pystan:Rhat for parameter mu[164] is 1.437638523522274!\n",
      "WARNING:pystan:Rhat for parameter mu[165] is 1.184461443557172!\n",
      "WARNING:pystan:Rhat for parameter mu[166] is 2.3452401989312612!\n",
      "WARNING:pystan:Rhat for parameter mu[167] is 2.438880364780222!\n",
      "WARNING:pystan:Rhat for parameter mu[168] is 2.5252189518309827!\n",
      "WARNING:pystan:Rhat for parameter mu[169] is 2.362802259332628!\n",
      "WARNING:pystan:Rhat for parameter mu[170] is 2.5252189518309827!\n",
      "WARNING:pystan:Rhat for parameter mu[171] is 2.4182518053148527!\n",
      "WARNING:pystan:Rhat for parameter mu[172] is 2.467892615707693!\n",
      "WARNING:pystan:Rhat for parameter mu[173] is 2.176940676965228!\n",
      "WARNING:pystan:Rhat for parameter mu[174] is 2.2045578108988977!\n",
      "WARNING:pystan:Rhat for parameter mu[175] is 2.5005316107771614!\n",
      "WARNING:pystan:Rhat for parameter mu[176] is 2.565284677923205!\n",
      "WARNING:pystan:Rhat for parameter mu[177] is 2.556721551771519!\n",
      "WARNING:pystan:Rhat for parameter mu[178] is 2.0645372838725162!\n",
      "WARNING:pystan:Rhat for parameter mu[179] is 2.536220661454908!\n",
      "WARNING:pystan:Rhat for parameter mu[181] is 1.6199837934688333!\n",
      "WARNING:pystan:Rhat for parameter mu[182] is 2.419569250213841!\n",
      "WARNING:pystan:Rhat for parameter mu[183] is 1.2563524344875059!\n",
      "WARNING:pystan:Rhat for parameter mu[184] is 2.555405309546892!\n",
      "WARNING:pystan:Rhat for parameter mu[185] is 2.4572985734019297!\n",
      "WARNING:pystan:Rhat for parameter mu[186] is 2.4974615769895037!\n",
      "WARNING:pystan:Rhat for parameter mu[187] is 2.588185320787911!\n",
      "WARNING:pystan:Rhat for parameter mu[188] is 2.2045578108988977!\n",
      "WARNING:pystan:Rhat for parameter mu[189] is 2.591652355264312!\n",
      "WARNING:pystan:Rhat for parameter mu[191] is 2.3333293726540187!\n",
      "WARNING:pystan:Rhat for parameter mu[192] is 2.584783041039628!\n",
      "WARNING:pystan:Rhat for parameter mu[193] is 1.5369595351122454!\n",
      "WARNING:pystan:Rhat for parameter mu[194] is 1.1148672448106913!\n",
      "WARNING:pystan:Rhat for parameter mu[195] is 2.580520852169595!\n",
      "WARNING:pystan:Rhat for parameter mu[196] is 2.5312571962152544!\n",
      "WARNING:pystan:Rhat for parameter mu[197] is 2.5623576610889316!\n",
      "WARNING:pystan:Rhat for parameter mu[198] is 2.0483915996288067!\n",
      "WARNING:pystan:Rhat for parameter mu[199] is 2.494347225867871!\n",
      "WARNING:pystan:Rhat for parameter mu[201] is 2.396692801512711!\n",
      "WARNING:pystan:Rhat for parameter mu[202] is 2.555405309546892!\n",
      "WARNING:pystan:Rhat for parameter mu[203] is 2.578541216765887!\n",
      "WARNING:pystan:Rhat for parameter mu[204] is 2.5448029189053636!\n",
      "WARNING:pystan:Rhat for parameter mu[205] is 2.34671800555653!\n",
      "WARNING:pystan:Rhat for parameter mu[206] is 2.580520852169595!\n",
      "WARNING:pystan:Rhat for parameter mu[207] is 2.511402201644805!\n",
      "WARNING:pystan:Rhat for parameter mu[208] is 2.552013939556177!\n",
      "WARNING:pystan:Rhat for parameter mu[210] is 2.477007807936594!\n",
      "WARNING:pystan:Rhat for parameter mu[211] is 2.5741353657428725!\n",
      "WARNING:pystan:Rhat for parameter mu[212] is 2.501545030538456!\n",
      "WARNING:pystan:Rhat for parameter mu[213] is 2.4560998457151277!\n",
      "WARNING:pystan:Rhat for parameter mu[214] is 2.3481932847205176!\n",
      "WARNING:pystan:Rhat for parameter mu[215] is 2.5198342781183056!\n",
      "WARNING:pystan:Rhat for parameter mu[216] is 2.5295590205873535!\n",
      "WARNING:pystan:Rhat for parameter mu[217] is 2.4261012042312613!\n",
      "WARNING:pystan:Rhat for parameter mu[218] is 2.252760056838213!\n",
      "WARNING:pystan:Rhat for parameter mu[219] is 2.555405309546892!\n",
      "WARNING:pystan:Rhat for parameter mu[220] is 2.539419477893071!\n",
      "WARNING:pystan:Rhat for parameter log_lik[1] is 1.1208843857417656!\n",
      "WARNING:pystan:Rhat for parameter log_lik[3] is 1.3307672058765883!\n",
      "WARNING:pystan:Rhat for parameter log_lik[5] is 1.2658359635511163!\n",
      "WARNING:pystan:Rhat for parameter log_lik[8] is 1.2909305927172898!\n",
      "WARNING:pystan:Rhat for parameter log_lik[9] is 1.240034321022396!\n",
      "WARNING:pystan:Rhat for parameter log_lik[10] is 1.1174655188640863!\n",
      "WARNING:pystan:Rhat for parameter log_lik[11] is 1.3122378466381137!\n",
      "WARNING:pystan:Rhat for parameter log_lik[12] is 1.3079774250553535!\n",
      "WARNING:pystan:Rhat for parameter log_lik[13] is 1.3684648332390388!\n",
      "WARNING:pystan:Rhat for parameter log_lik[14] is 1.2979633760075706!\n",
      "WARNING:pystan:Rhat for parameter log_lik[15] is 1.20540082982369!\n",
      "WARNING:pystan:Rhat for parameter log_lik[16] is 1.4030622253163816!\n",
      "WARNING:pystan:Rhat for parameter log_lik[17] is 1.1573735390072546!\n",
      "WARNING:pystan:Rhat for parameter log_lik[18] is 1.2620641143836588!\n",
      "WARNING:pystan:Rhat for parameter log_lik[19] is 1.4007393216915085!\n",
      "WARNING:pystan:Rhat for parameter log_lik[20] is 1.354835722055489!\n",
      "WARNING:pystan:Rhat for parameter log_lik[21] is 1.106447668296231!\n",
      "WARNING:pystan:Rhat for parameter log_lik[22] is 1.208031918418314!\n",
      "WARNING:pystan:Rhat for parameter log_lik[24] is 1.2938607951232464!\n",
      "WARNING:pystan:Rhat for parameter log_lik[25] is 1.417004961260446!\n",
      "WARNING:pystan:Rhat for parameter log_lik[26] is 1.242448261275558!\n",
      "WARNING:pystan:Rhat for parameter log_lik[27] is 1.1136919307744708!\n",
      "WARNING:pystan:Rhat for parameter log_lik[29] is 1.2516030627845451!\n",
      "WARNING:pystan:Rhat for parameter log_lik[30] is 1.291018442274578!\n",
      "WARNING:pystan:Rhat for parameter log_lik[31] is 1.2762287269775154!\n",
      "WARNING:pystan:Rhat for parameter log_lik[32] is 1.2006567635320837!\n",
      "WARNING:pystan:Rhat for parameter log_lik[33] is 1.1283113142128347!\n",
      "WARNING:pystan:Rhat for parameter log_lik[35] is 1.4381009236736713!\n",
      "WARNING:pystan:Rhat for parameter log_lik[36] is 1.310641889520863!\n",
      "WARNING:pystan:Rhat for parameter log_lik[37] is 1.1524670953198337!\n",
      "WARNING:pystan:Rhat for parameter log_lik[38] is 1.11332871935652!\n",
      "WARNING:pystan:Rhat for parameter log_lik[39] is 1.4597089875904512!\n",
      "WARNING:pystan:Rhat for parameter log_lik[40] is 1.2791924503062049!\n",
      "WARNING:pystan:Rhat for parameter log_lik[41] is 1.1905374010102756!\n",
      "WARNING:pystan:Rhat for parameter log_lik[42] is 1.3285947536642433!\n",
      "WARNING:pystan:Rhat for parameter log_lik[43] is 1.5404327035281244!\n",
      "WARNING:pystan:Rhat for parameter log_lik[44] is 1.3764318518345682!\n",
      "WARNING:pystan:Rhat for parameter log_lik[45] is 1.1656800746552467!\n",
      "WARNING:pystan:Rhat for parameter log_lik[46] is 1.31117742109585!\n",
      "WARNING:pystan:Rhat for parameter log_lik[47] is 1.2498541650407813!\n",
      "WARNING:pystan:Rhat for parameter log_lik[48] is 1.1808004219077324!\n",
      "WARNING:pystan:Rhat for parameter log_lik[49] is 1.1053152602057879!\n",
      "WARNING:pystan:Rhat for parameter log_lik[50] is 1.1570398861220736!\n",
      "WARNING:pystan:Rhat for parameter log_lik[51] is 1.4056509452575092!\n",
      "WARNING:pystan:Rhat for parameter log_lik[52] is 1.2300115993322545!\n",
      "WARNING:pystan:Rhat for parameter log_lik[53] is 1.3459103489414523!\n",
      "WARNING:pystan:Rhat for parameter log_lik[54] is 1.3956039516271501!\n",
      "WARNING:pystan:Rhat for parameter log_lik[55] is 1.2372038538699528!\n",
      "WARNING:pystan:Rhat for parameter log_lik[57] is 1.209183291167292!\n",
      "WARNING:pystan:Rhat for parameter log_lik[58] is 1.4147048199458314!\n",
      "WARNING:pystan:Rhat for parameter log_lik[59] is 1.3115029464270305!\n",
      "WARNING:pystan:Rhat for parameter log_lik[60] is 1.3407570164143088!\n",
      "WARNING:pystan:Rhat for parameter log_lik[63] is 1.4340866116197086!\n",
      "WARNING:pystan:Rhat for parameter log_lik[64] is 1.2262120281907742!\n"
     ]
    },
    {
     "name": "stderr",
     "output_type": "stream",
     "text": [
      "WARNING:pystan:Rhat for parameter log_lik[65] is 1.493726181167338!\n",
      "WARNING:pystan:Rhat for parameter log_lik[66] is 1.4982678548192534!\n",
      "WARNING:pystan:Rhat for parameter log_lik[67] is 1.3159559458023757!\n",
      "WARNING:pystan:Rhat for parameter log_lik[69] is 1.5420128944548162!\n",
      "WARNING:pystan:Rhat for parameter log_lik[70] is 1.3166601346538047!\n",
      "WARNING:pystan:Rhat for parameter log_lik[71] is 1.4784796496657455!\n",
      "WARNING:pystan:Rhat for parameter log_lik[74] is 1.1333005944300734!\n",
      "WARNING:pystan:Rhat for parameter log_lik[75] is 1.2450956215209306!\n",
      "WARNING:pystan:Rhat for parameter log_lik[76] is 1.1579350475628052!\n",
      "WARNING:pystan:Rhat for parameter log_lik[77] is 1.1203157523512142!\n",
      "WARNING:pystan:Rhat for parameter log_lik[78] is 1.4503604759545563!\n",
      "WARNING:pystan:Rhat for parameter log_lik[80] is 1.123603406206599!\n",
      "WARNING:pystan:Rhat for parameter log_lik[81] is 1.3654309527510535!\n",
      "WARNING:pystan:Rhat for parameter log_lik[82] is 1.2285769188620714!\n",
      "WARNING:pystan:Rhat for parameter log_lik[83] is 1.5626936376589897!\n",
      "WARNING:pystan:Rhat for parameter log_lik[84] is 1.2553384775185932!\n",
      "WARNING:pystan:Rhat for parameter log_lik[85] is 1.5828276325421107!\n",
      "WARNING:pystan:Rhat for parameter log_lik[86] is 1.2561481125080944!\n",
      "WARNING:pystan:Rhat for parameter log_lik[89] is 1.2633978884105797!\n",
      "WARNING:pystan:Rhat for parameter log_lik[90] is 1.2277812459227375!\n",
      "WARNING:pystan:Rhat for parameter log_lik[92] is 1.3702595227387728!\n",
      "WARNING:pystan:Rhat for parameter log_lik[93] is 1.5630801757301307!\n",
      "WARNING:pystan:Rhat for parameter log_lik[95] is 1.163451648703161!\n",
      "WARNING:pystan:Rhat for parameter log_lik[96] is 1.3333653161543373!\n",
      "WARNING:pystan:Rhat for parameter log_lik[97] is 1.26259087202201!\n",
      "WARNING:pystan:Rhat for parameter log_lik[99] is 1.5408721064872186!\n",
      "WARNING:pystan:Rhat for parameter log_lik[100] is 1.3699064591977803!\n",
      "WARNING:pystan:Rhat for parameter log_lik[101] is 1.357522592383142!\n",
      "WARNING:pystan:Rhat for parameter log_lik[103] is 1.4373854234948196!\n",
      "WARNING:pystan:Rhat for parameter log_lik[104] is 1.557950475719956!\n",
      "WARNING:pystan:Rhat for parameter log_lik[105] is 1.203312889882753!\n",
      "WARNING:pystan:Rhat for parameter log_lik[106] is 1.1921946438511313!\n",
      "WARNING:pystan:Rhat for parameter log_lik[107] is 1.2280689384023669!\n",
      "WARNING:pystan:Rhat for parameter log_lik[108] is 1.47512286369644!\n",
      "WARNING:pystan:Rhat for parameter log_lik[109] is 1.1673517273688852!\n",
      "WARNING:pystan:Rhat for parameter log_lik[110] is 1.3234407049326367!\n",
      "WARNING:pystan:Rhat for parameter log_lik[111] is 1.4961723912275113!\n",
      "WARNING:pystan:Rhat for parameter log_lik[112] is 1.7795376450433082!\n",
      "WARNING:pystan:Rhat for parameter log_lik[113] is 1.2840018895748264!\n",
      "WARNING:pystan:Rhat for parameter log_lik[114] is 1.3328509434706484!\n",
      "WARNING:pystan:Rhat for parameter log_lik[115] is 1.212928332857406!\n",
      "WARNING:pystan:Rhat for parameter log_lik[116] is 1.183058324459577!\n",
      "WARNING:pystan:Rhat for parameter log_lik[117] is 1.6360935785966402!\n",
      "WARNING:pystan:Rhat for parameter log_lik[118] is 1.3750514867764707!\n",
      "WARNING:pystan:Rhat for parameter log_lik[120] is 1.194600354118736!\n",
      "WARNING:pystan:Rhat for parameter log_lik[121] is 1.6660239968915411!\n",
      "WARNING:pystan:Rhat for parameter log_lik[122] is 1.372597126106957!\n",
      "WARNING:pystan:Rhat for parameter log_lik[123] is 1.1257057759213445!\n",
      "WARNING:pystan:Rhat for parameter log_lik[124] is 1.1773333095544998!\n",
      "WARNING:pystan:Rhat for parameter log_lik[125] is 1.2564130210285422!\n",
      "WARNING:pystan:Rhat for parameter log_lik[127] is 1.1434272107323915!\n",
      "WARNING:pystan:Rhat for parameter log_lik[129] is 1.5980316172391063!\n",
      "WARNING:pystan:Rhat for parameter log_lik[130] is 1.5634511142454233!\n",
      "WARNING:pystan:Rhat for parameter log_lik[131] is 1.40466649088724!\n",
      "WARNING:pystan:Rhat for parameter log_lik[132] is 1.4712155201984018!\n",
      "WARNING:pystan:Rhat for parameter log_lik[133] is 1.2983216241115785!\n",
      "WARNING:pystan:Rhat for parameter log_lik[134] is 1.6505102281043111!\n",
      "WARNING:pystan:Rhat for parameter log_lik[136] is 1.1908256615870172!\n",
      "WARNING:pystan:Rhat for parameter log_lik[137] is 1.2584298694374438!\n",
      "WARNING:pystan:Rhat for parameter log_lik[138] is 1.229653133511096!\n",
      "WARNING:pystan:Rhat for parameter log_lik[140] is 1.2602315253587122!\n",
      "WARNING:pystan:Rhat for parameter log_lik[141] is 1.2668527999603312!\n",
      "WARNING:pystan:Rhat for parameter log_lik[142] is 1.4178825454570907!\n",
      "WARNING:pystan:Rhat for parameter log_lik[143] is 1.3204314606521823!\n",
      "WARNING:pystan:Rhat for parameter log_lik[144] is 1.5226342154864367!\n",
      "WARNING:pystan:Rhat for parameter log_lik[145] is 1.6353897723579287!\n",
      "WARNING:pystan:Rhat for parameter log_lik[146] is 1.5129490633552165!\n",
      "WARNING:pystan:Rhat for parameter log_lik[148] is 1.1842906786994924!\n",
      "WARNING:pystan:Rhat for parameter log_lik[150] is 1.2338814495424977!\n",
      "WARNING:pystan:Rhat for parameter log_lik[153] is 1.3311041589438941!\n",
      "WARNING:pystan:Rhat for parameter log_lik[156] is 1.3842535928359716!\n",
      "WARNING:pystan:Rhat for parameter log_lik[157] is 1.5664028489709136!\n",
      "WARNING:pystan:Rhat for parameter log_lik[158] is 1.3573393307232064!\n",
      "WARNING:pystan:Rhat for parameter log_lik[159] is 1.305962094108354!\n",
      "WARNING:pystan:Rhat for parameter log_lik[160] is 1.7054863083058034!\n",
      "WARNING:pystan:Rhat for parameter log_lik[161] is 1.254488024048823!\n",
      "WARNING:pystan:Rhat for parameter log_lik[162] is 1.752072456531862!\n",
      "WARNING:pystan:Rhat for parameter log_lik[163] is 1.7171118819364914!\n",
      "WARNING:pystan:Rhat for parameter log_lik[164] is 1.7475281336993203!\n",
      "WARNING:pystan:Rhat for parameter log_lik[166] is 2.0253577471817867!\n",
      "WARNING:pystan:Rhat for parameter log_lik[167] is 2.560497032118857!\n",
      "WARNING:pystan:Rhat for parameter log_lik[168] is 2.33401712000954!\n",
      "WARNING:pystan:Rhat for parameter log_lik[169] is 1.7680733127453714!\n",
      "WARNING:pystan:Rhat for parameter log_lik[170] is 2.8172563905491734!\n",
      "WARNING:pystan:Rhat for parameter log_lik[171] is 2.641590245554102!\n",
      "WARNING:pystan:Rhat for parameter log_lik[172] is 2.256949599552152!\n",
      "WARNING:pystan:Rhat for parameter log_lik[173] is 1.2663581009887304!\n",
      "WARNING:pystan:Rhat for parameter log_lik[174] is 1.3012986259809807!\n",
      "WARNING:pystan:Rhat for parameter log_lik[175] is 2.335615411814669!\n",
      "WARNING:pystan:Rhat for parameter log_lik[176] is 1.5071799088975264!\n",
      "WARNING:pystan:Rhat for parameter log_lik[177] is 1.3237092314462957!\n",
      "WARNING:pystan:Rhat for parameter log_lik[178] is 1.9527944894582279!\n",
      "WARNING:pystan:Rhat for parameter log_lik[179] is 2.5794036007188876!\n",
      "WARNING:pystan:Rhat for parameter log_lik[181] is 1.5863486551705819!\n",
      "WARNING:pystan:Rhat for parameter log_lik[182] is 1.8403145170357706!\n",
      "WARNING:pystan:Rhat for parameter log_lik[183] is 1.2915831656704313!\n",
      "WARNING:pystan:Rhat for parameter log_lik[184] is 1.4695176935276963!\n",
      "WARNING:pystan:Rhat for parameter log_lik[186] is 2.270573618885333!\n",
      "WARNING:pystan:Rhat for parameter log_lik[187] is 2.0929228617354867!\n",
      "WARNING:pystan:Rhat for parameter log_lik[188] is 1.6851836266470348!\n",
      "WARNING:pystan:Rhat for parameter log_lik[189] is 2.071667449042186!\n",
      "WARNING:pystan:Rhat for parameter log_lik[191] is 1.8822973995270251!\n",
      "WARNING:pystan:Rhat for parameter log_lik[193] is 1.6636616328862577!\n",
      "WARNING:pystan:Rhat for parameter log_lik[194] is 1.12297610914641!\n",
      "WARNING:pystan:Rhat for parameter log_lik[195] is 2.285970101555264!\n",
      "WARNING:pystan:Rhat for parameter log_lik[196] is 2.1926948046714747!\n",
      "WARNING:pystan:Rhat for parameter log_lik[197] is 1.7145295451954623!\n",
      "WARNING:pystan:Rhat for parameter log_lik[198] is 2.0165714198940115!\n",
      "WARNING:pystan:Rhat for parameter log_lik[199] is 1.4033981008509042!\n",
      "WARNING:pystan:Rhat for parameter log_lik[201] is 1.3569188613015946!\n",
      "WARNING:pystan:Rhat for parameter log_lik[202] is 1.7913645947506565!\n",
      "WARNING:pystan:Rhat for parameter log_lik[203] is 1.8338460315741245!\n",
      "WARNING:pystan:Rhat for parameter log_lik[204] is 1.9611239640673994!\n",
      "WARNING:pystan:Rhat for parameter log_lik[205] is 1.9883385083086849!\n",
      "WARNING:pystan:Rhat for parameter log_lik[206] is 2.41339602313071!\n",
      "WARNING:pystan:Rhat for parameter log_lik[207] is 1.208366589716412!\n",
      "WARNING:pystan:Rhat for parameter log_lik[208] is 2.3355331467256586!\n",
      "WARNING:pystan:Rhat for parameter log_lik[210] is 2.22862717863288!\n"
     ]
    },
    {
     "name": "stderr",
     "output_type": "stream",
     "text": [
      "WARNING:pystan:Rhat for parameter log_lik[211] is 1.3295273447952622!\n",
      "WARNING:pystan:Rhat for parameter log_lik[212] is 2.315667324765883!\n",
      "WARNING:pystan:Rhat for parameter log_lik[213] is 1.2050936997433879!\n",
      "WARNING:pystan:Rhat for parameter log_lik[214] is 2.154327244696899!\n",
      "WARNING:pystan:Rhat for parameter log_lik[215] is 2.780048873046518!\n",
      "WARNING:pystan:Rhat for parameter log_lik[216] is 1.3280812665985369!\n",
      "WARNING:pystan:Rhat for parameter log_lik[217] is 2.5373397964062216!\n",
      "WARNING:pystan:Rhat for parameter log_lik[218] is 2.392400076737035!\n",
      "WARNING:pystan:Rhat for parameter log_lik[220] is 2.1426048124502626!\n",
      "WARNING:pystan:Rhat for parameter lp__ is 1.4108731498751892!\n",
      "WARNING:pystan:Rhat above 1.1 or below 0.9 indicates that the chains very likely have not mixed\n"
     ]
    },
    {
     "name": "stdout",
     "output_type": "stream",
     "text": [
      "Rhat check :  False\n"
     ]
    },
    {
     "name": "stderr",
     "output_type": "stream",
     "text": [
      "WARNING:pystan:543 of 1000 iterations ended with a divergence (54.3%).\n",
      "WARNING:pystan:Try running with adapt_delta larger than 0.8 to remove the divergences.\n"
     ]
    },
    {
     "name": "stdout",
     "output_type": "stream",
     "text": [
      "N_eff check :  True\n",
      "Divergence check:  False\n"
     ]
    }
   ],
   "source": [
    "print(\"Rhat check : \",pystan.diagnostics.check_rhat(varying_intercept_slope_fit))\n",
    "print(\"N_eff check : \",pystan.diagnostics.check_n_eff(varying_intercept_slope_fit))\n",
    "print(\"Divergence check: \", pystan.diagnostics.check_div(varying_intercept_slope_fit))"
   ]
  },
  {
   "cell_type": "code",
   "execution_count": 92,
   "metadata": {},
   "outputs": [
    {
     "data": {
      "image/png": "[encoded data removed]",
      "text/plain": [
       "<Figure size 1008x360 with 1 Axes>"
      ]
     },
     "metadata": {},
     "output_type": "display_data"
    },
    {
     "data": {
      "image/png": "[encoded data removed]",
      "text/plain": [
       "<Figure size 1008x360 with 1 Axes>"
      ]
     },
     "metadata": {},
     "output_type": "display_data"
    }
   ],
   "source": [
    "sns.set(style=\"ticks\")\n",
    "\n",
    "a_sample = pd.DataFrame(varying_intercept_slope_sample['alpha'])\n",
    "plt.figure(figsize=(14, 5))\n",
    "sns.boxplot(data=a_sample, whis=np.inf, color=\"b\")\n",
    "plt.title(\"Samples of intercept per borough\")\n",
    "plt.show()\n",
    "\n",
    "b_sample = pd.DataFrame(varying_intercept_slope_sample['beta'])\n",
    "plt.figure(figsize=(14, 5))\n",
    "sns.boxplot(data=b_sample, whis=np.inf, color = 'g')\n",
    "plt.title(\"Samples of slope per borough\")\n",
    "plt.show()\n"
   ]
  },
  {
   "cell_type": "code",
   "execution_count": 93,
   "metadata": {},
   "outputs": [
    {
     "data": {
      "image/png": "[encoded data removed]",
      "text/plain": [
       "<Figure size 432x288 with 1 Axes>"
      ]
     },
     "metadata": {},
     "output_type": "display_data"
    }
   ],
   "source": [
    "xvals = np.arange(2)\n",
    "b = varying_intercept_slope_fit['alpha'].mean(axis=0)\n",
    "m = varying_intercept_slope_fit['beta'].mean(axis=0)\n",
    "for bi,mi in zip(b,m):\n",
    "    plt.plot(xvals, mi*xvals + bi, 'bo-', alpha=0.4)\n",
    "plt.xlim(-0.1, 1.1);"
   ]
  },
  {
   "cell_type": "code",
   "execution_count": 94,
   "metadata": {},
   "outputs": [
    {
     "name": "stdout",
     "output_type": "stream",
     "text": [
      "psisloo:  128.84553073286884\n",
      "p_eff:  6.931903938751532\n"
     ]
    },
    {
     "data": {
      "image/png": "[encoded data removed]",
      "text/plain": [
       "<Figure size 432x288 with 1 Axes>"
      ]
     },
     "metadata": {},
     "output_type": "display_data"
    }
   ],
   "source": [
    "loglik = (varying_intercept_slope_sample[\"log_lik\"])\n",
    "psisloo = stanity.psisloo(loglik)\n",
    "print(\"psisloo: \",psisloo.elpd)\n",
    "psisloo.plot()\n",
    "lppd_pooled = 0 \n",
    "for i in range (Y_train.shape[0]):\n",
    "    lppd_pooled = lppd_pooled + np.log(np.mean(np.exp(loglik[:,i])))\n",
    "\n",
    "peff_pooled = np.sum(lppd_pooled) - psisloo.elpd\n",
    "print(\"p_eff: \", peff_pooled)"
   ]
  },
  {
   "cell_type": "code",
   "execution_count": 95,
   "metadata": {},
   "outputs": [
    {
     "data": {
      "text/plain": [
       "greater than 0.5    0.045455\n",
       "greater than 1      0.009091\n",
       "dtype: float64"
      ]
     },
     "execution_count": 95,
     "metadata": {},
     "output_type": "execute_result"
    }
   ],
   "source": [
    "psisloo.print_summary()"
   ]
  },
  {
   "cell_type": "code",
   "execution_count": null,
   "metadata": {},
   "outputs": [],
   "source": [
    "#Predict y_pred, not in use because model not diverge\n",
    "\"\"\"y_pred = []\n",
    "for i in range(len(Y_test)):\n",
    "    boroughindx = X_test.Borough[i] \n",
    "    y_pred.append(b[boroughindx] + m[boroughindx]*X_test.Enrollment[i])\n",
    "print(round(MAE(Y_test, y_pred),3))\n",
    "round(MSE(Y_test, y_pred),3)\n",
    "plt.hist(y_pred, bins = 20)\n",
    "\"\"\""
   ]
  },
  {
   "cell_type": "markdown",
   "metadata": {},
   "source": [
    "## Hierarchical model"
   ]
  },
  {
   "cell_type": "code",
   "execution_count": null,
   "metadata": {},
   "outputs": [],
   "source": [
    "hierarchical_code = \"\"\"\n",
    "data {\n",
    "    int<lower=1> N;\n",
    "    int<lower=1> K;\n",
    "    matrix[N, K] y;\n",
    "}\n",
    "parameters {\n",
    "    real mu0;\n",
    "    real<lower=0> sigma0;\n",
    "    vector[K] mu;\n",
    "    real<lower=0> sigma;\n",
    "}\n",
    "model {\n",
    "    for (j in 1:K){\n",
    "        mu[j] ~ normal(mu0, sigma0);\n",
    "        y[:,j] ~ normal(mu[j], sigma);\n",
    "     }\n",
    "}\n",
    "generated quantities {\n",
    "    real mupred;\n",
    "    mupred <- normal_rng(mu0, sigma0);\n",
    "}\n",
    "\"\"\""
   ]
  },
  {
   "cell_type": "code",
   "execution_count": null,
   "metadata": {},
   "outputs": [],
   "source": [
    "data = []\n",
    "for s in i_boroughs:\n",
    "    np.random.shuffle(s)\n",
    "    s = s[:min_len]\n",
    "    data.append(Y.iloc[s])"
   ]
  },
  {
   "cell_type": "code",
   "execution_count": null,
   "metadata": {},
   "outputs": [],
   "source": [
    "data = np.array(data)"
   ]
  },
  {
   "cell_type": "code",
   "execution_count": null,
   "metadata": {},
   "outputs": [],
   "source": [
    "y_test = np.log(test_df.math)\n",
    "\n",
    "data_hierarchical = {\n",
    "    'N': data.shape[0],\n",
    "    'K': data.shape[1],\n",
    "    'y': data\n",
    "}\n",
    "\n",
    "fit_hierarchical = pystan.stan(model_code = hierarchical_code, data = data_hierarchical, iter=2000, chains=2)\n",
    "mu_pred = np.mean(fit_hierarchical['mupred'])\n",
    "sigma_pred = np.mean(fit_hierarchical['sigma'])\n",
    "mu_ytest = np.mean(y_test)\n",
    "sigma_ytest = np.std(y_test)\n",
    "y_norm = (y_test - mu_ytest)/sigma_ytest\n",
    "y_pred = (y_norm * sigma_pred) + mu_pred"
   ]
  },
  {
   "cell_type": "code",
   "execution_count": null,
   "metadata": {
    "scrolled": true
   },
   "outputs": [],
   "source": [
    "print(\"Rhat check : \",pystan.diagnostics.check_rhat(fit_hierarchical))\n",
    "print(\"N_eff check : \",pystan.diagnostics.check_n_eff(fit_hierarchical))\n",
    "print(\"Divergence check: \", pystan.diagnostics.check_div(fit_hierarchical))"
   ]
  }
 ],
 "metadata": {
  "kernelspec": {
   "display_name": "Python 3",
   "language": "python",
   "name": "python3"
  },
  "language_info": {
   "codemirror_mode": {
    "name": "ipython",
    "version": 3
   },
   "file_extension": ".py",
   "mimetype": "text/x-python",
   "name": "python",
   "nbconvert_exporter": "python",
   "pygments_lexer": "ipython3",
   "version": "3.6.5"
  }
 },
 "nbformat": 4,
 "nbformat_minor": 2
}
